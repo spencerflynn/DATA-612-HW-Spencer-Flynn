{
  "nbformat": 4,
  "nbformat_minor": 0,
  "metadata": {
    "colab": {
      "name": "DATA 612 - HW6 - Spencer Flynn",
      "provenance": [],
      "collapsed_sections": [],
      "include_colab_link": true
    },
    "kernelspec": {
      "name": "python3",
      "display_name": "Python 3"
    }
  },
  "cells": [
    {
      "cell_type": "markdown",
      "metadata": {
        "id": "view-in-github",
        "colab_type": "text"
      },
      "source": [
        "<a href=\"https://colab.research.google.com/github/thoreau024/DATA-612-HW-Spencer-Flynn/blob/main/DATA_612_HW6_Spencer_Flynn.ipynb\" target=\"_parent\"><img src=\"https://colab.research.google.com/assets/colab-badge.svg\" alt=\"Open In Colab\"/></a>"
      ]
    },
    {
      "cell_type": "markdown",
      "metadata": {
        "id": "itDxvmaoOgOI"
      },
      "source": [
        "# Assignment for Week 6      \n",
        "(Chapter 8 & 9)"
      ]
    },
    {
      "cell_type": "markdown",
      "metadata": {
        "id": "TzDuUf45Ow3f"
      },
      "source": [
        "## Action Items:       \n",
        "•\tWorking with strings.\n",
        "1. Clean a column on your data set using \n",
        "regular expression methods.      \n",
        "2. Store the cleaned column into another column of your data set and call it “your_col_name_cleaned”.     \n",
        "\n",
        "  *Another data set will be provided if your data set is not appropriate to apply regular expression methods.        \n"
      ]
    },
    {
      "cell_type": "code",
      "metadata": {
        "id": "270Cya_fTdow"
      },
      "source": [
        "import statistics\n",
        "from scipy import stats\n",
        "import pandas as pd\n",
        "import numpy as np\n",
        "import re as re\n",
        "df = pd.read_csv('https://raw.githubusercontent.com/frankData612/data_612/master/State_Drug_Utilization_Data_2010/State_Drug_Utilization_Data_2010.csv').dropna()\n"
      ],
      "execution_count": 8,
      "outputs": []
    },
    {
      "cell_type": "code",
      "metadata": {
        "id": "OcMXJ-0OTiAA"
      },
      "source": [
        "\n",
        "def checking_valid_dates(dt):\n",
        "      \n",
        "    # creating regular expression to check whether date fall in the format mm-dd-yyyy\n",
        "    result = re.findall(r'\\b(1[0-2]|0[1-9])/(3[01]|[12][0-9]|0[1-9])/([0-9]{4})\\b', dt)\n",
        "    return result\n",
        "  \n",
        "  \n",
        "# creating new column with valid_date_of_birth\n",
        "df['Validated Date'] = df['Quarter Begin Date'].apply(lambda dt: checking_valid_dates(dt))"
      ],
      "execution_count": 2,
      "outputs": []
    },
    {
      "cell_type": "markdown",
      "metadata": {
        "id": "8pGC8nl_-i3c"
      },
      "source": [
        "•\tUse of .apply() \n",
        "\n",
        "1.   Create a function that returns the mean, sum, mode, median, and range (separately)      \n",
        "2.   Run the function into your chosen data set using the .apply() method.     \n",
        "3.   Post your work on GitHub"
      ]
    },
    {
      "cell_type": "code",
      "metadata": {
        "id": "4pwIzzxX-m8N"
      },
      "source": [
        "matrix = [(222),\n",
        "         (333),\n",
        "         (444),\n",
        "         (555),\n",
        "         (666),\n",
        "         (777),\n",
        "          (888),\n",
        "          (333)\n",
        "]\n",
        "# Create a DataFrame object\n",
        "dfObj = pd.DataFrame(matrix, columns=list('A'))"
      ],
      "execution_count": 3,
      "outputs": []
    },
    {
      "cell_type": "code",
      "metadata": {
        "id": "7vwyZRGl-uCy"
      },
      "source": [
        "def msmmr(x):\n",
        "  result = {'Mean' : np.mean(x),'Sum' : np.sum(x),'Mode' : stats.mode(x),'Median' : np.median(x),'Range' : (max(x)-min(x))}\n",
        "  \n",
        "  return print(result)"
      ],
      "execution_count": 4,
      "outputs": []
    },
    {
      "cell_type": "code",
      "metadata": {
        "colab": {
          "base_uri": "https://localhost:8080/"
        },
        "id": "xYiSFP2B-v8G",
        "outputId": "260deb91-83ee-4a4d-f258-138419f7cf82"
      },
      "source": [
        "dfObj.apply(msmmr)"
      ],
      "execution_count": 9,
      "outputs": [
        {
          "output_type": "stream",
          "text": [
            "{'Mean': 527.25, 'Sum': 4218, 'Mode': ModeResult(mode=array([333]), count=array([2])), 'Median': 499.5, 'Range': 666}\n"
          ],
          "name": "stdout"
        },
        {
          "output_type": "execute_result",
          "data": {
            "text/plain": [
              "A    None\n",
              "dtype: object"
            ]
          },
          "metadata": {
            "tags": []
          },
          "execution_count": 9
        }
      ]
    },
    {
      "cell_type": "code",
      "metadata": {
        "id": "3cCc_-vY-8L7"
      },
      "source": [
        ""
      ],
      "execution_count": null,
      "outputs": []
    }
  ]
}
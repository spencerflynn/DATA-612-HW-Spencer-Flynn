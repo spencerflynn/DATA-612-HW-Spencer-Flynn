{
  "nbformat": 4,
  "nbformat_minor": 0,
  "metadata": {
    "colab": {
      "name": "DATA 612 - HW 1 - Spencer Flynn",
      "provenance": [],
      "collapsed_sections": [],
      "include_colab_link": true
    },
    "kernelspec": {
      "name": "python3",
      "display_name": "Python 3"
    }
  },
  "cells": [
    {
      "cell_type": "markdown",
      "metadata": {
        "id": "view-in-github",
        "colab_type": "text"
      },
      "source": [
        "<a href=\"https://colab.research.google.com/github/thoreau024/DATA-612-HW1/blob/main/DATA_612_HW_1_Spencer_Flynn.ipynb\" target=\"_parent\"><img src=\"https://colab.research.google.com/assets/colab-badge.svg\" alt=\"Open In Colab\"/></a>"
      ]
    },
    {
      "cell_type": "markdown",
      "metadata": {
        "id": "AfEUM8RW3Njt"
      },
      "source": [
        "# Assignment for Week 1    \n"
      ]
    },
    {
      "cell_type": "markdown",
      "metadata": {
        "id": "uXfHJZ0D3K8p"
      },
      "source": [
        "## Purpose:      \n",
        "This assignment is intended to help you do the following:       \n",
        "1.\tOpen a GitHub account for your own use and for your career advancement (if you already do not have one).     \n",
        "2.\tSubmit information and code in GitHub following best practices from the Udacity course.     \n",
        "3.\tExplore a dataset thoroughly.      \n",
        "4.\tFind and print descriptive information from the dataset.        \n"
      ]
    },
    {
      "cell_type": "markdown",
      "metadata": {
        "id": "DpWCrf_Q4OV3"
      },
      "source": [
        "## Action Items:           \n",
        "Open a GitHub account to submit your work. If you are new to GitHub, follow the videos and instructions on the following link to understand how to post things on GitHub and start your own account. https://blog.udacity.com/2015/06/a-beginners-git-github-tutorial.html and/or https://guides.github.com/activities/hello-world/     \n",
        "\n",
        "1.   Select the dataset of your choice from the list \n",
        "provided <a href=\"https://github.com/frankData612/data_612\">here.</a>   \n",
        "2.   Load the dataset using Jupyter notebook and explore the data by using the following.\n",
        "\n",
        "\n",
        "-\tShow the .head() and .tail() of the data set. Specify the number of rows to print using .head() and .tail().      \n",
        "-\tPrint the column names.      \n",
        "-\tPrint to see what is the type of your data set    \n",
        "-\tCheck number of rows and columns.\n",
        "-\tUse groupby() and find the mean on your selected colum/s.\n",
        "-\tAdd a README file in GitHub where you explain everything you did.\n"
      ]
    },
    {
      "cell_type": "code",
      "metadata": {
        "id": "AHM-dPDYDvdm"
      },
      "source": [
        "import pandas as pd\n",
        "#Select the dataset of your choice from the list provided here.\n",
        "df = pd.read_csv('https://raw.githubusercontent.com/frankData612/data_612/master/State_Drug_Utilization_Data_2010/State_Drug_Utilization_Data_2010.csv')"
      ],
      "execution_count": 78,
      "outputs": []
    },
    {
      "cell_type": "code",
      "metadata": {
        "colab": {
          "base_uri": "https://localhost:8080/",
          "height": 264
        },
        "id": "AHFfBSxJFiF_",
        "outputId": "3a3f091c-bae4-4023-8648-f66daf26360b"
      },
      "source": [
        "df.head(3)"
      ],
      "execution_count": 79,
      "outputs": [
        {
          "output_type": "execute_result",
          "data": {
            "text/html": [
              "<div>\n",
              "<style scoped>\n",
              "    .dataframe tbody tr th:only-of-type {\n",
              "        vertical-align: middle;\n",
              "    }\n",
              "\n",
              "    .dataframe tbody tr th {\n",
              "        vertical-align: top;\n",
              "    }\n",
              "\n",
              "    .dataframe thead th {\n",
              "        text-align: right;\n",
              "    }\n",
              "</style>\n",
              "<table border=\"1\" class=\"dataframe\">\n",
              "  <thead>\n",
              "    <tr style=\"text-align: right;\">\n",
              "      <th></th>\n",
              "      <th>Unnamed: 0</th>\n",
              "      <th>Utilization Type</th>\n",
              "      <th>State</th>\n",
              "      <th>Labeler Code</th>\n",
              "      <th>Product Code</th>\n",
              "      <th>Package Size</th>\n",
              "      <th>Year</th>\n",
              "      <th>Quarter</th>\n",
              "      <th>Product Name</th>\n",
              "      <th>Units Reimbursed</th>\n",
              "      <th>Suppression Used</th>\n",
              "      <th>Number of Prescriptions</th>\n",
              "      <th>Total Amount Reimbursed</th>\n",
              "      <th>Medicaid Amount Reimbursed</th>\n",
              "      <th>Non Medicaid Amount Reimbursed</th>\n",
              "      <th>Quarter Begin</th>\n",
              "      <th>Quarter Begin Date</th>\n",
              "      <th>Latitude</th>\n",
              "      <th>Longitude</th>\n",
              "      <th>Location</th>\n",
              "      <th>NDC</th>\n",
              "    </tr>\n",
              "  </thead>\n",
              "  <tbody>\n",
              "    <tr>\n",
              "      <th>0</th>\n",
              "      <td>128037</td>\n",
              "      <td>MCOU</td>\n",
              "      <td>MA</td>\n",
              "      <td>37205</td>\n",
              "      <td>137</td>\n",
              "      <td>5</td>\n",
              "      <td>2010</td>\n",
              "      <td>4</td>\n",
              "      <td>ARTIFICIAL</td>\n",
              "      <td>15.0</td>\n",
              "      <td>False</td>\n",
              "      <td>1</td>\n",
              "      <td>4.08</td>\n",
              "      <td>4.08</td>\n",
              "      <td>0.0</td>\n",
              "      <td>10/1</td>\n",
              "      <td>10/01/2010</td>\n",
              "      <td>31.1801</td>\n",
              "      <td>-91.8749</td>\n",
              "      <td>(31.1801, -91.8749)</td>\n",
              "      <td>37205013705</td>\n",
              "    </tr>\n",
              "    <tr>\n",
              "      <th>1</th>\n",
              "      <td>491755</td>\n",
              "      <td>FFSU</td>\n",
              "      <td>FL</td>\n",
              "      <td>62756</td>\n",
              "      <td>763</td>\n",
              "      <td>88</td>\n",
              "      <td>2010</td>\n",
              "      <td>1</td>\n",
              "      <td>TORSEMIDE</td>\n",
              "      <td>255.0</td>\n",
              "      <td>False</td>\n",
              "      <td>8</td>\n",
              "      <td>103.33</td>\n",
              "      <td>103.33</td>\n",
              "      <td>0.0</td>\n",
              "      <td>1/1</td>\n",
              "      <td>01/01/2010</td>\n",
              "      <td>39.3498</td>\n",
              "      <td>-75.5148</td>\n",
              "      <td>(39.3498, -75.5148)</td>\n",
              "      <td>62756076388</td>\n",
              "    </tr>\n",
              "    <tr>\n",
              "      <th>2</th>\n",
              "      <td>2568076</td>\n",
              "      <td>FFSU</td>\n",
              "      <td>UT</td>\n",
              "      <td>46987</td>\n",
              "      <td>323</td>\n",
              "      <td>11</td>\n",
              "      <td>2010</td>\n",
              "      <td>2</td>\n",
              "      <td>Kadian Ora</td>\n",
              "      <td>120.0</td>\n",
              "      <td>False</td>\n",
              "      <td>2</td>\n",
              "      <td>905.24</td>\n",
              "      <td>905.24</td>\n",
              "      <td>0.0</td>\n",
              "      <td>4/1</td>\n",
              "      <td>04/01/2010</td>\n",
              "      <td>44.2853</td>\n",
              "      <td>-99.4632</td>\n",
              "      <td>(44.2853, -99.4632)</td>\n",
              "      <td>46987032311</td>\n",
              "    </tr>\n",
              "  </tbody>\n",
              "</table>\n",
              "</div>"
            ],
            "text/plain": [
              "   Unnamed: 0 Utilization Type  ...             Location          NDC\n",
              "0      128037             MCOU  ...  (31.1801, -91.8749)  37205013705\n",
              "1      491755             FFSU  ...  (39.3498, -75.5148)  62756076388\n",
              "2     2568076             FFSU  ...  (44.2853, -99.4632)  46987032311\n",
              "\n",
              "[3 rows x 21 columns]"
            ]
          },
          "metadata": {
            "tags": []
          },
          "execution_count": 79
        }
      ]
    },
    {
      "cell_type": "code",
      "metadata": {
        "colab": {
          "base_uri": "https://localhost:8080/",
          "height": 264
        },
        "id": "B-OYGQ9yFhuk",
        "outputId": "264f1324-153f-485c-81d3-0df481cebda6"
      },
      "source": [
        "df.tail(3)"
      ],
      "execution_count": 80,
      "outputs": [
        {
          "output_type": "execute_result",
          "data": {
            "text/html": [
              "<div>\n",
              "<style scoped>\n",
              "    .dataframe tbody tr th:only-of-type {\n",
              "        vertical-align: middle;\n",
              "    }\n",
              "\n",
              "    .dataframe tbody tr th {\n",
              "        vertical-align: top;\n",
              "    }\n",
              "\n",
              "    .dataframe thead th {\n",
              "        text-align: right;\n",
              "    }\n",
              "</style>\n",
              "<table border=\"1\" class=\"dataframe\">\n",
              "  <thead>\n",
              "    <tr style=\"text-align: right;\">\n",
              "      <th></th>\n",
              "      <th>Unnamed: 0</th>\n",
              "      <th>Utilization Type</th>\n",
              "      <th>State</th>\n",
              "      <th>Labeler Code</th>\n",
              "      <th>Product Code</th>\n",
              "      <th>Package Size</th>\n",
              "      <th>Year</th>\n",
              "      <th>Quarter</th>\n",
              "      <th>Product Name</th>\n",
              "      <th>Units Reimbursed</th>\n",
              "      <th>Suppression Used</th>\n",
              "      <th>Number of Prescriptions</th>\n",
              "      <th>Total Amount Reimbursed</th>\n",
              "      <th>Medicaid Amount Reimbursed</th>\n",
              "      <th>Non Medicaid Amount Reimbursed</th>\n",
              "      <th>Quarter Begin</th>\n",
              "      <th>Quarter Begin Date</th>\n",
              "      <th>Latitude</th>\n",
              "      <th>Longitude</th>\n",
              "      <th>Location</th>\n",
              "      <th>NDC</th>\n",
              "    </tr>\n",
              "  </thead>\n",
              "  <tbody>\n",
              "    <tr>\n",
              "      <th>156217</th>\n",
              "      <td>815768</td>\n",
              "      <td>MCOU</td>\n",
              "      <td>MD</td>\n",
              "      <td>60432</td>\n",
              "      <td>133</td>\n",
              "      <td>25</td>\n",
              "      <td>2010</td>\n",
              "      <td>4</td>\n",
              "      <td>CLOBETASOL</td>\n",
              "      <td>75.0</td>\n",
              "      <td>False</td>\n",
              "      <td>3</td>\n",
              "      <td>32.24</td>\n",
              "      <td>30.24</td>\n",
              "      <td>2.00</td>\n",
              "      <td>10/1</td>\n",
              "      <td>10/01/2010</td>\n",
              "      <td>42.2373</td>\n",
              "      <td>-71.5314</td>\n",
              "      <td>(42.2373, -71.5314)</td>\n",
              "      <td>60432013325</td>\n",
              "    </tr>\n",
              "    <tr>\n",
              "      <th>156218</th>\n",
              "      <td>2029158</td>\n",
              "      <td>FFSU</td>\n",
              "      <td>DE</td>\n",
              "      <td>88</td>\n",
              "      <td>1109</td>\n",
              "      <td>47</td>\n",
              "      <td>2010</td>\n",
              "      <td>4</td>\n",
              "      <td>ALLEGRA (F</td>\n",
              "      <td>60.0</td>\n",
              "      <td>False</td>\n",
              "      <td>2</td>\n",
              "      <td>152.68</td>\n",
              "      <td>146.68</td>\n",
              "      <td>6.00</td>\n",
              "      <td>10/1</td>\n",
              "      <td>10/01/2010</td>\n",
              "      <td>38.8964</td>\n",
              "      <td>-77.0262</td>\n",
              "      <td>(38.8964, -77.0262)</td>\n",
              "      <td>88110947</td>\n",
              "    </tr>\n",
              "    <tr>\n",
              "      <th>156219</th>\n",
              "      <td>2799238</td>\n",
              "      <td>FFSU</td>\n",
              "      <td>DE</td>\n",
              "      <td>29</td>\n",
              "      <td>1527</td>\n",
              "      <td>25</td>\n",
              "      <td>2010</td>\n",
              "      <td>1</td>\n",
              "      <td>BACTROBAN(</td>\n",
              "      <td>360.0</td>\n",
              "      <td>False</td>\n",
              "      <td>12</td>\n",
              "      <td>896.33</td>\n",
              "      <td>705.82</td>\n",
              "      <td>190.51</td>\n",
              "      <td>1/1</td>\n",
              "      <td>01/01/2010</td>\n",
              "      <td>38.8964</td>\n",
              "      <td>-77.0262</td>\n",
              "      <td>(38.8964, -77.0262)</td>\n",
              "      <td>29152725</td>\n",
              "    </tr>\n",
              "  </tbody>\n",
              "</table>\n",
              "</div>"
            ],
            "text/plain": [
              "        Unnamed: 0 Utilization Type  ...             Location          NDC\n",
              "156217      815768             MCOU  ...  (42.2373, -71.5314)  60432013325\n",
              "156218     2029158             FFSU  ...  (38.8964, -77.0262)     88110947\n",
              "156219     2799238             FFSU  ...  (38.8964, -77.0262)     29152725\n",
              "\n",
              "[3 rows x 21 columns]"
            ]
          },
          "metadata": {
            "tags": []
          },
          "execution_count": 80
        }
      ]
    },
    {
      "cell_type": "code",
      "metadata": {
        "colab": {
          "base_uri": "https://localhost:8080/"
        },
        "id": "zkFUKJn_FhVL",
        "outputId": "c554a41e-da28-479d-d026-5254925d6830"
      },
      "source": [
        "df.columns"
      ],
      "execution_count": 81,
      "outputs": [
        {
          "output_type": "execute_result",
          "data": {
            "text/plain": [
              "Index(['Unnamed: 0', 'Utilization Type', 'State', 'Labeler Code',\n",
              "       'Product Code', 'Package Size', 'Year', 'Quarter', 'Product Name',\n",
              "       'Units Reimbursed', 'Suppression Used', 'Number of Prescriptions',\n",
              "       'Total Amount Reimbursed', 'Medicaid Amount Reimbursed',\n",
              "       'Non Medicaid Amount Reimbursed', 'Quarter Begin', 'Quarter Begin Date',\n",
              "       'Latitude', 'Longitude', 'Location', 'NDC'],\n",
              "      dtype='object')"
            ]
          },
          "metadata": {
            "tags": []
          },
          "execution_count": 81
        }
      ]
    },
    {
      "cell_type": "code",
      "metadata": {
        "colab": {
          "base_uri": "https://localhost:8080/"
        },
        "id": "yxbni1shJyQl",
        "outputId": "fc3dbdcc-6167-4fb3-8f3f-6ce1c9feddc7"
      },
      "source": [
        "df.info()"
      ],
      "execution_count": 82,
      "outputs": [
        {
          "output_type": "stream",
          "text": [
            "<class 'pandas.core.frame.DataFrame'>\n",
            "RangeIndex: 156220 entries, 0 to 156219\n",
            "Data columns (total 21 columns):\n",
            " #   Column                          Non-Null Count   Dtype  \n",
            "---  ------                          --------------   -----  \n",
            " 0   Unnamed: 0                      156220 non-null  int64  \n",
            " 1   Utilization Type                156220 non-null  object \n",
            " 2   State                           156220 non-null  object \n",
            " 3   Labeler Code                    156220 non-null  int64  \n",
            " 4   Product Code                    156220 non-null  int64  \n",
            " 5   Package Size                    156220 non-null  int64  \n",
            " 6   Year                            156220 non-null  int64  \n",
            " 7   Quarter                         156220 non-null  int64  \n",
            " 8   Product Name                    156166 non-null  object \n",
            " 9   Units Reimbursed                156220 non-null  float64\n",
            " 10  Suppression Used                156220 non-null  bool   \n",
            " 11  Number of Prescriptions         156220 non-null  int64  \n",
            " 12  Total Amount Reimbursed         156220 non-null  float64\n",
            " 13  Medicaid Amount Reimbursed      156220 non-null  float64\n",
            " 14  Non Medicaid Amount Reimbursed  156220 non-null  float64\n",
            " 15  Quarter Begin                   156220 non-null  object \n",
            " 16  Quarter Begin Date              156220 non-null  object \n",
            " 17  Latitude                        145416 non-null  float64\n",
            " 18  Longitude                       145416 non-null  float64\n",
            " 19  Location                        145416 non-null  object \n",
            " 20  NDC                             156220 non-null  int64  \n",
            "dtypes: bool(1), float64(6), int64(8), object(6)\n",
            "memory usage: 24.0+ MB\n"
          ],
          "name": "stdout"
        }
      ]
    },
    {
      "cell_type": "code",
      "metadata": {
        "colab": {
          "base_uri": "https://localhost:8080/"
        },
        "id": "2Dp_hT2ZFmko",
        "outputId": "32ff7ac1-e60e-4c77-dd32-7169a5cd581f"
      },
      "source": [
        "df.shape"
      ],
      "execution_count": 83,
      "outputs": [
        {
          "output_type": "execute_result",
          "data": {
            "text/plain": [
              "(156220, 21)"
            ]
          },
          "metadata": {
            "tags": []
          },
          "execution_count": 83
        }
      ]
    },
    {
      "cell_type": "code",
      "metadata": {
        "colab": {
          "base_uri": "https://localhost:8080/"
        },
        "id": "RoZK2kTgKc0B",
        "outputId": "1a6118c6-bdaa-4f7e-9fff-a2b4d6df00cd"
      },
      "source": [
        "df.groupby('Location')['Number of Prescriptions'].mean()"
      ],
      "execution_count": 86,
      "outputs": [
        {
          "output_type": "execute_result",
          "data": {
            "text/plain": [
              "Location\n",
              "(14.2417, -170.7197)    127.001769\n",
              "(14.8058, 145.5505)      25.811543\n",
              "(18.0001, -64.8199)     136.927561\n",
              "(18.2766, -66.335)       24.370053\n",
              "(21.1098, -157.5311)     99.471346\n",
              "(27.8333, -81.717)      206.223196\n",
              "(31.106, -97.6475)       41.332192\n",
              "(31.1801, -91.8749)     203.971945\n",
              "(32.7673, -89.6812)     272.866933\n",
              "(32.799, -86.8073)      157.579931\n",
              "(32.9866, -83.6487)      75.785784\n",
              "(33.7712, -111.3877)    375.519322\n",
              "(33.8191, -80.9066)     664.153526\n",
              "(34.8375, -106.2371)    826.832355\n",
              "(34.9513, -92.3809)     111.283124\n",
              "(35.5376, -96.9247)     155.683013\n",
              "(35.6411, -79.8431)      60.541899\n",
              "(35.7449, -86.7489)     116.293279\n",
              "(36.17, -119.7462)       80.875000\n",
              "(37.669, -84.6514)      221.485499\n",
              "(37.768, -78.2057)      211.407905\n",
              "(38.4199, -117.1219)    476.512353\n",
              "(38.4623, -92.302)      107.818493\n",
              "(38.5111, -96.8005)     130.048473\n",
              "(38.8964, -77.0262)      55.308199\n",
              "(39.0646, -105.3272)    116.824053\n",
              "(39.0724, -76.7902)      88.792571\n",
              "(39.3498, -75.5148)     200.417330\n",
              "(39.8647, -86.2604)      46.513686\n",
              "(40.1135, -111.8535)    109.811250\n",
              "(40.314, -74.5089)       35.759056\n",
              "(40.3363, -89.0022)     179.613321\n",
              "(40.3736, -82.7755)      68.720535\n",
              "(40.5773, -77.264)       66.271042\n",
              "(41.1289, -98.2883)      85.264864\n",
              "(41.5834, -72.7622)      34.203146\n",
              "(41.6772, -71.5101)     200.465423\n",
              "(42.0046, -93.214)       48.712156\n",
              "(42.1497, -74.9384)     120.092398\n",
              "(42.2373, -71.5314)      77.719033\n",
              "(43.3504, -84.5603)      71.900102\n",
              "(43.4108, -71.5653)      85.002801\n",
              "(44.0407, -72.7093)      20.690031\n",
              "(44.2394, -114.5103)    380.208102\n",
              "(44.2853, -99.4632)      63.815881\n",
              "(44.5672, -122.1269)     25.979100\n",
              "(44.6074, -69.3977)     145.902327\n",
              "(45.7326, -93.9196)     225.037850\n",
              "(46.9048, -110.3261)     22.484375\n",
              "(47.5362, -99.793)       39.679090\n",
              "(61.385, -152.2683)      29.119737\n",
              "Name: Number of Prescriptions, dtype: float64"
            ]
          },
          "metadata": {
            "tags": []
          },
          "execution_count": 86
        }
      ]
    }
  ]
}
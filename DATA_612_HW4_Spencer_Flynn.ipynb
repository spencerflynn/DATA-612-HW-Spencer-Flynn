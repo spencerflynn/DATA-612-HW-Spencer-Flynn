{
  "nbformat": 4,
  "nbformat_minor": 0,
  "metadata": {
    "colab": {
      "name": "DATA 612 - HW4 - Spencer Flynn.ipynb",
      "provenance": [],
      "include_colab_link": true
    },
    "kernelspec": {
      "name": "python3",
      "display_name": "Python 3"
    }
  },
  "cells": [
    {
      "cell_type": "markdown",
      "metadata": {
        "id": "view-in-github",
        "colab_type": "text"
      },
      "source": [
        "<a href=\"https://colab.research.google.com/github/thoreau024/DATA-612-HW-Spencer-Flynn/blob/main/DATA_612_HW4_Spencer_Flynn.ipynb\" target=\"_parent\"><img src=\"https://colab.research.google.com/assets/colab-badge.svg\" alt=\"Open In Colab\"/></a>"
      ]
    },
    {
      "cell_type": "markdown",
      "metadata": {
        "id": "ieZzcgQQKck4"
      },
      "source": [
        "# Assignment for Week 4      \n",
        "(Chapter 4 & 5)"
      ]
    },
    {
      "cell_type": "markdown",
      "metadata": {
        "id": "tLuHjR9xKniP"
      },
      "source": [
        "## Purpose:         \n",
        "This assignment is intended to help you do the following:\n",
        "1.\tFamiliarize with merging datasets together\n",
        "2.\tLearn how to identify missing data from a dataset\n",
        "3.\tHandle the missing data from the dataset\n"
      ]
    },
    {
      "cell_type": "markdown",
      "metadata": {
        "id": "GeOmQFNKK4Nm"
      },
      "source": [
        "## Action Items:\n",
        "•\tMerge other data to your selected data set.    \n",
        "1. Find another data set, series, text data or a column from another data source and merge with your selected data set.      \n",
        "2. Identify the missing values on your data set. Count the missing values on your data set and then clean your data set from the missing values.       \n",
        "3. Post your work on GitHub     \n",
        "4. Add a README\n"
      ]
    },
    {
      "cell_type": "markdown",
      "metadata": {
        "id": "fYzXU3IK8Wx4"
      },
      "source": [
        "import libraries and dataframes"
      ]
    },
    {
      "cell_type": "code",
      "metadata": {
        "id": "GvxeKpRR8YWJ"
      },
      "source": [
        " import pandas as pd\n",
        "\n",
        "df1 = pd.read_csv('https://raw.githubusercontent.com/franklin-univ-data-science/data/master/customers.csv')\n",
        "df2 = pd.read_csv('https://raw.githubusercontent.com/franklin-univ-data-science/data/master/fruit.csv')"
      ],
      "execution_count": 52,
      "outputs": []
    },
    {
      "cell_type": "code",
      "metadata": {
        "id": "iiWM2Kts-M6p"
      },
      "source": [
        "#df1 = df1.drop(df1.index[40:200])\n",
        "#dropped rows so each dataframe has same number of rows"
      ],
      "execution_count": 53,
      "outputs": []
    },
    {
      "cell_type": "markdown",
      "metadata": {
        "id": "EZavrCseCVQy"
      },
      "source": [
        "Concatenating along axis=1 means the dataframes will be added in a column-wise fashion and matched against their respective row indices. Missing values indicators appear in the areas where the indices did not align."
      ]
    },
    {
      "cell_type": "code",
      "metadata": {
        "colab": {
          "base_uri": "https://localhost:8080/"
        },
        "id": "20RDoOU1A9z_",
        "outputId": "fc183a4c-3602-423e-d1d4-ad5e43cbb345"
      },
      "source": [
        "df4 = pd.concat([df1,df2], axis=1)\n",
        "df4.isnull().sum()\n",
        "#found number of null values\n"
      ],
      "execution_count": 56,
      "outputs": [
        {
          "output_type": "execute_result",
          "data": {
            "text/plain": [
              "CustomerID                  0\n",
              "Annual Income (k$)          0\n",
              "Spending Score (1-100)      0\n",
              "fruit_name                160\n",
              "mass                      160\n",
              "height                    160\n",
              "dtype: int64"
            ]
          },
          "metadata": {
            "tags": []
          },
          "execution_count": 56
        }
      ]
    },
    {
      "cell_type": "code",
      "metadata": {
        "id": "0rhcU_loEv9w"
      },
      "source": [
        "df4.dropna()\n",
        "#dropped rows containing null values"
      ],
      "execution_count": null,
      "outputs": []
    }
  ]
}
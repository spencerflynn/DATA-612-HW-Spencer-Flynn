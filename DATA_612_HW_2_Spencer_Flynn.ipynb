{
  "nbformat": 4,
  "nbformat_minor": 0,
  "metadata": {
    "colab": {
      "name": "DATA 612 - HW  2- Spencer Flynn",
      "provenance": [],
      "collapsed_sections": [],
      "include_colab_link": true
    },
    "kernelspec": {
      "name": "python3",
      "display_name": "Python 3"
    }
  },
  "cells": [
    {
      "cell_type": "markdown",
      "metadata": {
        "id": "view-in-github",
        "colab_type": "text"
      },
      "source": [
        "<a href=\"https://colab.research.google.com/github/thoreau024/DATA-612-HW-Spencer-Flynn/blob/main/DATA_612_HW_2_Spencer_Flynn.ipynb\" target=\"_parent\"><img src=\"https://colab.research.google.com/assets/colab-badge.svg\" alt=\"Open In Colab\"/></a>"
      ]
    },
    {
      "cell_type": "markdown",
      "metadata": {
        "id": "qTVw3jQgGaWL"
      },
      "source": [
        "# Assignment for Week 2"
      ]
    },
    {
      "cell_type": "markdown",
      "metadata": {
        "id": "nXTJBBaqGnqN"
      },
      "source": [
        "## Purpose:     \n",
        "This assignment is intended to help you do the following:   \n",
        "1.\tModify and add information on the dataset by adding and calculating new columns     \n",
        "2.\tWork with dates in a dataset       \n",
        "3.\tLearn how to write and save your work as a csv file from Jupyter Notebook.       \n"
      ]
    },
    {
      "cell_type": "markdown",
      "metadata": {
        "id": "KBQPWLNtHJuG"
      },
      "source": [
        "## Action Items:       \n",
        "•\tCreate a new column using the date column.     \n",
        "  1. Find the maximum date of your data.     \n",
        "  2. Subtract all the dates on the column from the maximum date.       \n",
        "  3. Convert the number of days into number of months.       \n",
        "  4. Save the result on a new column and add to the data set.        \n",
        "  5. Save the dataset as a csv file.        \n",
        "  6. Upload the assignment on your GitHub account and Update the README file where you explain everything you did.      "
      ]
    },
    {
      "cell_type": "code",
      "metadata": {
        "id": "uLpwJ-aLkaOu"
      },
      "source": [
        "import datetime as datetime\n",
        "import numpy as np\n",
        "import pandas as pd\n",
        "df = pd.read_csv('https://raw.githubusercontent.com/nytimes/covid-19-data/master/us-counties-recent.csv')"
      ],
      "execution_count": 1,
      "outputs": []
    },
    {
      "cell_type": "code",
      "metadata": {
        "id": "WsOzcKwY12ki"
      },
      "source": [
        "date = df['date']\n",
        "df['date_time']  = pd.to_datetime(date)\n",
        "max = df['date_time'].index.max()\n"
      ],
      "execution_count": 2,
      "outputs": []
    },
    {
      "cell_type": "code",
      "metadata": {
        "id": "xrRs_letlf6G"
      },
      "source": [
        "df['date_time_difference'] = df['date_time'] - df['date_time'].loc[max]"
      ],
      "execution_count": 3,
      "outputs": []
    },
    {
      "cell_type": "code",
      "metadata": {
        "colab": {
          "base_uri": "https://localhost:8080/"
        },
        "id": "DvetQeA9l1gP",
        "outputId": "b9dc42a8-18df-4c00-a310-b18f808d529a"
      },
      "source": [
        "df['dates_minus_maxdate'] = df['date_time'] + df['date_time_s']\n",
        "df['dates_minus_maxdate']"
      ],
      "execution_count": 4,
      "outputs": [
        {
          "output_type": "execute_result",
          "data": {
            "text/plain": [
              "0       2021-03-28\n",
              "1       2021-03-28\n",
              "2       2021-03-28\n",
              "3       2021-03-28\n",
              "4       2021-03-28\n",
              "           ...    \n",
              "97397   2021-05-25\n",
              "97398   2021-05-25\n",
              "97399   2021-05-25\n",
              "97400   2021-05-25\n",
              "97401   2021-05-25\n",
              "Name: date_add, Length: 97402, dtype: datetime64[ns]"
            ]
          },
          "metadata": {
            "tags": []
          },
          "execution_count": 4
        }
      ]
    },
    {
      "cell_type": "code",
      "metadata": {
        "colab": {
          "base_uri": "https://localhost:8080/"
        },
        "id": "0ndlQ_JBltHA",
        "outputId": "74575bf4-99b5-42c5-8974-6d4c8e3271ef"
      },
      "source": [
        "df['num_months'] = df['date_time_s']/np.timedelta64(1, 'M')\n",
        "df['num_months']"
      ],
      "execution_count": 5,
      "outputs": [
        {
          "output_type": "execute_result",
          "data": {
            "text/plain": [
              "0       -0.952792\n",
              "1       -0.952792\n",
              "2       -0.952792\n",
              "3       -0.952792\n",
              "4       -0.952792\n",
              "           ...   \n",
              "97397    0.000000\n",
              "97398    0.000000\n",
              "97399    0.000000\n",
              "97400    0.000000\n",
              "97401    0.000000\n",
              "Name: num_months, Length: 97402, dtype: float64"
            ]
          },
          "metadata": {
            "tags": []
          },
          "execution_count": 5
        }
      ]
    }
  ]
}
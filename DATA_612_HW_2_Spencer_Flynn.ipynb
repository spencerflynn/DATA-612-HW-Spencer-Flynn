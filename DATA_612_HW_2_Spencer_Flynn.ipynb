{
  "nbformat": 4,
  "nbformat_minor": 0,
  "metadata": {
    "colab": {
      "name": "DATA 612 - HW  2- Spencer Flynn",
      "provenance": [],
      "collapsed_sections": [],
      "include_colab_link": true
    },
    "kernelspec": {
      "name": "python3",
      "display_name": "Python 3"
    }
  },
  "cells": [
    {
      "cell_type": "markdown",
      "metadata": {
        "id": "view-in-github",
        "colab_type": "text"
      },
      "source": [
        "<a href=\"https://colab.research.google.com/github/thoreau024/DATA-612-HW-Spencer-Flynn/blob/main/DATA_612_HW_2_Spencer_Flynn.ipynb\" target=\"_parent\"><img src=\"https://colab.research.google.com/assets/colab-badge.svg\" alt=\"Open In Colab\"/></a>"
      ]
    },
    {
      "cell_type": "code",
      "metadata": {
        "id": "uLpwJ-aLkaOu"
      },
      "source": [
        "import datetime as datetime\n",
        "import numpy as np\n",
        "import pandas as pd\n",
        "df = pd.read_csv('https://raw.githubusercontent.com/nytimes/covid-19-data/master/us-counties-recent.csv')"
      ],
      "execution_count": 17,
      "outputs": []
    },
    {
      "cell_type": "code",
      "metadata": {
        "id": "WsOzcKwY12ki"
      },
      "source": [
        "date = df['date']\n",
        "df['date_time']  = pd.to_datetime(date)\n",
        "max = df['date_time'].index.max()\n"
      ],
      "execution_count": 18,
      "outputs": []
    },
    {
      "cell_type": "code",
      "metadata": {
        "id": "xrRs_letlf6G"
      },
      "source": [
        "df['date_time_difference'] = df['date_time'] - df['date_time'].loc[max]"
      ],
      "execution_count": 19,
      "outputs": []
    },
    {
      "cell_type": "code",
      "metadata": {
        "colab": {
          "base_uri": "https://localhost:8080/"
        },
        "id": "DvetQeA9l1gP",
        "outputId": "b3a41b37-54d0-43d9-e59e-b708d26a745f"
      },
      "source": [
        "df['dates_minus_maxdate'] = df['date_time'] + df['date_time_difference']\n",
        "df['dates_minus_maxdate']"
      ],
      "execution_count": 20,
      "outputs": [
        {
          "output_type": "execute_result",
          "data": {
            "text/plain": [
              "0       2021-03-28\n",
              "1       2021-03-28\n",
              "2       2021-03-28\n",
              "3       2021-03-28\n",
              "4       2021-03-28\n",
              "           ...    \n",
              "97397   2021-05-25\n",
              "97398   2021-05-25\n",
              "97399   2021-05-25\n",
              "97400   2021-05-25\n",
              "97401   2021-05-25\n",
              "Name: dates_minus_maxdate, Length: 97402, dtype: datetime64[ns]"
            ]
          },
          "metadata": {
            "tags": []
          },
          "execution_count": 20
        }
      ]
    },
    {
      "cell_type": "code",
      "metadata": {
        "colab": {
          "base_uri": "https://localhost:8080/"
        },
        "id": "0ndlQ_JBltHA",
        "outputId": "157ef545-e394-4898-c108-419073b3baa9"
      },
      "source": [
        "df['num_months'] = df['date_time_difference']/np.timedelta64(1, 'M')\n",
        "df['num_months']"
      ],
      "execution_count": 21,
      "outputs": [
        {
          "output_type": "execute_result",
          "data": {
            "text/plain": [
              "0       -0.952792\n",
              "1       -0.952792\n",
              "2       -0.952792\n",
              "3       -0.952792\n",
              "4       -0.952792\n",
              "           ...   \n",
              "97397    0.000000\n",
              "97398    0.000000\n",
              "97399    0.000000\n",
              "97400    0.000000\n",
              "97401    0.000000\n",
              "Name: num_months, Length: 97402, dtype: float64"
            ]
          },
          "metadata": {
            "tags": []
          },
          "execution_count": 21
        }
      ]
    },
    {
      "cell_type": "code",
      "metadata": {
        "id": "-ZwmwJRn6QJr"
      },
      "source": [
        "df.to_csv('d612_hw2_sf.csv')"
      ],
      "execution_count": 23,
      "outputs": []
    }
  ]
}
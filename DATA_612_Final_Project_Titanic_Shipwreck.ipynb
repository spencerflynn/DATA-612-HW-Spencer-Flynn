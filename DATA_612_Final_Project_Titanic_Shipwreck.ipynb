{
  "nbformat": 4,
  "nbformat_minor": 0,
  "metadata": {
    "colab": {
      "name": "DATA 612 - Final Project - Titanic Shipwreck.ipynb",
      "provenance": [],
      "collapsed_sections": [],
      "authorship_tag": "ABX9TyOyzwz56K6a6POzso40j8l1",
      "include_colab_link": true
    },
    "kernelspec": {
      "name": "python3",
      "display_name": "Python 3"
    },
    "language_info": {
      "name": "python"
    }
  },
  "cells": [
    {
      "cell_type": "markdown",
      "metadata": {
        "id": "view-in-github",
        "colab_type": "text"
      },
      "source": [
        "<a href=\"https://colab.research.google.com/github/thoreau024/DATA-612-HW-Spencer-Flynn/blob/main/DATA_612_Final_Project_Titanic_Shipwreck.ipynb\" target=\"_parent\"><img src=\"https://colab.research.google.com/assets/colab-badge.svg\" alt=\"Open In Colab\"/></a>"
      ]
    },
    {
      "cell_type": "code",
      "metadata": {
        "colab": {
          "base_uri": "https://localhost:8080/"
        },
        "id": "V32OEASVDG6O",
        "outputId": "2f3f0a38-c9a3-42af-be6b-e4e6efb1b760"
      },
      "source": [
        "\n",
        "import pandas as pd\n",
        "import numpy as np\n",
        "import random as rnd\n",
        "import os\n",
        "import re\n",
        "import itertools\n",
        "import seaborn as sns\n",
        "import matplotlib.pyplot as plt\n",
        "get_ipython().magic('matplotlib inline')\n",
        "plt.rcParams['figure.figsize'] = (8, 6)\n",
        "\n",
        "\n",
        "# Supervised Machine Learning Models\n",
        "from sklearn.linear_model import LogisticRegression\n",
        "from sklearn.svm import SVC, LinearSVC\n",
        "from sklearn.ensemble import RandomForestClassifier\n",
        "from sklearn.tree import DecisionTreeClassifier\n",
        "from sklearn.neighbors import KNeighborsClassifier\n",
        "from sklearn.model_selection import StratifiedKFold\n",
        "from sklearn.neural_network import MLPClassifier\n",
        "from sklearn import feature_selection\n",
        "from sklearn.ensemble import VotingClassifier\n",
        "import statsmodels.api as sm # Logistic Regression with StatModels\n",
        "from sklearn.decomposition import PCA\n",
        "from sklearn.model_selection import train_test_split\n",
        "from sklearn import metrics\n",
        "from sklearn.model_selection import cross_val_score\n",
        "from sklearn.metrics import confusion_matrix, roc_curve, auc, accuracy_score\n",
        "from sklearn.preprocessing import StandardScaler\n",
        "from sklearn.model_selection import StratifiedShuffleSplit\n",
        "from sklearn.feature_selection import RFE\n",
        "from sklearn.model_selection import GridSearchCV\n",
        "from sklearn.model_selection import RandomizedSearchCV\n",
        "import scipy.stats as st\n",
        "from sklearn.pipeline import make_pipeline\n",
        "from sklearn.pipeline import Pipeline\n",
        "from mlxtend.classifier import EnsembleVoteClassifier\n",
        "from sklearn import metrics\n",
        "from sklearn.metrics import classification_report, accuracy_score\n",
        "from sklearn.preprocessing import StandardScaler\n",
        "from sklearn import metrics\n",
        "from matplotlib.colors import ListedColormap\n",
        "!pip install scikit-plot\n",
        "import scikitplot as skplt\n",
        "import pandas as pd\n",
        "import numpy as np\n",
        "import matplotlib.pyplot as plt\n",
        "import seaborn as sns\n",
        "from sklearn.model_selection import GridSearchCV, train_test_split, KFold\n",
        "from sklearn.decomposition import PCA\n",
        "from sklearn.discriminant_analysis import LinearDiscriminantAnalysis as LDA\n",
        "from sklearn.pipeline import make_pipeline\n",
        "from sklearn import preprocessing, metrics\n",
        "from sklearn.linear_model import LogisticRegression\n",
        "from sklearn.ensemble import RandomForestClassifier\n",
        "from sklearn.neighbors import KNeighborsClassifier\n",
        "from sklearn.tree import DecisionTreeClassifier\n",
        "# Warnings\n",
        "import warnings\n",
        "warnings.filterwarnings(action='ignore')\n",
        "warnings.filterwarnings(action='ignore', category=DeprecationWarning)\n",
        "warnings.filterwarnings(action='ignore', category=FutureWarning)"
      ],
      "execution_count": 1,
      "outputs": [
        {
          "output_type": "stream",
          "text": [
            "/usr/local/lib/python3.7/dist-packages/statsmodels/tools/_testing.py:19: FutureWarning: pandas.util.testing is deprecated. Use the functions in the public API at pandas.testing instead.\n",
            "  import pandas.util.testing as tm\n",
            "/usr/local/lib/python3.7/dist-packages/sklearn/externals/six.py:31: FutureWarning: The module is deprecated in version 0.21 and will be removed in version 0.23 since we've dropped support for Python 2.7. Please rely on the official version of six (https://pypi.org/project/six/).\n",
            "  \"(https://pypi.org/project/six/).\", FutureWarning)\n"
          ],
          "name": "stderr"
        },
        {
          "output_type": "stream",
          "text": [
            "Requirement already satisfied: scikit-plot in /usr/local/lib/python3.7/dist-packages (0.3.7)\n",
            "Requirement already satisfied: scikit-learn>=0.18 in /usr/local/lib/python3.7/dist-packages (from scikit-plot) (0.22.2.post1)\n",
            "Requirement already satisfied: matplotlib>=1.4.0 in /usr/local/lib/python3.7/dist-packages (from scikit-plot) (3.2.2)\n",
            "Requirement already satisfied: scipy>=0.9 in /usr/local/lib/python3.7/dist-packages (from scikit-plot) (1.4.1)\n",
            "Requirement already satisfied: joblib>=0.10 in /usr/local/lib/python3.7/dist-packages (from scikit-plot) (1.0.1)\n",
            "Requirement already satisfied: numpy>=1.11 in /usr/local/lib/python3.7/dist-packages (from matplotlib>=1.4.0->scikit-plot) (1.19.5)\n",
            "Requirement already satisfied: pyparsing!=2.0.4,!=2.1.2,!=2.1.6,>=2.0.1 in /usr/local/lib/python3.7/dist-packages (from matplotlib>=1.4.0->scikit-plot) (2.4.7)\n",
            "Requirement already satisfied: cycler>=0.10 in /usr/local/lib/python3.7/dist-packages (from matplotlib>=1.4.0->scikit-plot) (0.10.0)\n",
            "Requirement already satisfied: python-dateutil>=2.1 in /usr/local/lib/python3.7/dist-packages (from matplotlib>=1.4.0->scikit-plot) (2.8.1)\n",
            "Requirement already satisfied: kiwisolver>=1.0.1 in /usr/local/lib/python3.7/dist-packages (from matplotlib>=1.4.0->scikit-plot) (1.3.1)\n",
            "Requirement already satisfied: six in /usr/local/lib/python3.7/dist-packages (from cycler>=0.10->matplotlib>=1.4.0->scikit-plot) (1.15.0)\n"
          ],
          "name": "stdout"
        }
      ]
    },
    {
      "cell_type": "code",
      "metadata": {
        "id": "ZVL9cStBDnPx"
      },
      "source": [
        "# Parameters:\n",
        "n_splits = 2 # Cross Validation Splits\n",
        "n_iter = 70 # Randomized Search Iterations\n",
        "scoring = 'accuracy' # Model Selection during Cross-Validation\n",
        "rstate = 27 # Random State used \n",
        "testset_size = 0.4"
      ],
      "execution_count": 155,
      "outputs": []
    },
    {
      "cell_type": "code",
      "metadata": {
        "id": "NEOuQjeaz0ao"
      },
      "source": [
        "#Importing downloaded CSV files\n",
        "from google.colab import files\n",
        "import io"
      ],
      "execution_count": 3,
      "outputs": []
    },
    {
      "cell_type": "code",
      "metadata": {
        "colab": {
          "resources": {
            "http://localhost:8080/nbextensions/google.colab/files.js": {
              "data": "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",
              "ok": true,
              "headers": [
                [
                  "content-type",
                  "application/javascript"
                ]
              ],
              "status": 200,
              "status_text": ""
            }
          },
          "base_uri": "https://localhost:8080/",
          "height": 106
        },
        "id": "0w5jIdfq0xbM",
        "outputId": "94d454b9-356c-43bd-c832-6f1ea0e073d1"
      },
      "source": [
        "uploaded = files.upload()"
      ],
      "execution_count": 4,
      "outputs": [
        {
          "output_type": "display_data",
          "data": {
            "text/html": [
              "\n",
              "     <input type=\"file\" id=\"files-8d41ac76-c595-4624-ae6f-59033967efef\" name=\"files[]\" multiple disabled\n",
              "        style=\"border:none\" />\n",
              "     <output id=\"result-8d41ac76-c595-4624-ae6f-59033967efef\">\n",
              "      Upload widget is only available when the cell has been executed in the\n",
              "      current browser session. Please rerun this cell to enable.\n",
              "      </output>\n",
              "      <script src=\"/nbextensions/google.colab/files.js\"></script> "
            ],
            "text/plain": [
              "<IPython.core.display.HTML object>"
            ]
          },
          "metadata": {
            "tags": []
          }
        },
        {
          "output_type": "stream",
          "text": [
            "Saving test.csv to test (4).csv\n",
            "Saving train.csv to train (4).csv\n"
          ],
          "name": "stdout"
        }
      ]
    },
    {
      "cell_type": "code",
      "metadata": {
        "id": "8x58IIXn03pM"
      },
      "source": [
        "train = pd.read_csv(io.BytesIO(uploaded['train.csv']))\n",
        "valid = pd.read_csv(io.BytesIO(uploaded['test.csv']))"
      ],
      "execution_count": 156,
      "outputs": []
    },
    {
      "cell_type": "code",
      "metadata": {
        "colab": {
          "base_uri": "https://localhost:8080/"
        },
        "id": "DWzhmGhZ1RbZ",
        "outputId": "e00cc706-3a6a-40da-c8cc-c99aad1eb930"
      },
      "source": [
        "print('Train Set Variables: ', train.columns)\n",
        "print('Test Set Variables: ' ,valid.columns)\n",
        "Survived = train['Survived']"
      ],
      "execution_count": 157,
      "outputs": [
        {
          "output_type": "stream",
          "text": [
            "Train Set Variables:  Index(['PassengerId', 'Survived', 'Pclass', 'Name', 'Sex', 'Age', 'SibSp',\n",
            "       'Parch', 'Ticket', 'Fare', 'Cabin', 'Embarked'],\n",
            "      dtype='object')\n",
            "Test Set Variables:  Index(['PassengerId', 'Pclass', 'Name', 'Sex', 'Age', 'SibSp', 'Parch',\n",
            "       'Ticket', 'Fare', 'Cabin', 'Embarked'],\n",
            "      dtype='object')\n"
          ],
          "name": "stdout"
        }
      ]
    },
    {
      "cell_type": "code",
      "metadata": {
        "colab": {
          "base_uri": "https://localhost:8080/",
          "height": 255
        },
        "id": "Ffzc_dgR11FQ",
        "outputId": "d6639755-0ed5-4d6c-b5e1-9800578b6932"
      },
      "source": [
        "print('Missing Values in Train Data: ')\n",
        "display(train.isnull().sum())"
      ],
      "execution_count": 158,
      "outputs": [
        {
          "output_type": "stream",
          "text": [
            "Missing Values in Train Data: \n"
          ],
          "name": "stdout"
        },
        {
          "output_type": "display_data",
          "data": {
            "text/plain": [
              "PassengerId      0\n",
              "Survived         0\n",
              "Pclass           0\n",
              "Name             0\n",
              "Sex              0\n",
              "Age            177\n",
              "SibSp            0\n",
              "Parch            0\n",
              "Ticket           0\n",
              "Fare             0\n",
              "Cabin          687\n",
              "Embarked         2\n",
              "dtype: int64"
            ]
          },
          "metadata": {
            "tags": []
          }
        }
      ]
    },
    {
      "cell_type": "code",
      "metadata": {
        "colab": {
          "base_uri": "https://localhost:8080/",
          "height": 238
        },
        "id": "1AJWZziR2x8w",
        "outputId": "2e164bfa-5043-4631-ccda-0242593f8fe8"
      },
      "source": [
        "print('Missing Values in Test Data: ')\n",
        "display(valid.isnull().sum())"
      ],
      "execution_count": 159,
      "outputs": [
        {
          "output_type": "stream",
          "text": [
            "Missing Values in Test Data: \n"
          ],
          "name": "stdout"
        },
        {
          "output_type": "display_data",
          "data": {
            "text/plain": [
              "PassengerId      0\n",
              "Pclass           0\n",
              "Name             0\n",
              "Sex              0\n",
              "Age             86\n",
              "SibSp            0\n",
              "Parch            0\n",
              "Ticket           0\n",
              "Fare             1\n",
              "Cabin          327\n",
              "Embarked         0\n",
              "dtype: int64"
            ]
          },
          "metadata": {
            "tags": []
          }
        }
      ]
    },
    {
      "cell_type": "markdown",
      "metadata": {
        "id": "adHcarZY3x5-"
      },
      "source": [
        "In the training data there are missing values in the age, cabin and embarked columns. In the validation data set there are missing values in the age, fare and cabin columns."
      ]
    },
    {
      "cell_type": "code",
      "metadata": {
        "id": "8DAkpYPN4nYq"
      },
      "source": [
        "train.set_index('PassengerId', inplace = True)\n",
        "PassengerID = valid['PassengerId']\n",
        "valid.set_index('PassengerId', inplace = True)"
      ],
      "execution_count": 160,
      "outputs": []
    },
    {
      "cell_type": "code",
      "metadata": {
        "colab": {
          "base_uri": "https://localhost:8080/",
          "height": 450
        },
        "id": "wb5pcdFuz33R",
        "outputId": "c4d0f7fb-37fe-4d28-cc8b-d2df69d49167"
      },
      "source": [
        "train"
      ],
      "execution_count": 161,
      "outputs": [
        {
          "output_type": "execute_result",
          "data": {
            "text/html": [
              "<div>\n",
              "<style scoped>\n",
              "    .dataframe tbody tr th:only-of-type {\n",
              "        vertical-align: middle;\n",
              "    }\n",
              "\n",
              "    .dataframe tbody tr th {\n",
              "        vertical-align: top;\n",
              "    }\n",
              "\n",
              "    .dataframe thead th {\n",
              "        text-align: right;\n",
              "    }\n",
              "</style>\n",
              "<table border=\"1\" class=\"dataframe\">\n",
              "  <thead>\n",
              "    <tr style=\"text-align: right;\">\n",
              "      <th></th>\n",
              "      <th>Survived</th>\n",
              "      <th>Pclass</th>\n",
              "      <th>Name</th>\n",
              "      <th>Sex</th>\n",
              "      <th>Age</th>\n",
              "      <th>SibSp</th>\n",
              "      <th>Parch</th>\n",
              "      <th>Ticket</th>\n",
              "      <th>Fare</th>\n",
              "      <th>Cabin</th>\n",
              "      <th>Embarked</th>\n",
              "    </tr>\n",
              "    <tr>\n",
              "      <th>PassengerId</th>\n",
              "      <th></th>\n",
              "      <th></th>\n",
              "      <th></th>\n",
              "      <th></th>\n",
              "      <th></th>\n",
              "      <th></th>\n",
              "      <th></th>\n",
              "      <th></th>\n",
              "      <th></th>\n",
              "      <th></th>\n",
              "      <th></th>\n",
              "    </tr>\n",
              "  </thead>\n",
              "  <tbody>\n",
              "    <tr>\n",
              "      <th>1</th>\n",
              "      <td>0</td>\n",
              "      <td>3</td>\n",
              "      <td>Braund, Mr. Owen Harris</td>\n",
              "      <td>male</td>\n",
              "      <td>22.0</td>\n",
              "      <td>1</td>\n",
              "      <td>0</td>\n",
              "      <td>A/5 21171</td>\n",
              "      <td>7.2500</td>\n",
              "      <td>NaN</td>\n",
              "      <td>S</td>\n",
              "    </tr>\n",
              "    <tr>\n",
              "      <th>2</th>\n",
              "      <td>1</td>\n",
              "      <td>1</td>\n",
              "      <td>Cumings, Mrs. John Bradley (Florence Briggs Th...</td>\n",
              "      <td>female</td>\n",
              "      <td>38.0</td>\n",
              "      <td>1</td>\n",
              "      <td>0</td>\n",
              "      <td>PC 17599</td>\n",
              "      <td>71.2833</td>\n",
              "      <td>C85</td>\n",
              "      <td>C</td>\n",
              "    </tr>\n",
              "    <tr>\n",
              "      <th>3</th>\n",
              "      <td>1</td>\n",
              "      <td>3</td>\n",
              "      <td>Heikkinen, Miss. Laina</td>\n",
              "      <td>female</td>\n",
              "      <td>26.0</td>\n",
              "      <td>0</td>\n",
              "      <td>0</td>\n",
              "      <td>STON/O2. 3101282</td>\n",
              "      <td>7.9250</td>\n",
              "      <td>NaN</td>\n",
              "      <td>S</td>\n",
              "    </tr>\n",
              "    <tr>\n",
              "      <th>4</th>\n",
              "      <td>1</td>\n",
              "      <td>1</td>\n",
              "      <td>Futrelle, Mrs. Jacques Heath (Lily May Peel)</td>\n",
              "      <td>female</td>\n",
              "      <td>35.0</td>\n",
              "      <td>1</td>\n",
              "      <td>0</td>\n",
              "      <td>113803</td>\n",
              "      <td>53.1000</td>\n",
              "      <td>C123</td>\n",
              "      <td>S</td>\n",
              "    </tr>\n",
              "    <tr>\n",
              "      <th>5</th>\n",
              "      <td>0</td>\n",
              "      <td>3</td>\n",
              "      <td>Allen, Mr. William Henry</td>\n",
              "      <td>male</td>\n",
              "      <td>35.0</td>\n",
              "      <td>0</td>\n",
              "      <td>0</td>\n",
              "      <td>373450</td>\n",
              "      <td>8.0500</td>\n",
              "      <td>NaN</td>\n",
              "      <td>S</td>\n",
              "    </tr>\n",
              "    <tr>\n",
              "      <th>...</th>\n",
              "      <td>...</td>\n",
              "      <td>...</td>\n",
              "      <td>...</td>\n",
              "      <td>...</td>\n",
              "      <td>...</td>\n",
              "      <td>...</td>\n",
              "      <td>...</td>\n",
              "      <td>...</td>\n",
              "      <td>...</td>\n",
              "      <td>...</td>\n",
              "      <td>...</td>\n",
              "    </tr>\n",
              "    <tr>\n",
              "      <th>887</th>\n",
              "      <td>0</td>\n",
              "      <td>2</td>\n",
              "      <td>Montvila, Rev. Juozas</td>\n",
              "      <td>male</td>\n",
              "      <td>27.0</td>\n",
              "      <td>0</td>\n",
              "      <td>0</td>\n",
              "      <td>211536</td>\n",
              "      <td>13.0000</td>\n",
              "      <td>NaN</td>\n",
              "      <td>S</td>\n",
              "    </tr>\n",
              "    <tr>\n",
              "      <th>888</th>\n",
              "      <td>1</td>\n",
              "      <td>1</td>\n",
              "      <td>Graham, Miss. Margaret Edith</td>\n",
              "      <td>female</td>\n",
              "      <td>19.0</td>\n",
              "      <td>0</td>\n",
              "      <td>0</td>\n",
              "      <td>112053</td>\n",
              "      <td>30.0000</td>\n",
              "      <td>B42</td>\n",
              "      <td>S</td>\n",
              "    </tr>\n",
              "    <tr>\n",
              "      <th>889</th>\n",
              "      <td>0</td>\n",
              "      <td>3</td>\n",
              "      <td>Johnston, Miss. Catherine Helen \"Carrie\"</td>\n",
              "      <td>female</td>\n",
              "      <td>NaN</td>\n",
              "      <td>1</td>\n",
              "      <td>2</td>\n",
              "      <td>W./C. 6607</td>\n",
              "      <td>23.4500</td>\n",
              "      <td>NaN</td>\n",
              "      <td>S</td>\n",
              "    </tr>\n",
              "    <tr>\n",
              "      <th>890</th>\n",
              "      <td>1</td>\n",
              "      <td>1</td>\n",
              "      <td>Behr, Mr. Karl Howell</td>\n",
              "      <td>male</td>\n",
              "      <td>26.0</td>\n",
              "      <td>0</td>\n",
              "      <td>0</td>\n",
              "      <td>111369</td>\n",
              "      <td>30.0000</td>\n",
              "      <td>C148</td>\n",
              "      <td>C</td>\n",
              "    </tr>\n",
              "    <tr>\n",
              "      <th>891</th>\n",
              "      <td>0</td>\n",
              "      <td>3</td>\n",
              "      <td>Dooley, Mr. Patrick</td>\n",
              "      <td>male</td>\n",
              "      <td>32.0</td>\n",
              "      <td>0</td>\n",
              "      <td>0</td>\n",
              "      <td>370376</td>\n",
              "      <td>7.7500</td>\n",
              "      <td>NaN</td>\n",
              "      <td>Q</td>\n",
              "    </tr>\n",
              "  </tbody>\n",
              "</table>\n",
              "<p>891 rows × 11 columns</p>\n",
              "</div>"
            ],
            "text/plain": [
              "             Survived  Pclass  ... Cabin Embarked\n",
              "PassengerId                    ...               \n",
              "1                   0       3  ...   NaN        S\n",
              "2                   1       1  ...   C85        C\n",
              "3                   1       3  ...   NaN        S\n",
              "4                   1       1  ...  C123        S\n",
              "5                   0       3  ...   NaN        S\n",
              "...               ...     ...  ...   ...      ...\n",
              "887                 0       2  ...   NaN        S\n",
              "888                 1       1  ...   B42        S\n",
              "889                 0       3  ...   NaN        S\n",
              "890                 1       1  ...  C148        C\n",
              "891                 0       3  ...   NaN        Q\n",
              "\n",
              "[891 rows x 11 columns]"
            ]
          },
          "metadata": {
            "tags": []
          },
          "execution_count": 161
        }
      ]
    },
    {
      "cell_type": "code",
      "metadata": {
        "id": "7GJmp28EEkvK"
      },
      "source": [
        "traindex = train.index\n",
        "validdex = valid.index\n",
        "Survived_train = train['Survived'].copy()\n",
        "df = pd.concat([valid, train])\n"
      ],
      "execution_count": 162,
      "outputs": []
    },
    {
      "cell_type": "code",
      "metadata": {
        "colab": {
          "base_uri": "https://localhost:8080/",
          "height": 221
        },
        "id": "ddG4uWFcA4jW",
        "outputId": "b49de75b-1b8e-4da9-8364-5f4ac670f08e"
      },
      "source": [
        "display(df.isnull().sum())"
      ],
      "execution_count": 163,
      "outputs": [
        {
          "output_type": "display_data",
          "data": {
            "text/plain": [
              "Pclass         0\n",
              "Name           0\n",
              "Sex            0\n",
              "Age          263\n",
              "SibSp          0\n",
              "Parch          0\n",
              "Ticket         0\n",
              "Fare           1\n",
              "Cabin       1014\n",
              "Embarked       2\n",
              "Survived     418\n",
              "dtype: int64"
            ]
          },
          "metadata": {
            "tags": []
          }
        }
      ]
    },
    {
      "cell_type": "markdown",
      "metadata": {
        "id": "t64qRwo_TQs9"
      },
      "source": [
        "##Family Name"
      ]
    },
    {
      "cell_type": "code",
      "metadata": {
        "id": "3XY_kfKlTSIq"
      },
      "source": [
        "import string\n",
        "def get_lastname(data):\n",
        "  families = []\n",
        "  for i in range(len(data)):\n",
        "    name = data.iloc[i]\n",
        "    if '(' in name:\n",
        "      name_bracket_removed = name.split('(')[0]\n",
        "    else: \n",
        "      name_bracket_removed = name\n",
        "    family = name_bracket_removed.split(',')[0]\n",
        "    title = name_bracket_removed.split(',')[1].strip().split(' ')[0]\n",
        "    for c in string.punctuation:\n",
        "      family = family.replace(c, '').strip()\n",
        "    families.append(family)\n",
        "  return families\n",
        "df['Family'] = get_lastname(df['Name'])"
      ],
      "execution_count": 164,
      "outputs": []
    },
    {
      "cell_type": "markdown",
      "metadata": {
        "id": "xqu0OvyzHy__"
      },
      "source": [
        "#Title\n",
        "Created new feature 'Title' by splitting name feature. After splitting titles we're grouped into similar groups and changed into dummy variables."
      ]
    },
    {
      "cell_type": "code",
      "metadata": {
        "id": "W9r6FvRYzHHD"
      },
      "source": [
        "df['Title'] = df['Name'].str.split(', ', expand = True)[1].str.split('. ', expand=True)[0]"
      ],
      "execution_count": 165,
      "outputs": []
    },
    {
      "cell_type": "code",
      "metadata": {
        "colab": {
          "base_uri": "https://localhost:8080/"
        },
        "id": "75qSkPQXzIjW",
        "outputId": "e96159ed-f548-4cf4-a8b4-fc3383ab12ec"
      },
      "source": [
        "df['Title'].unique()"
      ],
      "execution_count": 166,
      "outputs": [
        {
          "output_type": "execute_result",
          "data": {
            "text/plain": [
              "array(['Mr', 'Mrs', 'Miss', 'Master', 'Ms', 'Col', 'Rev', 'Dr', 'Dona',\n",
              "       'Don', 'Mme', 'Major', 'Lady', 'Sir', 'Mlle', 'Capt', 'th',\n",
              "       'Jonkheer'], dtype=object)"
            ]
          },
          "metadata": {
            "tags": []
          },
          "execution_count": 166
        }
      ]
    },
    {
      "cell_type": "code",
      "metadata": {
        "colab": {
          "base_uri": "https://localhost:8080/",
          "height": 0
        },
        "id": "4UEQkBvA06cK",
        "outputId": "a6dce6e2-b36d-49ca-dabc-2b7be983d75b"
      },
      "source": [
        "df.loc[df['Title'] == 'th']"
      ],
      "execution_count": 167,
      "outputs": [
        {
          "output_type": "execute_result",
          "data": {
            "text/html": [
              "<div>\n",
              "<style scoped>\n",
              "    .dataframe tbody tr th:only-of-type {\n",
              "        vertical-align: middle;\n",
              "    }\n",
              "\n",
              "    .dataframe tbody tr th {\n",
              "        vertical-align: top;\n",
              "    }\n",
              "\n",
              "    .dataframe thead th {\n",
              "        text-align: right;\n",
              "    }\n",
              "</style>\n",
              "<table border=\"1\" class=\"dataframe\">\n",
              "  <thead>\n",
              "    <tr style=\"text-align: right;\">\n",
              "      <th></th>\n",
              "      <th>Pclass</th>\n",
              "      <th>Name</th>\n",
              "      <th>Sex</th>\n",
              "      <th>Age</th>\n",
              "      <th>SibSp</th>\n",
              "      <th>Parch</th>\n",
              "      <th>Ticket</th>\n",
              "      <th>Fare</th>\n",
              "      <th>Cabin</th>\n",
              "      <th>Embarked</th>\n",
              "      <th>Survived</th>\n",
              "      <th>Family</th>\n",
              "      <th>Title</th>\n",
              "    </tr>\n",
              "    <tr>\n",
              "      <th>PassengerId</th>\n",
              "      <th></th>\n",
              "      <th></th>\n",
              "      <th></th>\n",
              "      <th></th>\n",
              "      <th></th>\n",
              "      <th></th>\n",
              "      <th></th>\n",
              "      <th></th>\n",
              "      <th></th>\n",
              "      <th></th>\n",
              "      <th></th>\n",
              "      <th></th>\n",
              "      <th></th>\n",
              "    </tr>\n",
              "  </thead>\n",
              "  <tbody>\n",
              "    <tr>\n",
              "      <th>760</th>\n",
              "      <td>1</td>\n",
              "      <td>Rothes, the Countess. of (Lucy Noel Martha Dye...</td>\n",
              "      <td>female</td>\n",
              "      <td>33.0</td>\n",
              "      <td>0</td>\n",
              "      <td>0</td>\n",
              "      <td>110152</td>\n",
              "      <td>86.5</td>\n",
              "      <td>B77</td>\n",
              "      <td>S</td>\n",
              "      <td>1.0</td>\n",
              "      <td>Rothes</td>\n",
              "      <td>th</td>\n",
              "    </tr>\n",
              "  </tbody>\n",
              "</table>\n",
              "</div>"
            ],
            "text/plain": [
              "             Pclass  ... Title\n",
              "PassengerId          ...      \n",
              "760               1  ...    th\n",
              "\n",
              "[1 rows x 13 columns]"
            ]
          },
          "metadata": {
            "tags": []
          },
          "execution_count": 167
        }
      ]
    },
    {
      "cell_type": "markdown",
      "metadata": {
        "id": "KfAtrup77QOO"
      },
      "source": [
        "'th' represents the Countess which is Royaly"
      ]
    },
    {
      "cell_type": "code",
      "metadata": {
        "colab": {
          "base_uri": "https://localhost:8080/",
          "height": 0
        },
        "id": "bHVcbC8c5z4m",
        "outputId": "1ad528af-2198-45c8-ee0f-e66778adfd04"
      },
      "source": [
        "df.loc[df['Title'] == 'Dona']"
      ],
      "execution_count": 168,
      "outputs": [
        {
          "output_type": "execute_result",
          "data": {
            "text/html": [
              "<div>\n",
              "<style scoped>\n",
              "    .dataframe tbody tr th:only-of-type {\n",
              "        vertical-align: middle;\n",
              "    }\n",
              "\n",
              "    .dataframe tbody tr th {\n",
              "        vertical-align: top;\n",
              "    }\n",
              "\n",
              "    .dataframe thead th {\n",
              "        text-align: right;\n",
              "    }\n",
              "</style>\n",
              "<table border=\"1\" class=\"dataframe\">\n",
              "  <thead>\n",
              "    <tr style=\"text-align: right;\">\n",
              "      <th></th>\n",
              "      <th>Pclass</th>\n",
              "      <th>Name</th>\n",
              "      <th>Sex</th>\n",
              "      <th>Age</th>\n",
              "      <th>SibSp</th>\n",
              "      <th>Parch</th>\n",
              "      <th>Ticket</th>\n",
              "      <th>Fare</th>\n",
              "      <th>Cabin</th>\n",
              "      <th>Embarked</th>\n",
              "      <th>Survived</th>\n",
              "      <th>Family</th>\n",
              "      <th>Title</th>\n",
              "    </tr>\n",
              "    <tr>\n",
              "      <th>PassengerId</th>\n",
              "      <th></th>\n",
              "      <th></th>\n",
              "      <th></th>\n",
              "      <th></th>\n",
              "      <th></th>\n",
              "      <th></th>\n",
              "      <th></th>\n",
              "      <th></th>\n",
              "      <th></th>\n",
              "      <th></th>\n",
              "      <th></th>\n",
              "      <th></th>\n",
              "      <th></th>\n",
              "    </tr>\n",
              "  </thead>\n",
              "  <tbody>\n",
              "    <tr>\n",
              "      <th>1306</th>\n",
              "      <td>1</td>\n",
              "      <td>Oliva y Ocana, Dona. Fermina</td>\n",
              "      <td>female</td>\n",
              "      <td>39.0</td>\n",
              "      <td>0</td>\n",
              "      <td>0</td>\n",
              "      <td>PC 17758</td>\n",
              "      <td>108.9</td>\n",
              "      <td>C105</td>\n",
              "      <td>C</td>\n",
              "      <td>NaN</td>\n",
              "      <td>Oliva y Ocana</td>\n",
              "      <td>Dona</td>\n",
              "    </tr>\n",
              "  </tbody>\n",
              "</table>\n",
              "</div>"
            ],
            "text/plain": [
              "             Pclass                          Name  ...         Family  Title\n",
              "PassengerId                                        ...                      \n",
              "1306              1  Oliva y Ocana, Dona. Fermina  ...  Oliva y Ocana   Dona\n",
              "\n",
              "[1 rows x 13 columns]"
            ]
          },
          "metadata": {
            "tags": []
          },
          "execution_count": 168
        }
      ]
    },
    {
      "cell_type": "code",
      "metadata": {
        "colab": {
          "base_uri": "https://localhost:8080/",
          "height": 0
        },
        "id": "HUtO7TYG_4f7",
        "outputId": "d0f5b627-71e6-4076-a824-97d434895979"
      },
      "source": [
        "df.loc[df['Title'] == 'Don']"
      ],
      "execution_count": 169,
      "outputs": [
        {
          "output_type": "execute_result",
          "data": {
            "text/html": [
              "<div>\n",
              "<style scoped>\n",
              "    .dataframe tbody tr th:only-of-type {\n",
              "        vertical-align: middle;\n",
              "    }\n",
              "\n",
              "    .dataframe tbody tr th {\n",
              "        vertical-align: top;\n",
              "    }\n",
              "\n",
              "    .dataframe thead th {\n",
              "        text-align: right;\n",
              "    }\n",
              "</style>\n",
              "<table border=\"1\" class=\"dataframe\">\n",
              "  <thead>\n",
              "    <tr style=\"text-align: right;\">\n",
              "      <th></th>\n",
              "      <th>Pclass</th>\n",
              "      <th>Name</th>\n",
              "      <th>Sex</th>\n",
              "      <th>Age</th>\n",
              "      <th>SibSp</th>\n",
              "      <th>Parch</th>\n",
              "      <th>Ticket</th>\n",
              "      <th>Fare</th>\n",
              "      <th>Cabin</th>\n",
              "      <th>Embarked</th>\n",
              "      <th>Survived</th>\n",
              "      <th>Family</th>\n",
              "      <th>Title</th>\n",
              "    </tr>\n",
              "    <tr>\n",
              "      <th>PassengerId</th>\n",
              "      <th></th>\n",
              "      <th></th>\n",
              "      <th></th>\n",
              "      <th></th>\n",
              "      <th></th>\n",
              "      <th></th>\n",
              "      <th></th>\n",
              "      <th></th>\n",
              "      <th></th>\n",
              "      <th></th>\n",
              "      <th></th>\n",
              "      <th></th>\n",
              "      <th></th>\n",
              "    </tr>\n",
              "  </thead>\n",
              "  <tbody>\n",
              "    <tr>\n",
              "      <th>31</th>\n",
              "      <td>1</td>\n",
              "      <td>Uruchurtu, Don. Manuel E</td>\n",
              "      <td>male</td>\n",
              "      <td>40.0</td>\n",
              "      <td>0</td>\n",
              "      <td>0</td>\n",
              "      <td>PC 17601</td>\n",
              "      <td>27.7208</td>\n",
              "      <td>NaN</td>\n",
              "      <td>C</td>\n",
              "      <td>0.0</td>\n",
              "      <td>Uruchurtu</td>\n",
              "      <td>Don</td>\n",
              "    </tr>\n",
              "  </tbody>\n",
              "</table>\n",
              "</div>"
            ],
            "text/plain": [
              "             Pclass                      Name   Sex  ...  Survived     Family  Title\n",
              "PassengerId                                          ...                            \n",
              "31                1  Uruchurtu, Don. Manuel E  male  ...       0.0  Uruchurtu    Don\n",
              "\n",
              "[1 rows x 13 columns]"
            ]
          },
          "metadata": {
            "tags": []
          },
          "execution_count": 169
        }
      ]
    },
    {
      "cell_type": "markdown",
      "metadata": {
        "id": "SLU8WARKAYkO"
      },
      "source": [
        "Kaggle allows and encourages doing research as a part of completeing the competition. The following links were used to categorize the above titles. \n",
        "\n",
        "Don - falls into class Mr\n",
        "https://en.wikipedia.org/wiki/Manuel_Uruchurtu_Ram%C3%ADrez\n",
        "\n",
        "Dona - falls into Miss\n",
        "https://www.encyclopedia-titanica.org/titanic-survivor/fermina-oliva-y-ocana.html"
      ]
    },
    {
      "cell_type": "code",
      "metadata": {
        "id": "5crdDWjN1D_a"
      },
      "source": [
        "# { \"Mr\" : 0, \"Mrs\" : 1, \"Miss\" : 2, \"Master\" : 3, \"Office\" : 4, \"Royalty\" : 5}\n",
        "df['Title'].replace({\n",
        "    \"Mr\" :        0,\n",
        "    \"Don\" :       0,\n",
        "    \"Mme\":        1,\n",
        "    \"Ms\":         1,\n",
        "    \"Mrs\" :       1,\n",
        "    \"Miss\" :      2,\n",
        "    \"Mlle\":       2,\n",
        "    \"Dona\":        2,\n",
        "    \"Master\" :    3,\n",
        "    \"Dr\" :         4,\n",
        "    \"Rev\":        4,\n",
        "    \"Capt\":       4,\n",
        "    \"Col\":        4,\n",
        "    \"Major\":      4,\n",
        "    \"Jonkheer\":   5,\n",
        "    \"Sir\" :       5,\n",
        "    \"Lady\" :      5,\n",
        "    \"th\" :        5\n",
        "}, inplace=True)"
      ],
      "execution_count": 170,
      "outputs": []
    },
    {
      "cell_type": "code",
      "metadata": {
        "colab": {
          "base_uri": "https://localhost:8080/"
        },
        "id": "u30HXaFf8m0m",
        "outputId": "3615fbaf-f4af-409f-e906-fd6bebc0b762"
      },
      "source": [
        "df['Title'].unique()"
      ],
      "execution_count": 171,
      "outputs": [
        {
          "output_type": "execute_result",
          "data": {
            "text/plain": [
              "array([0, 1, 2, 3, 4, 5])"
            ]
          },
          "metadata": {
            "tags": []
          },
          "execution_count": 171
        }
      ]
    },
    {
      "cell_type": "code",
      "metadata": {
        "colab": {
          "base_uri": "https://localhost:8080/"
        },
        "id": "Nw9G4UaU7wAE",
        "outputId": "39df5010-8385-410f-95c9-6a5000ebdaeb"
      },
      "source": [
        "df['Title'].value_counts()"
      ],
      "execution_count": 172,
      "outputs": [
        {
          "output_type": "execute_result",
          "data": {
            "text/plain": [
              "0    758\n",
              "2    263\n",
              "1    200\n",
              "3     61\n",
              "4     23\n",
              "5      4\n",
              "Name: Title, dtype: int64"
            ]
          },
          "metadata": {
            "tags": []
          },
          "execution_count": 172
        }
      ]
    },
    {
      "cell_type": "markdown",
      "metadata": {
        "id": "nGbU71mBXLt7"
      },
      "source": [
        "#Fare\n",
        "Replaced missing Fare value with median values for similar passengers.\n",
        "Binned Fare into 5 groups"
      ]
    },
    {
      "cell_type": "code",
      "metadata": {
        "colab": {
          "base_uri": "https://localhost:8080/",
          "height": 111
        },
        "id": "sP8k6AUSS0dp",
        "outputId": "44b9e195-3301-4a09-fc10-025f22c1d431"
      },
      "source": [
        "df.loc[df['Fare'].isnull()]"
      ],
      "execution_count": 173,
      "outputs": [
        {
          "output_type": "execute_result",
          "data": {
            "text/html": [
              "<div>\n",
              "<style scoped>\n",
              "    .dataframe tbody tr th:only-of-type {\n",
              "        vertical-align: middle;\n",
              "    }\n",
              "\n",
              "    .dataframe tbody tr th {\n",
              "        vertical-align: top;\n",
              "    }\n",
              "\n",
              "    .dataframe thead th {\n",
              "        text-align: right;\n",
              "    }\n",
              "</style>\n",
              "<table border=\"1\" class=\"dataframe\">\n",
              "  <thead>\n",
              "    <tr style=\"text-align: right;\">\n",
              "      <th></th>\n",
              "      <th>Pclass</th>\n",
              "      <th>Name</th>\n",
              "      <th>Sex</th>\n",
              "      <th>Age</th>\n",
              "      <th>SibSp</th>\n",
              "      <th>Parch</th>\n",
              "      <th>Ticket</th>\n",
              "      <th>Fare</th>\n",
              "      <th>Cabin</th>\n",
              "      <th>Embarked</th>\n",
              "      <th>Survived</th>\n",
              "      <th>Family</th>\n",
              "      <th>Title</th>\n",
              "    </tr>\n",
              "    <tr>\n",
              "      <th>PassengerId</th>\n",
              "      <th></th>\n",
              "      <th></th>\n",
              "      <th></th>\n",
              "      <th></th>\n",
              "      <th></th>\n",
              "      <th></th>\n",
              "      <th></th>\n",
              "      <th></th>\n",
              "      <th></th>\n",
              "      <th></th>\n",
              "      <th></th>\n",
              "      <th></th>\n",
              "      <th></th>\n",
              "    </tr>\n",
              "  </thead>\n",
              "  <tbody>\n",
              "    <tr>\n",
              "      <th>1044</th>\n",
              "      <td>3</td>\n",
              "      <td>Storey, Mr. Thomas</td>\n",
              "      <td>male</td>\n",
              "      <td>60.5</td>\n",
              "      <td>0</td>\n",
              "      <td>0</td>\n",
              "      <td>3701</td>\n",
              "      <td>NaN</td>\n",
              "      <td>NaN</td>\n",
              "      <td>S</td>\n",
              "      <td>NaN</td>\n",
              "      <td>Storey</td>\n",
              "      <td>0</td>\n",
              "    </tr>\n",
              "  </tbody>\n",
              "</table>\n",
              "</div>"
            ],
            "text/plain": [
              "             Pclass                Name   Sex  ...  Survived  Family  Title\n",
              "PassengerId                                    ...                         \n",
              "1044              3  Storey, Mr. Thomas  male  ...       NaN  Storey      0\n",
              "\n",
              "[1 rows x 13 columns]"
            ]
          },
          "metadata": {
            "tags": []
          },
          "execution_count": 173
        }
      ]
    },
    {
      "cell_type": "code",
      "metadata": {
        "colab": {
          "base_uri": "https://localhost:8080/"
        },
        "id": "7id_pafvTIyD",
        "outputId": "322f4206-d593-41b2-de9d-f211dad86898"
      },
      "source": [
        "nullfare_1044 = df.loc[(df['Pclass'] == 3) & (df['Embarked'] == 'S') & (df['Title'] == 0) & (df['Age'] >= 50) & (df['Age'] < 63)]['Fare'].median()\n",
        "print(nullfare_1044)\n"
      ],
      "execution_count": 174,
      "outputs": [
        {
          "output_type": "stream",
          "text": [
            "7.9\n"
          ],
          "name": "stdout"
        }
      ]
    },
    {
      "cell_type": "code",
      "metadata": {
        "id": "-YkkUU49Tzy6"
      },
      "source": [
        "df.loc[df['Fare'].isnull(), 'Fare'] = nullfare_1044"
      ],
      "execution_count": 175,
      "outputs": []
    },
    {
      "cell_type": "code",
      "metadata": {
        "colab": {
          "base_uri": "https://localhost:8080/",
          "height": 282
        },
        "id": "-QcwwQr-XWTY",
        "outputId": "7ca10eec-f28e-46b8-bcbc-d9bc2b8999fb"
      },
      "source": [
        "df.boxplot(column=['Fare'])"
      ],
      "execution_count": 176,
      "outputs": [
        {
          "output_type": "execute_result",
          "data": {
            "text/plain": [
              "<matplotlib.axes._subplots.AxesSubplot at 0x7f83b726ef10>"
            ]
          },
          "metadata": {
            "tags": []
          },
          "execution_count": 176
        },
        {
          "output_type": "display_data",
          "data": {
            "image/png": "[encoded data removed]",
            "text/plain": [
              "<Figure size 432x288 with 1 Axes>"
            ]
          },
          "metadata": {
            "tags": [],
            "needs_background": "light"
          }
        }
      ]
    },
    {
      "cell_type": "code",
      "metadata": {
        "id": "lQwGzw10hykR"
      },
      "source": [
        "fare = pd.qcut(df['Fare'], 5)"
      ],
      "execution_count": 177,
      "outputs": []
    },
    {
      "cell_type": "code",
      "metadata": {
        "id": "Foz6W5TCpXOx"
      },
      "source": [
        "fare = pd.Categorical(fare)\n",
        "df['Fare'] = fare.codes"
      ],
      "execution_count": 178,
      "outputs": []
    },
    {
      "cell_type": "code",
      "metadata": {
        "colab": {
          "base_uri": "https://localhost:8080/",
          "height": 293
        },
        "id": "tmYA4gUgY0lf",
        "outputId": "e1567ca5-6dce-48c9-e7d8-c1d9af37976c"
      },
      "source": [
        "df[['Fare','Survived']].groupby('Fare')['Survived'].mean().plot.bar()\n"
      ],
      "execution_count": 179,
      "outputs": [
        {
          "output_type": "execute_result",
          "data": {
            "text/plain": [
              "<matplotlib.axes._subplots.AxesSubplot at 0x7f83b719da90>"
            ]
          },
          "metadata": {
            "tags": []
          },
          "execution_count": 179
        },
        {
          "output_type": "display_data",
          "data": {
            "image/png": "[encoded data removed]",
            "text/plain": [
              "<Figure size 432x288 with 1 Axes>"
            ]
          },
          "metadata": {
            "tags": [],
            "needs_background": "light"
          }
        }
      ]
    },
    {
      "cell_type": "markdown",
      "metadata": {
        "id": "m9E9xbNqI3Hc"
      },
      "source": [
        "#Age\n",
        "Replaced missing ages with median values for similar groups. Then I binned the ages into 5 groups."
      ]
    },
    {
      "cell_type": "code",
      "metadata": {
        "id": "IOY-1HfX8Jqt"
      },
      "source": [
        "df['Age'] = df.groupby(['Sex','Pclass','Title'])['Age'].apply(lambda x: x.fillna(x.median()))"
      ],
      "execution_count": 180,
      "outputs": []
    },
    {
      "cell_type": "code",
      "metadata": {
        "colab": {
          "base_uri": "https://localhost:8080/"
        },
        "id": "WglwUpJQJM4h",
        "outputId": "2187a5b6-eac5-464e-bf06-918b782630cd"
      },
      "source": [
        "df.isnull().sum()"
      ],
      "execution_count": 181,
      "outputs": [
        {
          "output_type": "execute_result",
          "data": {
            "text/plain": [
              "Pclass         0\n",
              "Name           0\n",
              "Sex            0\n",
              "Age            0\n",
              "SibSp          0\n",
              "Parch          0\n",
              "Ticket         0\n",
              "Fare           0\n",
              "Cabin       1014\n",
              "Embarked       2\n",
              "Survived     418\n",
              "Family         0\n",
              "Title          0\n",
              "dtype: int64"
            ]
          },
          "metadata": {
            "tags": []
          },
          "execution_count": 181
        }
      ]
    },
    {
      "cell_type": "code",
      "metadata": {
        "colab": {
          "base_uri": "https://localhost:8080/",
          "height": 0
        },
        "id": "sVmv3cjAXiqS",
        "outputId": "ffd21a62-eeb4-4743-f506-e85a1d354209"
      },
      "source": [
        "df.boxplot(column=['Age'])"
      ],
      "execution_count": 182,
      "outputs": [
        {
          "output_type": "execute_result",
          "data": {
            "text/plain": [
              "<matplotlib.axes._subplots.AxesSubplot at 0x7f83b71586d0>"
            ]
          },
          "metadata": {
            "tags": []
          },
          "execution_count": 182
        },
        {
          "output_type": "display_data",
          "data": {
            "image/png": "[encoded data removed]",
            "text/plain": [
              "<Figure size 432x288 with 1 Axes>"
            ]
          },
          "metadata": {
            "tags": [],
            "needs_background": "light"
          }
        }
      ]
    },
    {
      "cell_type": "code",
      "metadata": {
        "id": "xM3xquQ4imwA"
      },
      "source": [
        "age = pd.qcut(df['Age'].astype(int), 5)\n",
        "age = pd.Categorical(age)"
      ],
      "execution_count": 183,
      "outputs": []
    },
    {
      "cell_type": "code",
      "metadata": {
        "id": "HxsAeQp0ljXh"
      },
      "source": [
        "df['Age'] = age.codes"
      ],
      "execution_count": 184,
      "outputs": []
    },
    {
      "cell_type": "code",
      "metadata": {
        "colab": {
          "base_uri": "https://localhost:8080/",
          "height": 0
        },
        "id": "LGhkzthHbAqK",
        "outputId": "3e8a4aa7-f1f0-409d-8f51-ed8eec986302"
      },
      "source": [
        "df[['Age','Survived']].groupby('Age')['Survived'].mean().plot.bar()\n"
      ],
      "execution_count": 185,
      "outputs": [
        {
          "output_type": "execute_result",
          "data": {
            "text/plain": [
              "<matplotlib.axes._subplots.AxesSubplot at 0x7f83b70eef50>"
            ]
          },
          "metadata": {
            "tags": []
          },
          "execution_count": 185
        },
        {
          "output_type": "display_data",
          "data": {
            "image/png": "[encoded data removed]",
            "text/plain": [
              "<Figure size 432x288 with 1 Axes>"
            ]
          },
          "metadata": {
            "tags": [],
            "needs_background": "light"
          }
        }
      ]
    },
    {
      "cell_type": "markdown",
      "metadata": {
        "id": "f6FSeTXbXHTD"
      },
      "source": [
        "#Cabin\n",
        "Removing number from Cabin. Resulting in a feature representing the deck the passenger was on."
      ]
    },
    {
      "cell_type": "code",
      "metadata": {
        "id": "ZqZpoDl7K0bV"
      },
      "source": [
        "df['Cabin'] = df['Cabin'].apply(lambda s: s[0] if pd.notnull(s) else 'M')"
      ],
      "execution_count": 186,
      "outputs": []
    },
    {
      "cell_type": "code",
      "metadata": {
        "colab": {
          "base_uri": "https://localhost:8080/"
        },
        "id": "BGpuNOVConQ_",
        "outputId": "8dcfdca1-5a08-404f-afe9-1fb4cbe1bd6f"
      },
      "source": [
        "df['Cabin'].unique()"
      ],
      "execution_count": 187,
      "outputs": [
        {
          "output_type": "execute_result",
          "data": {
            "text/plain": [
              "array(['M', 'B', 'E', 'A', 'C', 'D', 'F', 'G', 'T'], dtype=object)"
            ]
          },
          "metadata": {
            "tags": []
          },
          "execution_count": 187
        }
      ]
    },
    {
      "cell_type": "code",
      "metadata": {
        "id": "c2hxgXmQorw9"
      },
      "source": [
        "df['Cabin'].replace({\n",
        "    \"M\" :        0,\n",
        "    \"B\" :        1,\n",
        "    \"E\":         2,\n",
        "    \"A\":         3,\n",
        "    \"C\" :        4,\n",
        "    \"D\" :        5,\n",
        "    \"F\":         6,\n",
        "    \"G\":         7,\n",
        "    \"T\" :        8\n",
        "}, inplace=True)"
      ],
      "execution_count": 188,
      "outputs": []
    },
    {
      "cell_type": "markdown",
      "metadata": {
        "id": "PzArjO5EUvf4"
      },
      "source": [
        "#Embarked"
      ]
    },
    {
      "cell_type": "code",
      "metadata": {
        "colab": {
          "base_uri": "https://localhost:8080/",
          "height": 0
        },
        "id": "iRCXMjeeS9Fi",
        "outputId": "229aa62e-0681-42ee-b83f-8ab5eff9833e"
      },
      "source": [
        "df.loc[df['Embarked'].isnull()]"
      ],
      "execution_count": 189,
      "outputs": [
        {
          "output_type": "execute_result",
          "data": {
            "text/html": [
              "<div>\n",
              "<style scoped>\n",
              "    .dataframe tbody tr th:only-of-type {\n",
              "        vertical-align: middle;\n",
              "    }\n",
              "\n",
              "    .dataframe tbody tr th {\n",
              "        vertical-align: top;\n",
              "    }\n",
              "\n",
              "    .dataframe thead th {\n",
              "        text-align: right;\n",
              "    }\n",
              "</style>\n",
              "<table border=\"1\" class=\"dataframe\">\n",
              "  <thead>\n",
              "    <tr style=\"text-align: right;\">\n",
              "      <th></th>\n",
              "      <th>Pclass</th>\n",
              "      <th>Name</th>\n",
              "      <th>Sex</th>\n",
              "      <th>Age</th>\n",
              "      <th>SibSp</th>\n",
              "      <th>Parch</th>\n",
              "      <th>Ticket</th>\n",
              "      <th>Fare</th>\n",
              "      <th>Cabin</th>\n",
              "      <th>Embarked</th>\n",
              "      <th>Survived</th>\n",
              "      <th>Family</th>\n",
              "      <th>Title</th>\n",
              "    </tr>\n",
              "    <tr>\n",
              "      <th>PassengerId</th>\n",
              "      <th></th>\n",
              "      <th></th>\n",
              "      <th></th>\n",
              "      <th></th>\n",
              "      <th></th>\n",
              "      <th></th>\n",
              "      <th></th>\n",
              "      <th></th>\n",
              "      <th></th>\n",
              "      <th></th>\n",
              "      <th></th>\n",
              "      <th></th>\n",
              "      <th></th>\n",
              "    </tr>\n",
              "  </thead>\n",
              "  <tbody>\n",
              "    <tr>\n",
              "      <th>62</th>\n",
              "      <td>1</td>\n",
              "      <td>Icard, Miss. Amelie</td>\n",
              "      <td>female</td>\n",
              "      <td>3</td>\n",
              "      <td>0</td>\n",
              "      <td>0</td>\n",
              "      <td>113572</td>\n",
              "      <td>4</td>\n",
              "      <td>1</td>\n",
              "      <td>NaN</td>\n",
              "      <td>1.0</td>\n",
              "      <td>Icard</td>\n",
              "      <td>2</td>\n",
              "    </tr>\n",
              "    <tr>\n",
              "      <th>830</th>\n",
              "      <td>1</td>\n",
              "      <td>Stone, Mrs. George Nelson (Martha Evelyn)</td>\n",
              "      <td>female</td>\n",
              "      <td>4</td>\n",
              "      <td>0</td>\n",
              "      <td>0</td>\n",
              "      <td>113572</td>\n",
              "      <td>4</td>\n",
              "      <td>1</td>\n",
              "      <td>NaN</td>\n",
              "      <td>1.0</td>\n",
              "      <td>Stone</td>\n",
              "      <td>1</td>\n",
              "    </tr>\n",
              "  </tbody>\n",
              "</table>\n",
              "</div>"
            ],
            "text/plain": [
              "             Pclass                                       Name  ... Family  Title\n",
              "PassengerId                                                     ...              \n",
              "62                1                        Icard, Miss. Amelie  ...  Icard      2\n",
              "830               1  Stone, Mrs. George Nelson (Martha Evelyn)  ...  Stone      1\n",
              "\n",
              "[2 rows x 13 columns]"
            ]
          },
          "metadata": {
            "tags": []
          },
          "execution_count": 189
        }
      ]
    },
    {
      "cell_type": "markdown",
      "metadata": {
        "id": "HdVTfD55U68h"
      },
      "source": [
        "Seeing that we only have two NA values for Embarked I found the missing information at the following links.\n",
        "\n",
        "Miss Amelie: https://www.encyclopedia-titanica.org/titanic-survivor/amelia-icard.html\n",
        "\n",
        "Mrs. George Nelson: https://www.encyclopedia-titanica.org/titanic-survivor/martha-evelyn-stone.html"
      ]
    },
    {
      "cell_type": "code",
      "metadata": {
        "id": "F8qOPeniUHJn"
      },
      "source": [
        "df.loc[df['Embarked'].isnull(), 'Embarked'] = 'S'"
      ],
      "execution_count": 190,
      "outputs": []
    },
    {
      "cell_type": "code",
      "metadata": {
        "colab": {
          "base_uri": "https://localhost:8080/"
        },
        "id": "Y1cXfNY1pt_4",
        "outputId": "d30a4cb4-6a83-4fea-9c96-a473d06c61fa"
      },
      "source": [
        "df['Embarked'].unique()"
      ],
      "execution_count": 191,
      "outputs": [
        {
          "output_type": "execute_result",
          "data": {
            "text/plain": [
              "array(['Q', 'S', 'C'], dtype=object)"
            ]
          },
          "metadata": {
            "tags": []
          },
          "execution_count": 191
        }
      ]
    },
    {
      "cell_type": "code",
      "metadata": {
        "id": "0UtwiSXQptwi"
      },
      "source": [
        "df['Embarked'].replace({\n",
        "    \"Q\" :        0,\n",
        "    \"S\" :        1,\n",
        "    \"C\":         2\n",
        "}, inplace=True)"
      ],
      "execution_count": 192,
      "outputs": []
    },
    {
      "cell_type": "code",
      "metadata": {
        "colab": {
          "base_uri": "https://localhost:8080/",
          "height": 0
        },
        "id": "QUBLYo6FU0aU",
        "outputId": "c68aba0f-8e00-49bf-8e9a-0f9204581f59"
      },
      "source": [
        "display(df.isnull().sum())"
      ],
      "execution_count": 193,
      "outputs": [
        {
          "output_type": "display_data",
          "data": {
            "text/plain": [
              "Pclass        0\n",
              "Name          0\n",
              "Sex           0\n",
              "Age           0\n",
              "SibSp         0\n",
              "Parch         0\n",
              "Ticket        0\n",
              "Fare          0\n",
              "Cabin         0\n",
              "Embarked      0\n",
              "Survived    418\n",
              "Family        0\n",
              "Title         0\n",
              "dtype: int64"
            ]
          },
          "metadata": {
            "tags": []
          }
        }
      ]
    },
    {
      "cell_type": "markdown",
      "metadata": {
        "id": "0SaOzxyBb39w"
      },
      "source": [
        "#New Features out of Existing Variables"
      ]
    },
    {
      "cell_type": "markdown",
      "metadata": {
        "id": "z73rAQvOjeHE"
      },
      "source": [
        "## Family Size"
      ]
    },
    {
      "cell_type": "code",
      "metadata": {
        "colab": {
          "base_uri": "https://localhost:8080/",
          "height": 0
        },
        "id": "eKluQVLzb7BG",
        "outputId": "bf2d6bc5-4041-4957-f862-74d7400bb4be"
      },
      "source": [
        "df['Family Size'] = df['SibSp'] + df['Parch'] + 1\n",
        "df['Family Size'].hist()"
      ],
      "execution_count": 194,
      "outputs": [
        {
          "output_type": "execute_result",
          "data": {
            "text/plain": [
              "<matplotlib.axes._subplots.AxesSubplot at 0x7f83b714c7d0>"
            ]
          },
          "metadata": {
            "tags": []
          },
          "execution_count": 194
        },
        {
          "output_type": "display_data",
          "data": {
            "image/png": "[encoded data removed]",
            "text/plain": [
              "<Figure size 432x288 with 1 Axes>"
            ]
          },
          "metadata": {
            "tags": [],
            "needs_background": "light"
          }
        }
      ]
    },
    {
      "cell_type": "code",
      "metadata": {
        "id": "orBa4e7HcHOQ"
      },
      "source": [
        "df['Family Size'] = df['Family Size'].map(lambda s: 1 if s == 1 else (2 if s ==2 else( 3 if 3 <= s <= 4 else(4 if s >= 5 else 0))))"
      ],
      "execution_count": 195,
      "outputs": []
    },
    {
      "cell_type": "code",
      "metadata": {
        "colab": {
          "base_uri": "https://localhost:8080/"
        },
        "id": "y-FkjyK-c6VK",
        "outputId": "c55b02f4-0ac0-4a17-e0ec-655ea5b7b590"
      },
      "source": [
        "df['Family Size'].value_counts()"
      ],
      "execution_count": 196,
      "outputs": [
        {
          "output_type": "execute_result",
          "data": {
            "text/plain": [
              "1    790\n",
              "2    235\n",
              "3    202\n",
              "4     82\n",
              "Name: Family Size, dtype: int64"
            ]
          },
          "metadata": {
            "tags": []
          },
          "execution_count": 196
        }
      ]
    },
    {
      "cell_type": "code",
      "metadata": {
        "colab": {
          "base_uri": "https://localhost:8080/",
          "height": 0
        },
        "id": "9Cl7e-C8dTO7",
        "outputId": "6fa4a25b-4c1f-4dbc-f697-c3be6c262ac6"
      },
      "source": [
        "df[['Family Size','Survived']].groupby('Family Size')['Survived'].mean().plot.bar()\n"
      ],
      "execution_count": 197,
      "outputs": [
        {
          "output_type": "execute_result",
          "data": {
            "text/plain": [
              "<matplotlib.axes._subplots.AxesSubplot at 0x7f83b7524710>"
            ]
          },
          "metadata": {
            "tags": []
          },
          "execution_count": 197
        },
        {
          "output_type": "display_data",
          "data": {
            "image/png": "[encoded data removed]",
            "text/plain": [
              "<Figure size 432x288 with 1 Axes>"
            ]
          },
          "metadata": {
            "tags": [],
            "needs_background": "light"
          }
        }
      ]
    },
    {
      "cell_type": "markdown",
      "metadata": {
        "id": "2DWpiO_Dji2A"
      },
      "source": [
        "## Passenger is Alone"
      ]
    },
    {
      "cell_type": "code",
      "metadata": {
        "id": "6dPiO6KcF-RM"
      },
      "source": [
        "df['IsAlone'] = 0\n",
        "df.loc[df['Family Size'] == 1, 'IsAlone'] = 1"
      ],
      "execution_count": 198,
      "outputs": []
    },
    {
      "cell_type": "markdown",
      "metadata": {
        "id": "_izahec9aHAd"
      },
      "source": [
        "##Sex"
      ]
    },
    {
      "cell_type": "code",
      "metadata": {
        "id": "MB5LOxnLaIHv"
      },
      "source": [
        "df['Sex'] = df['Sex'].map({'male': 0, 'female':1})"
      ],
      "execution_count": 199,
      "outputs": []
    },
    {
      "cell_type": "code",
      "metadata": {
        "colab": {
          "base_uri": "https://localhost:8080/"
        },
        "id": "Z8av0XI2Z59M",
        "outputId": "b8ffbb00-97ab-44ab-bf89-cecd1b41456b"
      },
      "source": [
        "df = df.drop(['Name', 'Ticket', 'Survived', 'Family'], axis =1)\n",
        "df.info()"
      ],
      "execution_count": 200,
      "outputs": [
        {
          "output_type": "stream",
          "text": [
            "<class 'pandas.core.frame.DataFrame'>\n",
            "Int64Index: 1309 entries, 892 to 891\n",
            "Data columns (total 11 columns):\n",
            " #   Column       Non-Null Count  Dtype\n",
            "---  ------       --------------  -----\n",
            " 0   Pclass       1309 non-null   int64\n",
            " 1   Sex          1309 non-null   int64\n",
            " 2   Age          1309 non-null   int8 \n",
            " 3   SibSp        1309 non-null   int64\n",
            " 4   Parch        1309 non-null   int64\n",
            " 5   Fare         1309 non-null   int8 \n",
            " 6   Cabin        1309 non-null   int64\n",
            " 7   Embarked     1309 non-null   int64\n",
            " 8   Title        1309 non-null   int64\n",
            " 9   Family Size  1309 non-null   int64\n",
            " 10  IsAlone      1309 non-null   int64\n",
            "dtypes: int64(9), int8(2)\n",
            "memory usage: 144.8 KB\n"
          ],
          "name": "stdout"
        }
      ]
    },
    {
      "cell_type": "markdown",
      "metadata": {
        "id": "PlImOgoqAvwc"
      },
      "source": [
        "### Last Look at Data"
      ]
    },
    {
      "cell_type": "code",
      "metadata": {
        "colab": {
          "base_uri": "https://localhost:8080/",
          "height": 436
        },
        "id": "Q5mMVCHfgEQJ",
        "outputId": "e97c4595-53e3-4445-e399-994f5d45b41c"
      },
      "source": [
        "f, ax = plt.subplots(figsize=[8,6])\n",
        "sns.heatmap(pd.concat([df.loc[traindex, :], Survived], axis=1).corr(),\n",
        "            annot=True, fmt=\".2f\",cbar_kws={'label': 'Percentage %'},cmap=\"plasma\",ax=ax)\n",
        "ax.set_title(\"Correlation Plot\")\n",
        "plt.show()"
      ],
      "execution_count": 201,
      "outputs": [
        {
          "output_type": "display_data",
          "data": {
            "image/png": "[encoded data removed]",
            "text/plain": [
              "<Figure size 576x432 with 2 Axes>"
            ]
          },
          "metadata": {
            "tags": [],
            "needs_background": "light"
          }
        }
      ]
    },
    {
      "cell_type": "code",
      "metadata": {
        "colab": {
          "base_uri": "https://localhost:8080/",
          "height": 319
        },
        "id": "-Q3lYUOTcu2N",
        "outputId": "116ab2af-ae81-473f-cf6a-97d7094f3097"
      },
      "source": [
        "pd.concat([df.loc[traindex, :], Survived], axis=1).hist()\n",
        "plt.tight_layout(pad=0)\n",
        "plt.show()"
      ],
      "execution_count": 202,
      "outputs": [
        {
          "output_type": "display_data",
          "data": {
            "image/png": "[encoded data removed]",
            "text/plain": [
              "<Figure size 432x288 with 12 Axes>"
            ]
          },
          "metadata": {
            "tags": [],
            "needs_background": "light"
          }
        }
      ]
    },
    {
      "cell_type": "markdown",
      "metadata": {
        "id": "81gbTIkjAbNQ"
      },
      "source": [
        "### Splitting Data back into Original Train/Test Sets."
      ]
    },
    {
      "cell_type": "code",
      "metadata": {
        "colab": {
          "base_uri": "https://localhost:8080/"
        },
        "id": "tnNrCW8UDtqc",
        "outputId": "46d0d459-989b-4a16-df0e-f93e438771cb"
      },
      "source": [
        "df.isnull().sum()"
      ],
      "execution_count": 203,
      "outputs": [
        {
          "output_type": "execute_result",
          "data": {
            "text/plain": [
              "Pclass         0\n",
              "Sex            0\n",
              "Age            0\n",
              "SibSp          0\n",
              "Parch          0\n",
              "Fare           0\n",
              "Cabin          0\n",
              "Embarked       0\n",
              "Title          0\n",
              "Family Size    0\n",
              "IsAlone        0\n",
              "dtype: int64"
            ]
          },
          "metadata": {
            "tags": []
          },
          "execution_count": 203
        }
      ]
    },
    {
      "cell_type": "code",
      "metadata": {
        "id": "KRmBy_DTgjmk"
      },
      "source": [
        "train_df = df.loc[traindex, :]\n",
        "train_df['Survived'] = Survived\n",
        "test_df = df.loc[validdex, :]"
      ],
      "execution_count": 204,
      "outputs": []
    },
    {
      "cell_type": "code",
      "metadata": {
        "colab": {
          "base_uri": "https://localhost:8080/"
        },
        "id": "3oVzLP9PiLsm",
        "outputId": "0126e061-8b4c-4f6e-d0f7-93c579e0e8c5"
      },
      "source": [
        "X = train_df.drop([\"Survived\"] , axis=1)\n",
        "y = Survived\n",
        "X_test_final = test_df\n",
        "\n",
        "print(\"X, Y, Test Shape:\",X.shape, y.shape, test_df.shape) # Data Dimensions"
      ],
      "execution_count": 207,
      "outputs": [
        {
          "output_type": "stream",
          "text": [
            "X, Y, Test Shape: (891, 11) (891,) (418, 11)\n"
          ],
          "name": "stdout"
        }
      ]
    },
    {
      "cell_type": "markdown",
      "metadata": {
        "id": "tOeCr9ZJASbC"
      },
      "source": [
        "### Splitting Train Data into Train/Test"
      ]
    },
    {
      "cell_type": "code",
      "metadata": {
        "id": "lyK7b_JziZQB"
      },
      "source": [
        "# Stratified Train/Test Split\n",
        "X_train, X_test, y_train, y_test = train_test_split(X, y, test_size=testset_size, stratify=y,random_state=rstate)\n",
        "X_train.shape, y_train.shape, X_test.shape, y_test.shape\n",
        "\n",
        "# Stratified Cross-Validation\n",
        "cv = StratifiedShuffleSplit(n_splits=n_splits, test_size=0.4, random_state=rstate)"
      ],
      "execution_count": 208,
      "outputs": []
    },
    {
      "cell_type": "markdown",
      "metadata": {
        "id": "NLRI0WqGAHuz"
      },
      "source": [
        "## Function for storing Model Results"
      ]
    },
    {
      "cell_type": "code",
      "metadata": {
        "id": "CYAMAmTBrIAS"
      },
      "source": [
        "\n",
        "results = pd.DataFrame(columns=['Model','Para','Test_Score','CV Mean','CV STDEV'])\n",
        "ensemble_models= {}\n",
        "\n",
        "def save(model, modelname):\n",
        "\n",
        "    global results\n",
        "   \n",
        "    model.best_estimator_.fit(X_train, y_train)\n",
        "    scores = cross_val_score(model.best_estimator_, X_train, y_train, cv=5,\n",
        "                             scoring=scoring, verbose =0)\n",
        "    CV_scores = scores.mean()\n",
        "    STDev = scores.std()\n",
        "    Test_scores = model.score(X_test, y_test)\n",
        "\n",
        " \n",
        "    results = results.append({'Model': modelname,'Para': model.best_params_,'Test_Score': Test_scores,\n",
        "                             'CV Mean':CV_scores, 'CV STDEV': STDev}, ignore_index=True)\n",
        "    ensemble_models[modelname] = model.best_estimator_\n",
        "    \n",
        "   \n",
        "    print(\"\\nEvaluation Method: {}\".format(scoring))\n",
        "    print(\"Optimal Model Parameters: {}\".format(grid.best_params_))\n",
        "    print(\"Train CV Accuracy: %0.2f (+/- %0.2f) [%s]\" % (CV_scores, STDev, modelname))\n",
        "    print('Test_Score:', Test_scores)\n",
        "        \n",
        "   \n",
        "    model.best_estimator_.fit(X_train, y_train)\n",
        "    pred = model.predict(X_test)\n",
        "    skplt.metrics.plot_confusion_matrix(y_test, pred, title=\"{} Confusion Matrix\".format(modelname),\n",
        "                normalize=True,figsize=(6,6),text_fontsize='large')\n",
        "    plt.show()\n"
      ],
      "execution_count": 209,
      "outputs": []
    },
    {
      "cell_type": "markdown",
      "metadata": {
        "id": "yq5A7K6BrXc-"
      },
      "source": [
        "### Pipelines for Selected Models and Ensemble Voting "
      ]
    },
    {
      "cell_type": "code",
      "metadata": {
        "id": "yfwefH2qSGV5"
      },
      "source": [
        "pipeline_lr = make_pipeline(StandardScaler(),PCA(n_components=8),\n",
        "                            LogisticRegression()\n",
        "                            )\n",
        "\n",
        "pipeline_svc = make_pipeline(StandardScaler(),\n",
        "                             PCA(),\n",
        "                             SVC(probability=True),\n",
        "                             )\n",
        "\n",
        "pipe_knn = make_pipeline(StandardScaler(),\n",
        "                        PCA(),\n",
        "                        KNeighborsClassifier())\n",
        "\n",
        "pipeline_dtc = make_pipeline(StandardScaler(),\n",
        "                             PCA(),\n",
        "                             DecisionTreeClassifier())\n",
        "\n",
        "pipeline_rfc = make_pipeline(StandardScaler(),\n",
        "                             PCA(),\n",
        "                             RandomForestClassifier())\n",
        "eclf_hard = EnsembleVoteClassifier(clfs=[pipeline_lr, pipeline_svc, pipe_knn, pipeline_dtc, pipeline_rfc], weights=[1,1,1,1,1], voting = 'hard')\n",
        "eclf_soft = EnsembleVoteClassifier(clfs=[pipeline_lr, pipeline_svc, pipe_knn, pipeline_dtc, pipeline_rfc], weights=[1,1,1,1,1], voting = 'soft')\n"
      ],
      "execution_count": 210,
      "outputs": []
    },
    {
      "cell_type": "code",
      "metadata": {
        "id": "PfV48LUnZJL1"
      },
      "source": [
        "clfs = {\n",
        "'LogisticRegression Pipeline' : pipeline_lr,\n",
        "'SVC Pipeline': pipeline_svc,\n",
        "'KNeighborsClassifier Pipeline': pipe_knn,\n",
        "'DecisionTreeClassifier Pipeline': pipeline_dtc,\n",
        "'RandomForest Pipeline': pipeline_rfc,\n",
        "'Ensemble Hard': eclf_hard,\n",
        "'Ensemble Soft': eclf_soft\n",
        "}"
      ],
      "execution_count": 211,
      "outputs": []
    },
    {
      "cell_type": "code",
      "metadata": {
        "colab": {
          "base_uri": "https://localhost:8080/",
          "height": 266
        },
        "id": "CawC4ZplZMpJ",
        "outputId": "3b95958b-24d1-4dbe-e87d-e5403893463c"
      },
      "source": [
        "models_report = pd.DataFrame(columns = ['Model', 'Precision_score', 'Recall_score','F1_score', 'Accuracy'])\n",
        "\n",
        "\n",
        "for clf, clf_name in zip(clfs.values(), clfs.keys()):\n",
        "\n",
        "    clf.fit(X_train, y_train)\n",
        "    y_pred = clf.predict(X_test)\n",
        "    y_score = clf.score(X_test,y_test)\n",
        "    \n",
        "    t = pd.Series({ \n",
        "                     'Model': clf_name,\n",
        "                     'Precision_score': metrics.precision_score(y_test, y_pred),\n",
        "                     'Recall_score': metrics.recall_score(y_test, y_pred),\n",
        "                     'F1_score': metrics.f1_score(y_test, y_pred),\n",
        "                     'Accuracy': metrics.accuracy_score(y_test, y_pred)}\n",
        "                   )\n",
        "\n",
        "    models_report = models_report.append(t, ignore_index = True)\n",
        "\n",
        "models_report"
      ],
      "execution_count": 214,
      "outputs": [
        {
          "output_type": "execute_result",
          "data": {
            "text/html": [
              "<div>\n",
              "<style scoped>\n",
              "    .dataframe tbody tr th:only-of-type {\n",
              "        vertical-align: middle;\n",
              "    }\n",
              "\n",
              "    .dataframe tbody tr th {\n",
              "        vertical-align: top;\n",
              "    }\n",
              "\n",
              "    .dataframe thead th {\n",
              "        text-align: right;\n",
              "    }\n",
              "</style>\n",
              "<table border=\"1\" class=\"dataframe\">\n",
              "  <thead>\n",
              "    <tr style=\"text-align: right;\">\n",
              "      <th></th>\n",
              "      <th>Model</th>\n",
              "      <th>Precision_score</th>\n",
              "      <th>Recall_score</th>\n",
              "      <th>F1_score</th>\n",
              "      <th>Accuracy</th>\n",
              "    </tr>\n",
              "  </thead>\n",
              "  <tbody>\n",
              "    <tr>\n",
              "      <th>0</th>\n",
              "      <td>LogisticRegression Pipeline</td>\n",
              "      <td>0.786325</td>\n",
              "      <td>0.671533</td>\n",
              "      <td>0.724409</td>\n",
              "      <td>0.803922</td>\n",
              "    </tr>\n",
              "    <tr>\n",
              "      <th>1</th>\n",
              "      <td>SVC Pipeline</td>\n",
              "      <td>0.823009</td>\n",
              "      <td>0.678832</td>\n",
              "      <td>0.744000</td>\n",
              "      <td>0.820728</td>\n",
              "    </tr>\n",
              "    <tr>\n",
              "      <th>2</th>\n",
              "      <td>KNeighborsClassifier Pipeline</td>\n",
              "      <td>0.795082</td>\n",
              "      <td>0.708029</td>\n",
              "      <td>0.749035</td>\n",
              "      <td>0.817927</td>\n",
              "    </tr>\n",
              "    <tr>\n",
              "      <th>3</th>\n",
              "      <td>DecisionTreeClassifier Pipeline</td>\n",
              "      <td>0.724409</td>\n",
              "      <td>0.671533</td>\n",
              "      <td>0.696970</td>\n",
              "      <td>0.775910</td>\n",
              "    </tr>\n",
              "    <tr>\n",
              "      <th>4</th>\n",
              "      <td>RandomForest Pipeline</td>\n",
              "      <td>0.791667</td>\n",
              "      <td>0.693431</td>\n",
              "      <td>0.739300</td>\n",
              "      <td>0.812325</td>\n",
              "    </tr>\n",
              "    <tr>\n",
              "      <th>5</th>\n",
              "      <td>Ensemble Hard</td>\n",
              "      <td>0.826087</td>\n",
              "      <td>0.693431</td>\n",
              "      <td>0.753968</td>\n",
              "      <td>0.826331</td>\n",
              "    </tr>\n",
              "    <tr>\n",
              "      <th>6</th>\n",
              "      <td>Ensemble Soft</td>\n",
              "      <td>0.770492</td>\n",
              "      <td>0.686131</td>\n",
              "      <td>0.725869</td>\n",
              "      <td>0.801120</td>\n",
              "    </tr>\n",
              "  </tbody>\n",
              "</table>\n",
              "</div>"
            ],
            "text/plain": [
              "                             Model  Precision_score  ...  F1_score  Accuracy\n",
              "0      LogisticRegression Pipeline         0.786325  ...  0.724409  0.803922\n",
              "1                     SVC Pipeline         0.823009  ...  0.744000  0.820728\n",
              "2    KNeighborsClassifier Pipeline         0.795082  ...  0.749035  0.817927\n",
              "3  DecisionTreeClassifier Pipeline         0.724409  ...  0.696970  0.775910\n",
              "4            RandomForest Pipeline         0.791667  ...  0.739300  0.812325\n",
              "5                    Ensemble Hard         0.826087  ...  0.753968  0.826331\n",
              "6                    Ensemble Soft         0.770492  ...  0.725869  0.801120\n",
              "\n",
              "[7 rows x 5 columns]"
            ]
          },
          "metadata": {
            "tags": []
          },
          "execution_count": 214
        }
      ]
    },
    {
      "cell_type": "markdown",
      "metadata": {
        "id": "0KUYBBDroyUb"
      },
      "source": [
        "#Logistic Regression"
      ]
    },
    {
      "cell_type": "code",
      "metadata": {
        "colab": {
          "base_uri": "https://localhost:8080/"
        },
        "id": "wuVM_-0VTEI4",
        "outputId": "6c0d9971-d063-48f6-e5f0-0fe5ca0eae10"
      },
      "source": [
        "LogisticRegression().get_params().keys()"
      ],
      "execution_count": 215,
      "outputs": [
        {
          "output_type": "execute_result",
          "data": {
            "text/plain": [
              "dict_keys(['C', 'class_weight', 'dual', 'fit_intercept', 'intercept_scaling', 'l1_ratio', 'max_iter', 'multi_class', 'n_jobs', 'penalty', 'random_state', 'solver', 'tol', 'verbose', 'warm_start'])"
            ]
          },
          "metadata": {
            "tags": []
          },
          "execution_count": 215
        }
      ]
    },
    {
      "cell_type": "code",
      "metadata": {
        "colab": {
          "base_uri": "https://localhost:8080/",
          "height": 0
        },
        "id": "szJT-M8trXxY",
        "outputId": "6cca4733-37a5-494f-cb53-b73b6ec64f77"
      },
      "source": [
        "\n",
        "grid_params_lr = { 'pca__n_components': range(0,40),\n",
        "    'logisticregression__C': [0.001, 0.01, 0.1, 1, 1.5, 2, 10],\n",
        "    'logisticregression__solver':['newton-cg', 'lbfgs', 'liblinear', 'sag', 'saga']\n",
        "}\n",
        "\n",
        "grid = GridSearchCV(estimator = pipeline_lr, \n",
        "                  param_grid = grid_params_lr, \n",
        "                  scoring = scoring, \n",
        "                  cv = cv,)\n",
        "\n",
        "\n",
        "grid.fit(X_train, y_train) \n",
        "save(grid, \"Logistic Regression\")"
      ],
      "execution_count": 216,
      "outputs": [
        {
          "output_type": "stream",
          "text": [
            "\n",
            "Evaluation Method: accuracy\n",
            "Optimal Model Parameters: {'logisticregression__C': 0.1, 'logisticregression__solver': 'liblinear', 'pca__n_components': 5}\n",
            "Train CV Accuracy: 0.80 (+/- 0.05) [Logistic Regression]\n",
            "Test_Score: 0.7983193277310925\n"
          ],
          "name": "stdout"
        },
        {
          "output_type": "display_data",
          "data": {
            "image/png": "[encoded data removed]",
            "text/plain": [
              "<Figure size 432x432 with 2 Axes>"
            ]
          },
          "metadata": {
            "tags": [],
            "needs_background": "light"
          }
        }
      ]
    },
    {
      "cell_type": "markdown",
      "metadata": {
        "id": "2YFjbeIkbvyB"
      },
      "source": [
        "#SVC Model"
      ]
    },
    {
      "cell_type": "code",
      "metadata": {
        "colab": {
          "base_uri": "https://localhost:8080/"
        },
        "id": "55DcaOPPb5zf",
        "outputId": "00875d86-11bb-4bf1-b94e-45f18ca75074"
      },
      "source": [
        "SVC().get_params().keys()"
      ],
      "execution_count": 217,
      "outputs": [
        {
          "output_type": "execute_result",
          "data": {
            "text/plain": [
              "dict_keys(['C', 'break_ties', 'cache_size', 'class_weight', 'coef0', 'decision_function_shape', 'degree', 'gamma', 'kernel', 'max_iter', 'probability', 'random_state', 'shrinking', 'tol', 'verbose'])"
            ]
          },
          "metadata": {
            "tags": []
          },
          "execution_count": 217
        }
      ]
    },
    {
      "cell_type": "code",
      "metadata": {
        "colab": {
          "base_uri": "https://localhost:8080/",
          "height": 0
        },
        "id": "J5JV_FFycXoJ",
        "outputId": "cef2b52b-5cc5-4a0b-8e13-bbcc91ee5908"
      },
      "source": [
        "param_grid = {'pca__n_components': range(0,40), 'svc__C':[0.001,0.1,1]}\n",
        "\n",
        "\n",
        "grid = GridSearchCV(estimator = pipeline_svc, \n",
        "                  param_grid = param_grid, \n",
        "                  scoring = scoring, \n",
        "                  cv = cv,)\n",
        "grid.fit(X_train,y_train)\n",
        "save(grid, \"SVC\")"
      ],
      "execution_count": 218,
      "outputs": [
        {
          "output_type": "stream",
          "text": [
            "\n",
            "Evaluation Method: accuracy\n",
            "Optimal Model Parameters: {'pca__n_components': 10, 'svc__C': 1}\n",
            "Train CV Accuracy: 0.82 (+/- 0.04) [SVC]\n",
            "Test_Score: 0.8207282913165266\n"
          ],
          "name": "stdout"
        },
        {
          "output_type": "display_data",
          "data": {
            "image/png": "[encoded data removed]",
            "text/plain": [
              "<Figure size 432x432 with 2 Axes>"
            ]
          },
          "metadata": {
            "tags": [],
            "needs_background": "light"
          }
        }
      ]
    },
    {
      "cell_type": "markdown",
      "metadata": {
        "id": "BImvlInCmQA3"
      },
      "source": [
        "#KNN Model"
      ]
    },
    {
      "cell_type": "code",
      "metadata": {
        "colab": {
          "base_uri": "https://localhost:8080/",
          "height": 0
        },
        "id": "EEl9yhunRxSy",
        "outputId": "dd174cdb-a793-4300-9002-234e8050956b"
      },
      "source": [
        "# Hyper parameters. Since RandomizedSearchCV is used, I use an uniform random interger range for the function to choose from.\n",
        "param_grid ={'pca__n_components': range(0,40),'kneighborsclassifier__n_neighbors': st.randint(1,40),\n",
        "             # Increasing this value reduces bias, and increases variance. Don't Overfit!\n",
        "            'kneighborsclassifier__weights':['uniform','distance']\n",
        "            }\n",
        "# Hyper-Parameter Tuning with Cross-Validation\n",
        "grid = RandomizedSearchCV(pipe_knn,\n",
        "                    param_grid, # Hyper Parameters\n",
        "                    cv=cv, # Cross-Validation splits. Stratified.\n",
        "                    scoring=scoring, # Best-Validation selection metric.\n",
        "                    verbose=1, # Quality of Life. Frequency of model updates\n",
        "                    n_iter=n_iter, # Number of hyperparameter combinations tried.\n",
        "                    random_state=rstate) # Reproducibility \n",
        "\n",
        "# Execute Tuning on entire dataset\n",
        "grid.fit(X_train, y_train)\n",
        "save(grid, 'KNN')"
      ],
      "execution_count": 219,
      "outputs": [
        {
          "output_type": "stream",
          "text": [
            "Fitting 2 folds for each of 70 candidates, totalling 140 fits\n"
          ],
          "name": "stdout"
        },
        {
          "output_type": "stream",
          "text": [
            "[Parallel(n_jobs=1)]: Using backend SequentialBackend with 1 concurrent workers.\n",
            "[Parallel(n_jobs=1)]: Done 140 out of 140 | elapsed:    0.9s finished\n"
          ],
          "name": "stderr"
        },
        {
          "output_type": "stream",
          "text": [
            "\n",
            "Evaluation Method: accuracy\n",
            "Optimal Model Parameters: {'kneighborsclassifier__n_neighbors': 6, 'kneighborsclassifier__weights': 'distance', 'pca__n_components': 8}\n",
            "Train CV Accuracy: 0.78 (+/- 0.02) [KNN]\n",
            "Test_Score: 0.8095238095238095\n"
          ],
          "name": "stdout"
        },
        {
          "output_type": "display_data",
          "data": {
            "image/png": "[encoded data removed]",
            "text/plain": [
              "<Figure size 432x432 with 2 Axes>"
            ]
          },
          "metadata": {
            "tags": [],
            "needs_background": "light"
          }
        }
      ]
    },
    {
      "cell_type": "markdown",
      "metadata": {
        "id": "DrMEh2UAmYrq"
      },
      "source": [
        "#Decision Tree"
      ]
    },
    {
      "cell_type": "code",
      "metadata": {
        "colab": {
          "base_uri": "https://localhost:8080/"
        },
        "id": "TwQS4Hpcme-4",
        "outputId": "12e76b2a-ef89-4c21-b9f9-288358d31f58"
      },
      "source": [
        "pipeline_dtc.get_params().keys()"
      ],
      "execution_count": 220,
      "outputs": [
        {
          "output_type": "execute_result",
          "data": {
            "text/plain": [
              "dict_keys(['memory', 'steps', 'verbose', 'standardscaler', 'pca', 'decisiontreeclassifier', 'standardscaler__copy', 'standardscaler__with_mean', 'standardscaler__with_std', 'pca__copy', 'pca__iterated_power', 'pca__n_components', 'pca__random_state', 'pca__svd_solver', 'pca__tol', 'pca__whiten', 'decisiontreeclassifier__ccp_alpha', 'decisiontreeclassifier__class_weight', 'decisiontreeclassifier__criterion', 'decisiontreeclassifier__max_depth', 'decisiontreeclassifier__max_features', 'decisiontreeclassifier__max_leaf_nodes', 'decisiontreeclassifier__min_impurity_decrease', 'decisiontreeclassifier__min_impurity_split', 'decisiontreeclassifier__min_samples_leaf', 'decisiontreeclassifier__min_samples_split', 'decisiontreeclassifier__min_weight_fraction_leaf', 'decisiontreeclassifier__presort', 'decisiontreeclassifier__random_state', 'decisiontreeclassifier__splitter'])"
            ]
          },
          "metadata": {
            "tags": []
          },
          "execution_count": 220
        }
      ]
    },
    {
      "cell_type": "code",
      "metadata": {
        "colab": {
          "base_uri": "https://localhost:8080/",
          "height": 0
        },
        "id": "epOGe9PSmqom",
        "outputId": "9b5ef6e9-81e6-4a70-a0d6-cee842f99f59"
      },
      "source": [
        "# Parameter Tuning\n",
        "param_grid ={'pca__n_components': range(0,40),\"decisiontreeclassifier__criterion\": ['gini', 'entropy'],\n",
        "    \"decisiontreeclassifier__splitter\": ['best','randon'],\n",
        "    \"decisiontreeclassifier__max_depth\": [10,100,500,1000]}\n",
        "\n",
        "model = pipeline_dtc\n",
        "grid = RandomizedSearchCV(model,\n",
        "                    param_grid, cv=cv, scoring=scoring,\n",
        "                    verbose=1,n_iter=n_iter, random_state=rstate)\n",
        "\n",
        "grid.fit(X_train, y_train)\n",
        "save(grid, 'Decision Tree')"
      ],
      "execution_count": 221,
      "outputs": [
        {
          "output_type": "stream",
          "text": [
            "Fitting 2 folds for each of 70 candidates, totalling 140 fits\n"
          ],
          "name": "stdout"
        },
        {
          "output_type": "stream",
          "text": [
            "[Parallel(n_jobs=1)]: Using backend SequentialBackend with 1 concurrent workers.\n",
            "[Parallel(n_jobs=1)]: Done 140 out of 140 | elapsed:    0.8s finished\n"
          ],
          "name": "stderr"
        },
        {
          "output_type": "stream",
          "text": [
            "\n",
            "Evaluation Method: accuracy\n",
            "Optimal Model Parameters: {'pca__n_components': 8, 'decisiontreeclassifier__splitter': 'best', 'decisiontreeclassifier__max_depth': 500, 'decisiontreeclassifier__criterion': 'entropy'}\n",
            "Train CV Accuracy: 0.77 (+/- 0.01) [Decision Tree]\n",
            "Test_Score: 0.8123249299719888\n"
          ],
          "name": "stdout"
        },
        {
          "output_type": "display_data",
          "data": {
            "image/png": "[encoded data removed]",
            "text/plain": [
              "<Figure size 432x432 with 2 Axes>"
            ]
          },
          "metadata": {
            "tags": [],
            "needs_background": "light"
          }
        }
      ]
    },
    {
      "cell_type": "markdown",
      "metadata": {
        "id": "0XnlnAN2nTzY"
      },
      "source": [
        "#Random Forest"
      ]
    },
    {
      "cell_type": "code",
      "metadata": {
        "colab": {
          "base_uri": "https://localhost:8080/"
        },
        "id": "q51G0IkooZBL",
        "outputId": "d4efffc7-3b22-476e-fba1-a91ebb989b57"
      },
      "source": [
        "pipeline_rfc.get_params().keys()"
      ],
      "execution_count": 222,
      "outputs": [
        {
          "output_type": "execute_result",
          "data": {
            "text/plain": [
              "dict_keys(['memory', 'steps', 'verbose', 'standardscaler', 'pca', 'randomforestclassifier', 'standardscaler__copy', 'standardscaler__with_mean', 'standardscaler__with_std', 'pca__copy', 'pca__iterated_power', 'pca__n_components', 'pca__random_state', 'pca__svd_solver', 'pca__tol', 'pca__whiten', 'randomforestclassifier__bootstrap', 'randomforestclassifier__ccp_alpha', 'randomforestclassifier__class_weight', 'randomforestclassifier__criterion', 'randomforestclassifier__max_depth', 'randomforestclassifier__max_features', 'randomforestclassifier__max_leaf_nodes', 'randomforestclassifier__max_samples', 'randomforestclassifier__min_impurity_decrease', 'randomforestclassifier__min_impurity_split', 'randomforestclassifier__min_samples_leaf', 'randomforestclassifier__min_samples_split', 'randomforestclassifier__min_weight_fraction_leaf', 'randomforestclassifier__n_estimators', 'randomforestclassifier__n_jobs', 'randomforestclassifier__oob_score', 'randomforestclassifier__random_state', 'randomforestclassifier__verbose', 'randomforestclassifier__warm_start'])"
            ]
          },
          "metadata": {
            "tags": []
          },
          "execution_count": 222
        }
      ]
    },
    {
      "cell_type": "code",
      "metadata": {
        "colab": {
          "base_uri": "https://localhost:8080/",
          "height": 505
        },
        "id": "uaM-h8nfmqTw",
        "outputId": "e6ed95ac-c950-47f0-8d82-269ee036d036"
      },
      "source": [
        "param_grid ={'pca__n_components': range(0,40), 'randomforestclassifier__max_depth': st.randint(3, 11), 'randomforestclassifier__max_features':[\"sqrt\", \"log2\"],'randomforestclassifier__max_leaf_nodes':st.randint(6, 10)\n",
        "            }\n",
        "\n",
        "model= pipeline_rfc\n",
        "\n",
        "grid = RandomizedSearchCV(model,\n",
        "                    param_grid, cv=cv,\n",
        "                    scoring=scoring,\n",
        "                    verbose=1,n_iter=n_iter, random_state=rstate)\n",
        "\n",
        "grid.fit(X_train, y_train)\n",
        "save(grid, 'RFC')"
      ],
      "execution_count": 223,
      "outputs": [
        {
          "output_type": "stream",
          "text": [
            "Fitting 2 folds for each of 70 candidates, totalling 140 fits\n"
          ],
          "name": "stdout"
        },
        {
          "output_type": "stream",
          "text": [
            "[Parallel(n_jobs=1)]: Using backend SequentialBackend with 1 concurrent workers.\n",
            "[Parallel(n_jobs=1)]: Done 140 out of 140 | elapsed:    7.4s finished\n"
          ],
          "name": "stderr"
        },
        {
          "output_type": "stream",
          "text": [
            "\n",
            "Evaluation Method: accuracy\n",
            "Optimal Model Parameters: {'pca__n_components': 7, 'randomforestclassifier__max_depth': 8, 'randomforestclassifier__max_features': 'sqrt', 'randomforestclassifier__max_leaf_nodes': 9}\n",
            "Train CV Accuracy: 0.81 (+/- 0.05) [RFC]\n",
            "Test_Score: 0.8235294117647058\n"
          ],
          "name": "stdout"
        },
        {
          "output_type": "display_data",
          "data": {
            "image/png": "[encoded data removed]",
            "text/plain": [
              "<Figure size 432x432 with 2 Axes>"
            ]
          },
          "metadata": {
            "tags": [],
            "needs_background": "light"
          }
        }
      ]
    },
    {
      "cell_type": "code",
      "metadata": {
        "id": "GsQsHv-tnpTN"
      },
      "source": [
        "pipeline_lr = make_pipeline(StandardScaler(),PCA(n_components=7),\n",
        "                            LogisticRegression(C=1.5, solver = 'liblinear')\n",
        "                            )\n",
        "\n",
        "pipeline_svc = make_pipeline(StandardScaler(),\n",
        "                             PCA(n_components = 9),\n",
        "                             SVC(probability=True, C=1),\n",
        "                             )\n",
        "\n",
        "pipe_knn = make_pipeline(StandardScaler(),\n",
        "                        PCA(n_components = 7),\n",
        "                        KNeighborsClassifier(n_neighbors = 17, weights = 'uniform'))\n",
        "\n",
        "pipeline_dtc = make_pipeline(StandardScaler(),\n",
        "                             PCA(n_components = 6),\n",
        "                             DecisionTreeClassifier(splitter = 'best', max_depth = 10, criterion = 'entropy'))\n",
        "\n",
        "pipeline_rfc = make_pipeline(StandardScaler(),\n",
        "                             PCA(n_components = 8),\n",
        "                             RandomForestClassifier(max_depth = 7, max_features = 'log2', max_leaf_nodes = 7))\n",
        "eclf_hard = EnsembleVoteClassifier(clfs=[pipeline_lr, pipeline_svc, pipe_knn, pipeline_dtc, pipeline_rfc], weights=[1,1,1,1,1], voting = 'hard')\n",
        "eclf_soft = EnsembleVoteClassifier(clfs=[pipeline_lr, pipeline_svc, pipe_knn, pipeline_dtc, pipeline_rfc], weights=[1,1,1,1,1], voting = 'soft')\n"
      ],
      "execution_count": 224,
      "outputs": []
    },
    {
      "cell_type": "code",
      "metadata": {
        "colab": {
          "base_uri": "https://localhost:8080/",
          "height": 266
        },
        "id": "Mcc8e8ybpjak",
        "outputId": "3ca053c8-fb9e-417e-f9d0-a8cdfde4e588"
      },
      "source": [
        "models_report = pd.DataFrame(columns = ['Model', 'Precision_score', 'Recall_score','F1_score', 'Accuracy'])\n",
        "sc = StandardScaler()\n",
        "\n",
        "for clf, clf_name in zip(clfs.values(), clfs.keys()):\n",
        "    #X_train = sc.fit_transform(X_train)\n",
        "    #X_test = sc.fit_transform(X_test)\n",
        "    clf.fit(X_train, y_train)\n",
        "    y_pred = clf.predict(X_test)\n",
        "    y_score = clf.score(X_test,y_test)\n",
        "    \n",
        "    t = pd.Series({ \n",
        "                     'Model': clf_name,\n",
        "                     'Precision_score': metrics.precision_score(y_test, y_pred),\n",
        "                     'Recall_score': metrics.recall_score(y_test, y_pred),\n",
        "                     'F1_score': metrics.f1_score(y_test, y_pred),\n",
        "                     'Accuracy': metrics.accuracy_score(y_test, y_pred)}\n",
        "                   )\n",
        "\n",
        "    models_report = models_report.append(t, ignore_index = True)\n",
        "\n",
        "models_report"
      ],
      "execution_count": 225,
      "outputs": [
        {
          "output_type": "execute_result",
          "data": {
            "text/html": [
              "<div>\n",
              "<style scoped>\n",
              "    .dataframe tbody tr th:only-of-type {\n",
              "        vertical-align: middle;\n",
              "    }\n",
              "\n",
              "    .dataframe tbody tr th {\n",
              "        vertical-align: top;\n",
              "    }\n",
              "\n",
              "    .dataframe thead th {\n",
              "        text-align: right;\n",
              "    }\n",
              "</style>\n",
              "<table border=\"1\" class=\"dataframe\">\n",
              "  <thead>\n",
              "    <tr style=\"text-align: right;\">\n",
              "      <th></th>\n",
              "      <th>Model</th>\n",
              "      <th>Precision_score</th>\n",
              "      <th>Recall_score</th>\n",
              "      <th>F1_score</th>\n",
              "      <th>Accuracy</th>\n",
              "    </tr>\n",
              "  </thead>\n",
              "  <tbody>\n",
              "    <tr>\n",
              "      <th>0</th>\n",
              "      <td>LogisticRegression Pipeline</td>\n",
              "      <td>0.786325</td>\n",
              "      <td>0.671533</td>\n",
              "      <td>0.724409</td>\n",
              "      <td>0.803922</td>\n",
              "    </tr>\n",
              "    <tr>\n",
              "      <th>1</th>\n",
              "      <td>SVC Pipeline</td>\n",
              "      <td>0.823009</td>\n",
              "      <td>0.678832</td>\n",
              "      <td>0.744000</td>\n",
              "      <td>0.820728</td>\n",
              "    </tr>\n",
              "    <tr>\n",
              "      <th>2</th>\n",
              "      <td>KNeighborsClassifier Pipeline</td>\n",
              "      <td>0.795082</td>\n",
              "      <td>0.708029</td>\n",
              "      <td>0.749035</td>\n",
              "      <td>0.817927</td>\n",
              "    </tr>\n",
              "    <tr>\n",
              "      <th>3</th>\n",
              "      <td>DecisionTreeClassifier Pipeline</td>\n",
              "      <td>0.722222</td>\n",
              "      <td>0.664234</td>\n",
              "      <td>0.692015</td>\n",
              "      <td>0.773109</td>\n",
              "    </tr>\n",
              "    <tr>\n",
              "      <th>4</th>\n",
              "      <td>RandomForest Pipeline</td>\n",
              "      <td>0.766917</td>\n",
              "      <td>0.744526</td>\n",
              "      <td>0.755556</td>\n",
              "      <td>0.815126</td>\n",
              "    </tr>\n",
              "    <tr>\n",
              "      <th>5</th>\n",
              "      <td>Ensemble Hard</td>\n",
              "      <td>0.829060</td>\n",
              "      <td>0.708029</td>\n",
              "      <td>0.763780</td>\n",
              "      <td>0.831933</td>\n",
              "    </tr>\n",
              "    <tr>\n",
              "      <th>6</th>\n",
              "      <td>Ensemble Soft</td>\n",
              "      <td>0.776860</td>\n",
              "      <td>0.686131</td>\n",
              "      <td>0.728682</td>\n",
              "      <td>0.803922</td>\n",
              "    </tr>\n",
              "  </tbody>\n",
              "</table>\n",
              "</div>"
            ],
            "text/plain": [
              "                             Model  Precision_score  ...  F1_score  Accuracy\n",
              "0      LogisticRegression Pipeline         0.786325  ...  0.724409  0.803922\n",
              "1                     SVC Pipeline         0.823009  ...  0.744000  0.820728\n",
              "2    KNeighborsClassifier Pipeline         0.795082  ...  0.749035  0.817927\n",
              "3  DecisionTreeClassifier Pipeline         0.722222  ...  0.692015  0.773109\n",
              "4            RandomForest Pipeline         0.766917  ...  0.755556  0.815126\n",
              "5                    Ensemble Hard         0.829060  ...  0.763780  0.831933\n",
              "6                    Ensemble Soft         0.776860  ...  0.728682  0.803922\n",
              "\n",
              "[7 rows x 5 columns]"
            ]
          },
          "metadata": {
            "tags": []
          },
          "execution_count": 225
        }
      ]
    },
    {
      "cell_type": "markdown",
      "metadata": {
        "id": "41XU7z2IDUXM"
      },
      "source": [
        "#Final Prediction"
      ]
    },
    {
      "cell_type": "code",
      "metadata": {
        "colab": {
          "base_uri": "https://localhost:8080/"
        },
        "id": "IKL5buYHrqwP",
        "outputId": "3d0523fa-6b8a-4800-c5ef-9196fe28d5af"
      },
      "source": [
        "eclf_soft.fit(X,y)\n",
        "predictions = eclf_soft.predict(X_test_final)\n",
        "predictions"
      ],
      "execution_count": 226,
      "outputs": [
        {
          "output_type": "execute_result",
          "data": {
            "text/plain": [
              "array([0, 0, 0, 0, 1, 0, 0, 0, 1, 0, 0, 0, 1, 0, 1, 1, 0, 0, 1, 1, 0, 1,\n",
              "       1, 0, 1, 0, 1, 0, 0, 0, 0, 0, 1, 1, 1, 0, 1, 1, 0, 0, 0, 0, 0, 1,\n",
              "       1, 0, 0, 0, 1, 1, 0, 0, 1, 1, 0, 0, 0, 0, 0, 1, 0, 0, 0, 1, 1, 1,\n",
              "       1, 0, 0, 0, 1, 0, 1, 0, 1, 0, 0, 1, 0, 1, 1, 0, 0, 0, 0, 0, 1, 1,\n",
              "       0, 1, 1, 0, 1, 0, 0, 0, 1, 0, 1, 0, 1, 0, 0, 0, 1, 0, 0, 0, 0, 0,\n",
              "       0, 1, 1, 1, 1, 0, 0, 1, 0, 1, 1, 0, 1, 0, 0, 1, 0, 1, 0, 0, 0, 1,\n",
              "       0, 0, 0, 0, 0, 0, 1, 0, 0, 1, 0, 0, 0, 0, 0, 0, 0, 1, 1, 0, 0, 1,\n",
              "       0, 0, 1, 1, 0, 1, 1, 1, 1, 0, 0, 1, 0, 0, 1, 1, 0, 0, 0, 0, 0, 1,\n",
              "       1, 0, 1, 1, 0, 0, 1, 0, 1, 0, 1, 0, 0, 0, 0, 0, 1, 0, 1, 0, 1, 1,\n",
              "       0, 1, 1, 1, 1, 1, 0, 0, 0, 0, 1, 0, 0, 0, 0, 1, 0, 0, 1, 0, 1, 0,\n",
              "       1, 0, 1, 0, 1, 0, 0, 1, 0, 0, 0, 1, 0, 0, 1, 0, 1, 0, 1, 1, 1, 1,\n",
              "       0, 0, 1, 0, 1, 0, 1, 1, 1, 0, 1, 0, 0, 0, 0, 0, 1, 0, 0, 0, 1, 1,\n",
              "       0, 0, 0, 0, 1, 0, 0, 0, 1, 1, 0, 1, 0, 0, 0, 0, 1, 1, 1, 1, 1, 0,\n",
              "       0, 0, 0, 0, 0, 0, 0, 1, 0, 0, 1, 0, 0, 0, 0, 1, 0, 0, 1, 1, 0, 1,\n",
              "       0, 1, 0, 0, 0, 0, 1, 1, 0, 0, 0, 0, 0, 0, 1, 0, 1, 0, 1, 0, 0, 0,\n",
              "       1, 0, 0, 1, 0, 0, 0, 0, 0, 0, 0, 0, 0, 1, 1, 1, 0, 1, 0, 1, 1, 0,\n",
              "       0, 0, 1, 0, 1, 0, 0, 1, 0, 1, 1, 0, 1, 0, 0, 1, 1, 0, 0, 1, 0, 0,\n",
              "       1, 1, 1, 0, 0, 0, 0, 0, 1, 1, 0, 1, 0, 0, 0, 0, 0, 1, 1, 0, 0, 1,\n",
              "       0, 1, 0, 0, 1, 0, 1, 0, 0, 1, 0, 0, 1, 1, 1, 1, 1, 0, 1, 0, 0, 1])"
            ]
          },
          "metadata": {
            "tags": []
          },
          "execution_count": 226
        }
      ]
    },
    {
      "cell_type": "code",
      "metadata": {
        "colab": {
          "base_uri": "https://localhost:8080/",
          "height": 419
        },
        "id": "BJjYk4ttxKor",
        "outputId": "9f7b8037-40e7-4fa4-cb31-af14febb5b29"
      },
      "source": [
        "final_prediction = {'PassengerId': PassengerID,\n",
        "                    'Survived': predictions,\n",
        "                    }\n",
        "\n",
        "final_prediction = pd.DataFrame(final_prediction, index=None)\n",
        "final_prediction = final_prediction[['PassengerId','Survived']]\n",
        "final_prediction"
      ],
      "execution_count": 227,
      "outputs": [
        {
          "output_type": "execute_result",
          "data": {
            "text/html": [
              "<div>\n",
              "<style scoped>\n",
              "    .dataframe tbody tr th:only-of-type {\n",
              "        vertical-align: middle;\n",
              "    }\n",
              "\n",
              "    .dataframe tbody tr th {\n",
              "        vertical-align: top;\n",
              "    }\n",
              "\n",
              "    .dataframe thead th {\n",
              "        text-align: right;\n",
              "    }\n",
              "</style>\n",
              "<table border=\"1\" class=\"dataframe\">\n",
              "  <thead>\n",
              "    <tr style=\"text-align: right;\">\n",
              "      <th></th>\n",
              "      <th>PassengerId</th>\n",
              "      <th>Survived</th>\n",
              "    </tr>\n",
              "  </thead>\n",
              "  <tbody>\n",
              "    <tr>\n",
              "      <th>0</th>\n",
              "      <td>892</td>\n",
              "      <td>0</td>\n",
              "    </tr>\n",
              "    <tr>\n",
              "      <th>1</th>\n",
              "      <td>893</td>\n",
              "      <td>0</td>\n",
              "    </tr>\n",
              "    <tr>\n",
              "      <th>2</th>\n",
              "      <td>894</td>\n",
              "      <td>0</td>\n",
              "    </tr>\n",
              "    <tr>\n",
              "      <th>3</th>\n",
              "      <td>895</td>\n",
              "      <td>0</td>\n",
              "    </tr>\n",
              "    <tr>\n",
              "      <th>4</th>\n",
              "      <td>896</td>\n",
              "      <td>1</td>\n",
              "    </tr>\n",
              "    <tr>\n",
              "      <th>...</th>\n",
              "      <td>...</td>\n",
              "      <td>...</td>\n",
              "    </tr>\n",
              "    <tr>\n",
              "      <th>413</th>\n",
              "      <td>1305</td>\n",
              "      <td>0</td>\n",
              "    </tr>\n",
              "    <tr>\n",
              "      <th>414</th>\n",
              "      <td>1306</td>\n",
              "      <td>1</td>\n",
              "    </tr>\n",
              "    <tr>\n",
              "      <th>415</th>\n",
              "      <td>1307</td>\n",
              "      <td>0</td>\n",
              "    </tr>\n",
              "    <tr>\n",
              "      <th>416</th>\n",
              "      <td>1308</td>\n",
              "      <td>0</td>\n",
              "    </tr>\n",
              "    <tr>\n",
              "      <th>417</th>\n",
              "      <td>1309</td>\n",
              "      <td>1</td>\n",
              "    </tr>\n",
              "  </tbody>\n",
              "</table>\n",
              "<p>418 rows × 2 columns</p>\n",
              "</div>"
            ],
            "text/plain": [
              "     PassengerId  Survived\n",
              "0            892         0\n",
              "1            893         0\n",
              "2            894         0\n",
              "3            895         0\n",
              "4            896         1\n",
              "..           ...       ...\n",
              "413         1305         0\n",
              "414         1306         1\n",
              "415         1307         0\n",
              "416         1308         0\n",
              "417         1309         1\n",
              "\n",
              "[418 rows x 2 columns]"
            ]
          },
          "metadata": {
            "tags": []
          },
          "execution_count": 227
        }
      ]
    },
    {
      "cell_type": "code",
      "metadata": {
        "colab": {
          "base_uri": "https://localhost:8080/",
          "height": 17
        },
        "id": "brmth-hZ3I02",
        "outputId": "75871d8a-3037-417e-f378-c82c3fad1a58"
      },
      "source": [
        "#Code for downloading csv file that must be submitted for the Kaggle Competition\n",
        "final_prediction.to_csv('Titanic Survived Predictions - Spencer Flynn.csv',index=None)\n",
        "from google.colab import files\n",
        "files.download('Titanic Survived Predictions - Spencer Flynn.csv')"
      ],
      "execution_count": 229,
      "outputs": [
        {
          "output_type": "display_data",
          "data": {
            "application/javascript": [
              "\n",
              "    async function download(id, filename, size) {\n",
              "      if (!google.colab.kernel.accessAllowed) {\n",
              "        return;\n",
              "      }\n",
              "      const div = document.createElement('div');\n",
              "      const label = document.createElement('label');\n",
              "      label.textContent = `Downloading \"${filename}\": `;\n",
              "      div.appendChild(label);\n",
              "      const progress = document.createElement('progress');\n",
              "      progress.max = size;\n",
              "      div.appendChild(progress);\n",
              "      document.body.appendChild(div);\n",
              "\n",
              "      const buffers = [];\n",
              "      let downloaded = 0;\n",
              "\n",
              "      const channel = await google.colab.kernel.comms.open(id);\n",
              "      // Send a message to notify the kernel that we're ready.\n",
              "      channel.send({})\n",
              "\n",
              "      for await (const message of channel.messages) {\n",
              "        // Send a message to notify the kernel that we're ready.\n",
              "        channel.send({})\n",
              "        if (message.buffers) {\n",
              "          for (const buffer of message.buffers) {\n",
              "            buffers.push(buffer);\n",
              "            downloaded += buffer.byteLength;\n",
              "            progress.value = downloaded;\n",
              "          }\n",
              "        }\n",
              "      }\n",
              "      const blob = new Blob(buffers, {type: 'application/binary'});\n",
              "      const a = document.createElement('a');\n",
              "      a.href = window.URL.createObjectURL(blob);\n",
              "      a.download = filename;\n",
              "      div.appendChild(a);\n",
              "      a.click();\n",
              "      div.remove();\n",
              "    }\n",
              "  "
            ],
            "text/plain": [
              "<IPython.core.display.Javascript object>"
            ]
          },
          "metadata": {
            "tags": []
          }
        },
        {
          "output_type": "display_data",
          "data": {
            "application/javascript": [
              "download(\"download_e91119b4-a3e9-49df-bdd4-1b95d32f129c\", \"Titanic Survived Predictions - Spencer Flynn.csv\", 2839)"
            ],
            "text/plain": [
              "<IPython.core.display.Javascript object>"
            ]
          },
          "metadata": {
            "tags": []
          }
        }
      ]
    },
    {
      "cell_type": "code",
      "metadata": {
        "id": "E1HqSmRZ751d"
      },
      "source": [
        ""
      ],
      "execution_count": null,
      "outputs": []
    }
  ]
}
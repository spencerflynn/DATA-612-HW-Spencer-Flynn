{
  "nbformat": 4,
  "nbformat_minor": 0,
  "metadata": {
    "colab": {
      "name": "Model Development",
      "provenance": [],
      "toc_visible": true,
      "background_execution": "on",
      "mount_file_id": "12C8i5m8VAOzPQ8G5Iwn0pz9frTRff6t6",
      "authorship_tag": "ABX9TyOLpr6IHjzu5QN0GXtDwz5/",
      "include_colab_link": true
    },
    "kernelspec": {
      "name": "python3",
      "display_name": "Python 3"
    },
    "language_info": {
      "name": "python"
    }
  },
  "cells": [
    {
      "cell_type": "markdown",
      "metadata": {
        "id": "view-in-github",
        "colab_type": "text"
      },
      "source": [
        "<a href=\"https://colab.research.google.com/github/thoreau024/DATA-612-HW-Spencer-Flynn/blob/main/Model_Development.ipynb\" target=\"_parent\"><img src=\"https://colab.research.google.com/assets/colab-badge.svg\" alt=\"Open In Colab\"/></a>"
      ]
    },
    {
      "cell_type": "code",
      "source": [
        "from sklearn.linear_model import SGDClassifier\n",
        "from lightgbm import LGBMClassifier\n",
        "from sklearn.linear_model import SGDClassifier\n",
        "from tensorflow.keras.models import Sequential\n",
        "from tensorflow.keras.layers import Dense\n",
        "!pip install scikeras\n",
        "from scikeras.wrappers import KerasClassifier\n",
        "from keras.layers import LeakyReLU\n",
        "from tensorflow.keras.optimizers import Adam, SGD, RMSprop, Adadelta, Adagrad, Adamax, Nadam, Ftrl\n",
        "import time\n",
        "import os\n",
        "import numpy as np  # linear algebra\n",
        "import pandas as pd  #\n",
        "from datetime import datetime\n",
        "from sklearn.model_selection import train_test_split\n",
        "from sklearn.linear_model import RidgeClassifier\n",
        "from sklearn.neighbors import KNeighborsClassifier\n",
        "from xgboost import XGBClassifier\n",
        "from sklearn.svm import SVC\n",
        "from sklearn.ensemble import BaggingClassifier\n",
        "from sklearn.ensemble import RandomForestClassifier\n",
        "from sklearn.linear_model import LogisticRegression\n",
        "import lightgbm as lgb\n",
        "from sklearn.metrics import confusion_matrix, precision_score, accuracy_score, recall_score, roc_auc_score, f1_score\n",
        "#import scikitplot as skplt\n",
        "%matplotlib inline\n",
        "np.random.seed(7)\n",
        "\n",
        "from sklearn.model_selection import GridSearchCV\n",
        "from sklearn.model_selection import RepeatedStratifiedKFold, StratifiedKFold\n",
        "from scipy.stats import randint as sp_randint\n",
        "from sklearn.model_selection import RandomizedSearchCV\n",
        "\n",
        "\n",
        "import math\n",
        "import warnings\n",
        "warnings.filterwarnings('ignore')\n",
        "pd.set_option(\"display.max_columns\", None)\n",
        "\n",
        "from tensorflow.keras import optimizers \n",
        "\n",
        "# Import packages\n",
        "import numpy as np\n",
        "import pandas as pd\n",
        "import matplotlib.pyplot as plt\n",
        "import seaborn as sns\n",
        "from sklearn.model_selection import train_test_split\n",
        "from sklearn.model_selection import cross_val_score\n",
        "from keras.models import Sequential\n",
        "from keras.layers import Dense, BatchNormalization, Dropout\n",
        "from keras import optimizers\n",
        "from keras.callbacks import EarlyStopping, ModelCheckpoint\n",
        "from math import floor\n",
        "from sklearn.metrics import make_scorer, accuracy_score, recall_score, roc_curve\n",
        "! pip install bayesian-optimization\n",
        "#from bayes_opt import BayesianOptimization\n",
        "from bayes_opt import BayesianOptimization\n",
        "from sklearn.model_selection import StratifiedKFold\n",
        "from keras.layers import LeakyReLU\n",
        "import warnings\n",
        "warnings.filterwarnings('ignore')\n",
        "pd.set_option(\"display.max_columns\", None)\n",
        "from tensorflow.keras.optimizers import Adam, SGD, RMSprop, Adadelta, Adagrad, Adamax, Nadam, Ftrl\n",
        "\n",
        "#Base Libraries\n",
        "import datetime as datetime\n",
        "\n",
        "#Scientific Libraries\n",
        "import pandas as pd\n",
        "import numpy as np\n",
        "from sklearn.model_selection import train_test_split\n",
        "\n",
        "#Visual Libraries\n",
        "import seaborn as sns\n",
        "from matplotlib.pyplot import figure\n",
        "import matplotlib.pyplot as plt\n",
        "%matplotlib inline\n",
        "\n",
        "import missingno as msno\n",
        "from keras.metrics import Precision\n",
        "precision = Precision()\n",
        "\n",
        "#Helper Libraries\n",
        "from google.colab import drive\n",
        "from sklearn.preprocessing import LabelEncoder\n",
        "\n",
        "import math\n",
        "\n",
        "! pip install bayesian-optimization\n",
        "#from bayes_opt import BayesianOptimization\n",
        "from bayes_opt import BayesianOptimization\n",
        "\n",
        "\n",
        "\n",
        "import tensorflow as tf\n",
        "from tensorflow import keras\n",
        "from keras.losses import BinaryCrossentropy\n",
        "from keras.metrics import Precision\n",
        "precision = Precision()\n",
        "from keras.layers import Dense, Dropout\n",
        "!pip install -q -U keras-tuner\n",
        "from keras_tuner import HyperModel\n",
        "from keras_tuner import BayesianOptimization as BO"
      ],
      "metadata": {
        "colab": {
          "base_uri": "https://localhost:8080/"
        },
        "id": "dKrXFp_ujF8v",
        "outputId": "0b8a9135-ec92-4d28-8e7b-e00b0d86a48a"
      },
      "execution_count": 1,
      "outputs": [
        {
          "output_type": "stream",
          "name": "stdout",
          "text": [
            "Requirement already satisfied: scikeras in /usr/local/lib/python3.7/dist-packages (0.6.1)\n",
            "Requirement already satisfied: packaging<22.0,>=0.21 in /usr/local/lib/python3.7/dist-packages (from scikeras) (21.3)\n",
            "Requirement already satisfied: scikit-learn>=1.0.0 in /usr/local/lib/python3.7/dist-packages (from scikeras) (1.0.2)\n",
            "Requirement already satisfied: importlib-metadata<4,>=3 in /usr/local/lib/python3.7/dist-packages (from scikeras) (3.10.1)\n",
            "Requirement already satisfied: typing-extensions>=3.6.4 in /usr/local/lib/python3.7/dist-packages (from importlib-metadata<4,>=3->scikeras) (3.10.0.2)\n",
            "Requirement already satisfied: zipp>=0.5 in /usr/local/lib/python3.7/dist-packages (from importlib-metadata<4,>=3->scikeras) (3.7.0)\n",
            "Requirement already satisfied: pyparsing!=3.0.5,>=2.0.2 in /usr/local/lib/python3.7/dist-packages (from packaging<22.0,>=0.21->scikeras) (3.0.7)\n",
            "Requirement already satisfied: numpy>=1.14.6 in /usr/local/lib/python3.7/dist-packages (from scikit-learn>=1.0.0->scikeras) (1.21.5)\n",
            "Requirement already satisfied: joblib>=0.11 in /usr/local/lib/python3.7/dist-packages (from scikit-learn>=1.0.0->scikeras) (1.1.0)\n",
            "Requirement already satisfied: scipy>=1.1.0 in /usr/local/lib/python3.7/dist-packages (from scikit-learn>=1.0.0->scikeras) (1.4.1)\n",
            "Requirement already satisfied: threadpoolctl>=2.0.0 in /usr/local/lib/python3.7/dist-packages (from scikit-learn>=1.0.0->scikeras) (3.1.0)\n",
            "Requirement already satisfied: bayesian-optimization in /usr/local/lib/python3.7/dist-packages (1.2.0)\n",
            "Requirement already satisfied: numpy>=1.9.0 in /usr/local/lib/python3.7/dist-packages (from bayesian-optimization) (1.21.5)\n",
            "Requirement already satisfied: scikit-learn>=0.18.0 in /usr/local/lib/python3.7/dist-packages (from bayesian-optimization) (1.0.2)\n",
            "Requirement already satisfied: scipy>=0.14.0 in /usr/local/lib/python3.7/dist-packages (from bayesian-optimization) (1.4.1)\n",
            "Requirement already satisfied: threadpoolctl>=2.0.0 in /usr/local/lib/python3.7/dist-packages (from scikit-learn>=0.18.0->bayesian-optimization) (3.1.0)\n",
            "Requirement already satisfied: joblib>=0.11 in /usr/local/lib/python3.7/dist-packages (from scikit-learn>=0.18.0->bayesian-optimization) (1.1.0)\n",
            "Requirement already satisfied: bayesian-optimization in /usr/local/lib/python3.7/dist-packages (1.2.0)\n",
            "Requirement already satisfied: scipy>=0.14.0 in /usr/local/lib/python3.7/dist-packages (from bayesian-optimization) (1.4.1)\n",
            "Requirement already satisfied: numpy>=1.9.0 in /usr/local/lib/python3.7/dist-packages (from bayesian-optimization) (1.21.5)\n",
            "Requirement already satisfied: scikit-learn>=0.18.0 in /usr/local/lib/python3.7/dist-packages (from bayesian-optimization) (1.0.2)\n",
            "Requirement already satisfied: joblib>=0.11 in /usr/local/lib/python3.7/dist-packages (from scikit-learn>=0.18.0->bayesian-optimization) (1.1.0)\n",
            "Requirement already satisfied: threadpoolctl>=2.0.0 in /usr/local/lib/python3.7/dist-packages (from scikit-learn>=0.18.0->bayesian-optimization) (3.1.0)\n",
            "\u001b[K     |████████████████████████████████| 98 kB 2.6 MB/s \n",
            "\u001b[31mERROR: pip's dependency resolver does not currently take into account all the packages that are installed. This behaviour is the source of the following dependency conflicts.\n",
            "scikeras 0.6.1 requires importlib-metadata<4,>=3; python_version < \"3.8\", but you have importlib-metadata 4.11.3 which is incompatible.\u001b[0m\n",
            "\u001b[?25h"
          ]
        }
      ]
    },
    {
      "cell_type": "code",
      "source": [
        "from yellowbrick.classifier import ClassificationReport\n",
        "from yellowbrick.datasets import load_occupancy\n",
        "\n",
        "def plot_report(model,train,test,pred):\n",
        "  # Specify the target classes\n",
        "  classes = [\"0\", \"1\"]\n",
        "  # Instantiate the classification model and visualizer\n",
        "  fig, axes = plt.subplots( nrows=1, ncols=2, figsize=(20,8) )\n",
        "\n",
        "\n",
        "  conf = confusion_matrix(y_test,pred)\n",
        "  sns.set_theme(style='white')\n",
        "  group_names = ['True Neg','False Pos','False Neg','True Pos']\n",
        "  group_counts = [\"{0:0.0f}\".format(value) for value in\n",
        "                  conf.flatten()]\n",
        "  group_percentages = [\"{0:.2%}\".format(value) for value in\n",
        "                      conf.flatten()/np.sum(conf)]\n",
        "  labels = [f\"{v1}\\n{v2}\\n{v3}\" for v1, v2, v3 in\n",
        "            zip(group_names,group_counts,group_percentages)]\n",
        "  labels = np.asarray(labels).reshape(2,2)\n",
        "  sns.heatmap(conf, annot=labels, fmt='',cmap='Blues',center=1,ax=axes[0])\n",
        "\n",
        "\n",
        "\n",
        "\n",
        "  visualizer = ClassificationReport(SGD_model,ax=axes[1], classes=classes, support=True,cmap='Blues')\n",
        "\n",
        "\n",
        "  visualizer.fit(train, y_train)        # Fit the visualizer and the model\n",
        "  visualizer.score(test, y_test)        # Evaluate the model on the test data\n",
        "  visualizer.show()                       # Finalize and show the figure"
      ],
      "metadata": {
        "id": "ov-M_AIyEwPz"
      },
      "execution_count": 2,
      "outputs": []
    },
    {
      "cell_type": "code",
      "source": [
        "from google.colab import drive\n",
        "drive.mount('/content/drive')"
      ],
      "metadata": {
        "id": "rT6krnqBgNol",
        "colab": {
          "base_uri": "https://localhost:8080/"
        },
        "outputId": "4f56b7b4-d35a-47f7-8a21-f3632557f264"
      },
      "execution_count": 3,
      "outputs": [
        {
          "output_type": "stream",
          "name": "stdout",
          "text": [
            "Drive already mounted at /content/drive; to attempt to forcibly remount, call drive.mount(\"/content/drive\", force_remount=True).\n"
          ]
        }
      ]
    },
    {
      "cell_type": "code",
      "source": [
        "def table(model,Xtrain,ytrain,Xtest,ytest):\n",
        "  cols = ['Score','Train','Validation']\n",
        "  table = pd.DataFrame(columns=cols)\n",
        "  table.set_index(\"Score\",inplace=True)\n",
        "\n",
        "  model.fit(Xtrain,ytrain)\n",
        "  train_pred = model.predict(Xtrain)\n",
        "  table.loc['Precision','Train'] = round(100*precision_score(y_true=ytrain,y_pred=train_pred),1)\n",
        "  table.loc['Recall','Train'] = round(100*recall_score(y_true=ytrain,y_pred=train_pred),1)\n",
        "  table.loc['Accuracy','Train'] = round(100*accuracy_score(y_true=ytrain,y_pred=train_pred),1)\n",
        "  table.loc['F1','Train'] = round(100*f1_score(y_true=ytrain,y_pred=train_pred),1)\n",
        "\n",
        "  val_pred = model.predict(Xtest)\n",
        "  table.loc['Precision','Validation'] = round(100*precision_score(y_true=ytest,y_pred=val_pred),1)\n",
        "  table.loc['Recall','Validation'] = round(100*recall_score(y_true=ytest,y_pred=val_pred),1)\n",
        "  table.loc['Accuracy','Validation'] = round(100*accuracy_score(y_true=ytest,y_pred=val_pred),1)\n",
        "  table.loc['F1','Validation'] = round(100*f1_score(y_true=ytest,y_pred=val_pred),1)\n",
        "  return table"
      ],
      "metadata": {
        "id": "y2ErnWD6olyA"
      },
      "execution_count": 4,
      "outputs": []
    },
    {
      "cell_type": "markdown",
      "metadata": {
        "id": "yd21pekisrtI"
      },
      "source": [
        "#The Data\n",
        "In the actual dataset, there were 170 features, but I have only chosen XXX of these features due to duplicate features from multiple data tables and majority null values. \n",
        "\n",
        "\n",
        "1. Task Category Code: Code describing category for task being created.\n",
        "  *   Clinician Initial Review\n",
        "  *   Complete Sync Appointment\n",
        "\n",
        "2. Priority: Priority Level of Task\n",
        "  *   Priority = [1,2,3,5]\n",
        "\n",
        "\n",
        "3. Task Created Action Code: Action that created task.\n",
        "  *   Patient Submit Visit\n",
        "  *   Patient Join Appointment\n",
        "  *   Patient Schedule Appointment\n",
        "\n",
        "4. Tasks per Visit (Last 28 days): Metric for individual clinician. Number of tasks per visit over the previous 28 days\n",
        "\n",
        "5. Productive Tasks per Active Hour: Number of productive tasks per active hour\n",
        "\n",
        "6. Books Completed\n",
        "\n",
        "7. Training Type: Training Type of Clinician\n",
        "  * Family\n",
        "  * OBGYN\n",
        "  * Psych\n",
        "  * Other\n",
        "  * Internal\n",
        "  * Therapy\n",
        "\n",
        "8. Sex: Sex of Clinician\n",
        "  * Female or Male\n",
        "\n",
        "9. Age\n",
        "\n",
        "10. Visits Signed Last Four Weeks\n",
        "\n",
        "11. Count Licensed States: Count of states Clinician is licensed in that are active on platform.\n",
        "\n",
        "12. QA_TM_CR_STATUS\n",
        "\n",
        "13. Closure Percentage\n",
        "\n",
        "14. Latest Book Score\n",
        "\n",
        "15. Clinician Type:\n",
        "  * NP\n",
        "  * MD\n",
        "  * DO\n",
        "  * Therapist\n",
        "  * PA\n",
        "\n",
        "16. Day Created\n",
        "\n",
        "17. Hour Created\n",
        "\n",
        "18. Hours Locked to Complete"
      ]
    },
    {
      "cell_type": "code",
      "source": [
        "test = pd.read_csv('/content/drive/MyDrive/capstone/TEST_MARCH.csv', low_memory=False)\n",
        "train = pd.read_csv('/content/drive/MyDrive/capstone/TRAIN.csv',low_memory = False)\n",
        "val = pd.read_csv('/content/drive/MyDrive/capstone/TEST.csv',low_memory = False)\n",
        "map = pd.read_csv('/content/drive/MyDrive/capstone/map.csv',low_memory = False)"
      ],
      "metadata": {
        "id": "hjkkSFUfH5I9"
      },
      "execution_count": 5,
      "outputs": []
    },
    {
      "cell_type": "markdown",
      "source": [
        "#Data Preprocessing\n",
        "##Feature Engineering"
      ],
      "metadata": {
        "id": "49hUMXlGU7o6"
      }
    },
    {
      "cell_type": "markdown",
      "source": [
        "Using the `state_code` feature tied to each task was used to created new features representing Geographical Region `region` and Timezone `timezone`\n",
        "```\n",
        "Regions\n",
        "regions = {'New England' : ['ME','NH','VT','MA','RI','CT'],\n",
        "           'Mid-Atlantic' : ['NY','NJ','PA'],\n",
        "           'East North Central' : ['OH','IN','IL','MI','WI'],\n",
        "           'West North Central' : ['MN','IA','MO','ND','SD','NE','KS'],\n",
        "           'South Atlantic' : ['DE','MD','VA','WV','NC','SC','GA','FL','DC'],\n",
        "           'East South Central' : ['KY','TN','AL','MS'],\n",
        "           'West South Central' : ['AR','LA','OK','TX'],\n",
        "           'Mountain' : ['MT','ID','WY','CO','NM','AZ','UT','NV'],\n",
        "           'Pacific' : ['WA','OR','CA','AK','HI']}\n",
        "\n",
        "\n",
        "Timezone\n",
        "\n",
        "timezone = {'CDT' : ['AL','AR','IL','IA','KS','LA','MN','MS','MO','NE','ND','OK','SD','TN','TX','WI'],\n",
        " 'EDT' : ['CT',\t'DE',\t'DC',\t'FL',\t'GA',\t'IN',\t'KY',\t'ME',\t'MD',\t'MA',\t'MI',\t'NH',\t'NJ',\t'NY',\t'NC',\t'OH',\t'PA',\t'RI',\t'SC',\t'VT',\t'VA',\t'WV'],\n",
        " 'MDT' : ['AZ',\t'CO',\t'ID',\t'MT',\t'NM',\t'UT',\t'WY'],\n",
        " 'PDT' : ['CA', 'NV', 'OR', 'WA'],\n",
        " 'HST' : ['HI'],\n",
        " 'AKDT' :\t['AK']}\n",
        "```\n",
        "Using the `timezone` feature and the `hours_locked_to_complete` I created another feature representing the average time (in minutes) it takes to completed a task based on the hour it was created and the timezone it is in. These values will first be stored:\n",
        "```\n",
        "full = train.append(val, ignore_index=True).copy(deep=True)\n",
        "mapping_df = full[['timezone','hour_created','min']].copy(deep=True)\n",
        "mapping_df['min_tzone']  = mapping_df.groupby(['timezone','hour_created'])['min'].transform(lambda x: (x.mean())).round(0)\n",
        "map =  mapping_df.groupby(['timezone','hour_created','min_tzone']).size().reset_index()\n",
        "map.sort_values(['timezone', 'hour_created'], ascending = (True, True))\n",
        "map.reset_index(drop=True,inplace=True)\n",
        "map.to_csv('/content/drive/MyDrive/capstone/map.csv',index=False)\n",
        "```\n",
        " and then mapped to the validation and test sets using the following `mean_min_tzone` function.\n"
      ],
      "metadata": {
        "id": "-EE9GoqtVk6b"
      }
    },
    {
      "cell_type": "code",
      "source": [
        "def map_min_tzone(dataframe):\n",
        "  dataframe['min_tzone'] = None\n",
        "  for x in map.index:\n",
        "    condition = map.loc[x,['timezone','hour_created','min_tzone']].values\n",
        "    i = dataframe[(dataframe['timezone'] == condition[0])&(dataframe['hour_created'] == condition[1])].index\n",
        "    dataframe.loc[i,'min_tzone'] = condition[2]\n",
        "\n",
        "  i = dataframe[dataframe['min_tzone'].isnull()].index\n",
        "  dataframe.loc[i,'hour_created'] = dataframe.loc[i,'hour_created'].apply(lambda x: x-1)\n",
        "\n",
        "  dataframe['min_tzone'] = None\n",
        "  for x in map.index:\n",
        "    condition = map.loc[x,['timezone','hour_created','min_tzone']].values\n",
        "    i = dataframe[(dataframe['timezone'] == condition[0])&(dataframe['hour_created'] == condition[1])].index\n",
        "    dataframe.loc[i,'min_tzone'] = condition[2]"
      ],
      "metadata": {
        "id": "xia4IFNokQsC"
      },
      "execution_count": 6,
      "outputs": []
    },
    {
      "cell_type": "markdown",
      "source": [
        "##Imputing Missing Values\n",
        "During preprocessing missing values are imputed by binning other continous features and finding the median value for each column. I have stored this process in the following function that is used on all of the data seperately."
      ],
      "metadata": {
        "id": "a-Nm2nSaX41u"
      }
    },
    {
      "cell_type": "code",
      "source": [
        "def preprocessing(dataframe):\n",
        "\n",
        "  map_min_tzone(dataframe)\n",
        "  dataframe['cls'] = pd.qcut(dataframe['count_licensed_states'],duplicates='drop',q=6)\n",
        "  dataframe['ag'] = pd.qcut(dataframe['age'],duplicates='drop',q=5)\n",
        "  dataframe['ptpah'] = pd.qcut(dataframe['productive_tasks_per_active_hour'],duplicates='drop',q=5,)\n",
        "  dataframe['nm'] = pd.qcut(dataframe['num_months'],duplicates='drop',q=7,labels=[0.1,0.3,0.4,0.6,0.7,0.9])\n",
        "  dataframe['qatm'] = pd.qcut(dataframe['qa_tm_cr_status'],duplicates='drop',q=5)\n",
        "\n",
        "  dataframe['tasks_per_visit_last_28'] = dataframe.groupby(['ptpah','ag'])['tasks_per_visit_last_28'].transform(lambda x: x.fillna(x.median()))\n",
        "\n",
        "  dataframe['closure_percentage'] = dataframe.groupby(['cls','ag'])['closure_percentage'].transform(lambda x: x.fillna(x.median()))\n",
        "  dataframe['closure_percentag'] = pd.qcut(dataframe['closure_percentage'],duplicates='drop',q=6)\n",
        "\n",
        "  dataframe['books_completed'] = dataframe.groupby(['closure_percentag','qatm'])['books_completed'].transform(lambda x: x.fillna(x.median()))\n",
        "\n",
        "\n",
        "  dataframe['visits_signed_last_four_weeks'] = dataframe.groupby(['nm','qatm'])['visits_signed_last_four_weeks'].transform(lambda x: x.fillna(x.median()))\n",
        "\n",
        "\n",
        "  dataframe['latest_book_score'] = dataframe.groupby(['qatm','closure_percentag'])['latest_book_score'].transform(lambda x: x.fillna(x.median()))\n",
        "\n",
        "  dataframe.drop(columns=['cls','ag','ptpah','nm','qatm','closure_percentag'],axis=1,inplace=True)\n",
        "\n",
        "  dataframe.drop(columns=['min','training_field','day_completed','day_created','hour_created','hour_completed','hours_locked_to_complete','timezone'],axis=1,inplace=True)\n",
        "  \n",
        "  \n",
        "  dataframe = pd.get_dummies(dataframe ,columns=['task_category_code', 'clinician_type','training_type','priority','task_created_action_code','regions'],drop_first=True)\n",
        "\n",
        "  return dataframe"
      ],
      "metadata": {
        "id": "NQMmRNxePzVp"
      },
      "execution_count": 7,
      "outputs": []
    },
    {
      "cell_type": "markdown",
      "source": [
        "##Scaling Data\n",
        "In order to fit the scalers, I first fitted and transformed the training data. I made copies of the dataset and processed it in seperate ways (no scaling, standardized, normalized [0,1]). "
      ],
      "metadata": {
        "id": "vb7AUzOsYR-C"
      }
    },
    {
      "cell_type": "code",
      "execution_count": 8,
      "metadata": {
        "id": "THnxGjl0xdnN"
      },
      "outputs": [],
      "source": [
        "\n",
        "train = preprocessing(train)\n",
        "train_s = train.copy(deep=True)\n",
        "train_n = train.copy(deep=True)\n",
        "\n",
        "from sklearn.preprocessing import StandardScaler, MinMaxScaler\n",
        "# define min max scaler\n",
        "scaler = StandardScaler()\n",
        "minmax = MinMaxScaler(feature_range=[0,1])\n",
        "\n",
        "# transform data\n",
        "train_s[['tasks_per_visit_last_28', 'productive_tasks_per_active_hour',\n",
        "       'books_completed', 'age', 'visits_signed_last_four_weeks',\n",
        "       'count_licensed_states', 'qa_tm_cr_status', 'closure_percentage',\n",
        "       'latest_book_score', 'hr_created_x', 'hr_created_y', 'day_created_x',\n",
        "       'day_created_y', 'num_months', 'min_tzone']] = scaler.fit_transform(train_s[['tasks_per_visit_last_28', 'productive_tasks_per_active_hour',\n",
        "                                                                                    'books_completed', 'age', 'visits_signed_last_four_weeks',\n",
        "                                                                                    'count_licensed_states', 'qa_tm_cr_status', 'closure_percentage',\n",
        "                                                                                    'latest_book_score', 'hr_created_x', 'hr_created_y', 'day_created_x',\n",
        "                                                                                    'day_created_y', 'num_months', 'min_tzone']])      \n",
        "\n",
        "train_n[['tasks_per_visit_last_28', 'productive_tasks_per_active_hour',\n",
        "       'books_completed', 'age', 'visits_signed_last_four_weeks',\n",
        "       'count_licensed_states', 'qa_tm_cr_status', 'closure_percentage',\n",
        "       'latest_book_score', 'hr_created_x', 'hr_created_y', 'day_created_x',\n",
        "       'day_created_y', 'num_months', 'min_tzone']] = minmax.fit_transform(train_n[['tasks_per_visit_last_28', 'productive_tasks_per_active_hour',\n",
        "                                                                                    'books_completed', 'age', 'visits_signed_last_four_weeks',\n",
        "                                                                                    'count_licensed_states', 'qa_tm_cr_status', 'closure_percentage',\n",
        "                                                                                    'latest_book_score', 'hr_created_x', 'hr_created_y', 'day_created_x',\n",
        "                                                                                    'day_created_y', 'num_months', 'min_tzone']])\n"
      ]
    },
    {
      "cell_type": "code",
      "source": [
        "X_train = train.drop(columns=['target'],axis=1)\n",
        "Xs_train = train_s.drop(columns=['target'],axis=1)\n",
        "Xn_train = train_n.drop(columns=['target'],axis=1)\n",
        "y_train = train['target']"
      ],
      "metadata": {
        "id": "qNuqvOEXZAim"
      },
      "execution_count": 9,
      "outputs": []
    },
    {
      "cell_type": "code",
      "source": [
        "def normalizing_s_n(dataframe):\n",
        "  dataframe_s = dataframe.copy(deep=True)\n",
        "  dataframe_n = dataframe.copy(deep=True)\n",
        "  # transform data\n",
        "  dataframe_s[['tasks_per_visit_last_28', 'productive_tasks_per_active_hour',\n",
        "        'books_completed', 'age', 'visits_signed_last_four_weeks',\n",
        "        'count_licensed_states', 'qa_tm_cr_status', 'closure_percentage',\n",
        "        'latest_book_score', 'hr_created_x', 'hr_created_y', 'day_created_x',\n",
        "        'day_created_y', 'num_months', 'min_tzone']] = scaler.transform(dataframe_s[['tasks_per_visit_last_28', 'productive_tasks_per_active_hour',\n",
        "                                                                                'books_completed', 'age', 'visits_signed_last_four_weeks',\n",
        "                                                                                'count_licensed_states', 'qa_tm_cr_status', 'closure_percentage',\n",
        "                                                                                'latest_book_score', 'hr_created_x', 'hr_created_y', 'day_created_x',\n",
        "                                                                                'day_created_y', 'num_months', 'min_tzone']])\n",
        "\n",
        "\n",
        "  dataframe_n[['tasks_per_visit_last_28', 'productive_tasks_per_active_hour',\n",
        "        'books_completed', 'age', 'visits_signed_last_four_weeks',\n",
        "        'count_licensed_states', 'qa_tm_cr_status', 'closure_percentage',\n",
        "        'latest_book_score', 'hr_created_x', 'hr_created_y', 'day_created_x',\n",
        "        'day_created_y', 'num_months', 'min_tzone']] = minmax.transform(dataframe_n[['tasks_per_visit_last_28', 'productive_tasks_per_active_hour',\n",
        "                                                                                'books_completed', 'age', 'visits_signed_last_four_weeks',\n",
        "                                                                                'count_licensed_states', 'qa_tm_cr_status', 'closure_percentage',\n",
        "                                                                                'latest_book_score', 'hr_created_x', 'hr_created_y', 'day_created_x',\n",
        "                                                                                'day_created_y', 'num_months', 'min_tzone']])\n",
        "  return dataframe_s , dataframe_n"
      ],
      "metadata": {
        "id": "Qf6T7Ol0VQia"
      },
      "execution_count": 10,
      "outputs": []
    },
    {
      "cell_type": "code",
      "source": [
        "val = preprocessing(val)\n",
        "val_s,val_n = normalizing_s_n(val)"
      ],
      "metadata": {
        "id": "5JGgvQ9WYTlP"
      },
      "execution_count": 11,
      "outputs": []
    },
    {
      "cell_type": "code",
      "source": [
        "Xs_test = val_s.drop(columns=['target'],axis=1)\n",
        "Xn_test = val_n.drop(columns=['target'],axis=1)\n",
        "X_test = val.drop(columns=['target'],axis=1)\n",
        "y_test = val['target']"
      ],
      "metadata": {
        "id": "UR_2-hqXcMNI"
      },
      "execution_count": 12,
      "outputs": []
    },
    {
      "cell_type": "code",
      "source": [
        "test = preprocessing(test)\n",
        "test_s,test_n = normalizing_s_n(test)"
      ],
      "metadata": {
        "id": "RJ0bGsvNbXst"
      },
      "execution_count": 13,
      "outputs": []
    },
    {
      "cell_type": "code",
      "source": [
        "Xs_final = test_s.drop(columns=['target'],axis=1)\n",
        "Xn_final = test_n.drop(columns=['target'],axis=1)\n",
        "X_final = test.drop(columns=['target'],axis=1)\n",
        "y_final = test['target']"
      ],
      "metadata": {
        "id": "2HAEIgPOrtbT"
      },
      "execution_count": 14,
      "outputs": []
    },
    {
      "cell_type": "markdown",
      "source": [
        "#Classification Models\n",
        "Classification is one of the most widely used problems in machine learning with various industrial applications.\n",
        "\n",
        "Models such as support vector machine (SVM), logistic regression, decision trees, random forest, XGboost, and neural networks are some of the most popular classification models. Before covering metrics, I will give a brief overview of the our selected models.\n",
        "\n",
        "#### **Stochastic Gradient Descent (SGD)**\n",
        "I have chosen the SGDClassifier as it has been successfully applied to large-scale and sparse machine learning problems, such as text classification. [1] SGD is merely an optimization technique and does not correspond to a specific family of machine learning models. SGDClassifier simply implements and SFD learning routine that supports various loss functions and penalties that can be used for classification. For example, using SGDClassifier with loss = 'log' results in Logistic Regression and with loss = 'hinge' it gives a linear SVM. \n",
        "\n",
        "#### **Random Forest Classifier (RF)**\n",
        "The random forest is a classification algorithm consisting of many decisions trees. It uses bagging and feature randomness when building each individual tree to try to create an uncorrelated forest of trees whose prediction by majorifty vote is more accurate than that of any individual tree. This type of ensemble method is referred to as bagging. Bagging, also known as bootstrap aggregating, refers to the process of creating and merging a collection of independent, parallel decision trees using different subsets of the training data (bootstrapped datasets).\n",
        "\n",
        "#### **Light Gradient Boosted Machine (LGBM)**\n",
        "LightGBM is a gradient boosting framework based on decision trees to increases the efficiency of the model and reduces memory usage. This type of ensemble differs from RF as it takes an iterative approach to combine a number of weak, sequential models to create one strong model by focusing on the mistakes in the prior iterations. With the choice of different boosting types, this model can take the form of tradiational Gradient Boosting Decision Trres (gbrt), Dropouts meet Multiple Additive Regression Trees (dart), Gradient-based One-Side Sampling, and even Random Forest (rf)!\n",
        "\n",
        "#### **Neural Network (NN)**\n",
        "The final model I will be constructing is a NN using the Keras API. One of the benefits of a neural network is that it can easily fit non-linear datasets. You don’t have to worry about trying different learning algorithms as you do with conventional machine-learning models; the network is the learning algorithm. Neural networks are capable of finding hidden patterns that are obscure and hard for us, humans, to notice."
      ],
      "metadata": {
        "id": "PRVHCKVia1nI"
      }
    },
    {
      "cell_type": "markdown",
      "metadata": {
        "id": "jObpvwBcsrtO"
      },
      "source": [
        "# Hyperparameter-tuning with Selected Models\n",
        "Hyperparameters are parameters that are not learnt by a model, but pre-defined.\n",
        "Hyperparameter tuning is the process of finding the optimal set of hyperparameters. It can be extremely hard to find optimal sets manually, so there are certain algorithms that make our hyperparameter search easier. Grid search is one of the algorithms that performs an exhaustive search, but for this reason it is incredibly time-consuming. An alternative is the Random Search algorithm that randomly searches the hyperparameter search space. While this method is much faster, it doesn’t guarantee a globally optimal solution.\n",
        "\n",
        "An algorithm that is more likely to provide globally optimal solutions and not nearly as time-consuming is Bayesian optimization.\n",
        "\n",
        "## Bayesian optimization for hyperparameter tuning\n",
        "\n",
        "\n",
        "Bayesian optimization (BO) uses gaussian process to model mean and variance of the target function.\n",
        "\n",
        "### Gaussian process\n",
        "\n",
        "Guassian process is a prior distribution on functions, and in the case of hyperparameter tuning it will be of the form:\n",
        "\n",
        "$\n",
        "\\begin{align}\n",
        "f:\\chi \\rightarrow {\\mathbb{R}} \n",
        "\\end{align}\n",
        "$ <br>\n",
        "<br>\n",
        "Where $\\chi$ is the space of the hyperparameter set we are tuning, and $f$ is the target function decided based on the criteria on which the hyperparameters needs to be tuned. For a gaussian process, $p(f|\\chi)$ follows a normal distribution. In our problem, I have defined mean accuracy from five fold cross validation as the target function. \n",
        "\n",
        "### Acquisition function\n",
        "\n",
        "It is assumed that the function $f(x)$ is drawn from a gaussain process prior and our observation is of the form ${x_i,y_i}$, where <br>\n",
        "\n",
        "$ y_i \\thicksim N(f(x_i), ν) $ , $ν$ is the variance of noise introduced into the function observations.\n",
        "\n",
        "This prior and the data induce a posterior over functions,the acquisition function, $a:\\chi \\rightarrow {\\mathbb{R^{+}}} \n",
        "$, determines what points in $\\chi$ to be evaluated next.\n",
        "\n",
        "\n",
        "An acquisition function that accounts for the size of the improvement is the Expected Improvement function. The expected improvement criterion automatically captures the exploitation-exploration tradeoff.\n",
        "\n",
        "This acquisiton function follows a greedy approach to find the optimum hyperparameters in each step, and with a fixed step of iteration, we are  expected to get the suitable hyperparameters for our model.\n",
        "\n",
        "\n",
        "\n",
        "\n"
      ]
    },
    {
      "cell_type": "markdown",
      "source": [
        "In the following sections I will be creating the objective functions for each machine learning algorithm. The function takes hyperparameters as inputs and BO explores the range of hyperparameters and finds the ones that maximize the objective function output. The output for all of the objective functions is the mean accuracy score for stratified kfold validation of each run."
      ],
      "metadata": {
        "id": "_5vNDfqqsT5U"
      }
    },
    {
      "cell_type": "markdown",
      "source": [
        "###SGD\n",
        " \n",
        "SGD Objective function for tuning the following hyperparameters:\n",
        "\n",
        "`loss`  `penalty`  `max_iter`  `alpha`  and `l1_ratio`\n",
        "\n",
        "\n",
        "\n",
        "```\n",
        "def of_sgd(loss,penalty,max_iter,alpha,l1_ratio):\n",
        "    \n",
        "    params_sgd = {'alpha': alpha,\n",
        "              'l1_ratio': l1_ratio,\n",
        "              'loss':['log', 'hinge', 'modified_huber', 'perceptron'],\n",
        "              'max_iter': max_iter,\n",
        "              'penalty': ['elasticnet','l1', 'l2', None]}\n",
        "\n",
        "              \n",
        "    clf_sgd = SGDClassifier(n_jobs=-1,\n",
        "                            loss=params_sgd['loss'][round(loss)], \n",
        "                            penalty=params_sgd['penalty'][round(penalty)], \n",
        "                            max_iter=int(round(params_sgd['max_iter'])), \n",
        "                            alpha=round(params_sgd['alpha'],4),\n",
        "                            l1_ratio=round(params_sgd['l1_ratio'],3),\n",
        "                            random_state=22)\n",
        "    kfold = StratifiedKFold(n_splits=5, shuffle=True, random_state=123)\n",
        "    score = cross_val_score(clf_sgd, Xs_train, y_train, scoring=score_acc, cv=kfold).mean()\n",
        "    return score\n",
        "```"
      ],
      "metadata": {
        "id": "JevmDdOOzxfc"
      }
    },
    {
      "cell_type": "markdown",
      "source": [
        "Initiating Bayesian Optimization for Hyperparameter search space\n",
        "\n",
        "```\n",
        "start = time.time()\n",
        "sgd_bo = BayesianOptimization(of_sgd, {'alpha': (0.0001, 0.01),\n",
        "                                              'l1_ratio': (0.001,0.5),\n",
        "                                              'loss': (0,3),\n",
        "                                              'max_iter': (100,10000),\n",
        "                                              'penalty': (0,3)\n",
        "                                              })\n",
        "\n",
        "sgd_results = sgd_bo.maximize(init_points=25, n_iter=100,acq='ei')\n",
        "\n",
        "end = time.time()\n",
        "print(round((end - start)/60),'minutes')\n",
        "4 minutes\n",
        "```\n",
        "I will now store the hyperparameter space that results in the maximized target (5 fold cross-validation accuracy score)\n",
        "\n",
        "```\n",
        "p_sgd = sgd_bo.max['params']\n",
        "```"
      ],
      "metadata": {
        "id": "VE7m9Qbb9pow"
      }
    },
    {
      "cell_type": "code",
      "source": [
        "p_sgd = {'alpha': 0.0061535773290368806,\n",
        " 'l1_ratio': 0.49659981282553806,\n",
        " 'loss': 0.9581582901675102,\n",
        " 'max_iter': 2659.522282577099,\n",
        " 'penalty': 2.5911304523597876}"
      ],
      "metadata": {
        "id": "ay6oHQzK33c5"
      },
      "execution_count": 15,
      "outputs": []
    },
    {
      "cell_type": "markdown",
      "source": [
        "Creating SGDClassifier with best hyperparameters."
      ],
      "metadata": {
        "id": "bmI3twN55BW_"
      }
    },
    {
      "cell_type": "code",
      "source": [
        "params_sgd =  {'loss':['log', 'hinge', 'modified_huber', 'perceptron','log'],\n",
        "               'penalty': ['elasticnet','l1', 'l2', 'elasticnet']}\n",
        "\n",
        "loss = p_sgd['loss']\n",
        "penalty = p_sgd['penalty']\n",
        "l1_ratio = p_sgd['l1_ratio']\n",
        "alpha = p_sgd['alpha']\n",
        "max_iter = p_sgd['max_iter']\n",
        "\n",
        "loss = params_sgd['loss'][round(loss)]\n",
        "penalty = params_sgd['penalty'][round(penalty)]\n",
        "max_iter = int(round(p_sgd['max_iter']))\n",
        "alpha = round(p_sgd['alpha'],4) \n",
        "l1_ratio = round(p_sgd['l1_ratio'],3)\n",
        "\n",
        "SGD_model = SGDClassifier(loss = loss, penalty = penalty,\n",
        "                    l1_ratio = l1_ratio, alpha = alpha,\n",
        "                    max_iter = max_iter, random_state=22)"
      ],
      "metadata": {
        "id": "kzeoqGemtbuA"
      },
      "execution_count": 16,
      "outputs": []
    },
    {
      "cell_type": "markdown",
      "source": [
        "####Train and Validation\n",
        "From this table we are able to see that the SGDClassifier is not over-fitting the training data, but with an Accuracy and Precision score of 70.3% and 73.7% on the validation data, this model is not performing very well. "
      ],
      "metadata": {
        "id": "2I4BDnvj5KES"
      }
    },
    {
      "cell_type": "code",
      "source": [
        "sgd_table = table(SGD_model,Xs_train,y_train,Xs_test,y_test)\n",
        "sgd_table\n"
      ],
      "metadata": {
        "colab": {
          "base_uri": "https://localhost:8080/",
          "height": 206
        },
        "id": "Wch0C59oXVbg",
        "outputId": "9a1dfa3a-3bbe-4ec6-a063-556ac17e913c"
      },
      "execution_count": 17,
      "outputs": [
        {
          "output_type": "execute_result",
          "data": {
            "text/plain": [
              "          Train Validation\n",
              "Score                     \n",
              "Precision  70.2       70.3\n",
              "Recall     57.9       57.1\n",
              "Accuracy   73.8       73.7\n",
              "F1         63.5       63.0"
            ],
            "text/html": [
              "\n",
              "  <div id=\"df-678745ee-f829-4646-a897-743f1555f5a0\">\n",
              "    <div class=\"colab-df-container\">\n",
              "      <div>\n",
              "<style scoped>\n",
              "    .dataframe tbody tr th:only-of-type {\n",
              "        vertical-align: middle;\n",
              "    }\n",
              "\n",
              "    .dataframe tbody tr th {\n",
              "        vertical-align: top;\n",
              "    }\n",
              "\n",
              "    .dataframe thead th {\n",
              "        text-align: right;\n",
              "    }\n",
              "</style>\n",
              "<table border=\"1\" class=\"dataframe\">\n",
              "  <thead>\n",
              "    <tr style=\"text-align: right;\">\n",
              "      <th></th>\n",
              "      <th>Train</th>\n",
              "      <th>Validation</th>\n",
              "    </tr>\n",
              "    <tr>\n",
              "      <th>Score</th>\n",
              "      <th></th>\n",
              "      <th></th>\n",
              "    </tr>\n",
              "  </thead>\n",
              "  <tbody>\n",
              "    <tr>\n",
              "      <th>Precision</th>\n",
              "      <td>70.2</td>\n",
              "      <td>70.3</td>\n",
              "    </tr>\n",
              "    <tr>\n",
              "      <th>Recall</th>\n",
              "      <td>57.9</td>\n",
              "      <td>57.1</td>\n",
              "    </tr>\n",
              "    <tr>\n",
              "      <th>Accuracy</th>\n",
              "      <td>73.8</td>\n",
              "      <td>73.7</td>\n",
              "    </tr>\n",
              "    <tr>\n",
              "      <th>F1</th>\n",
              "      <td>63.5</td>\n",
              "      <td>63.0</td>\n",
              "    </tr>\n",
              "  </tbody>\n",
              "</table>\n",
              "</div>\n",
              "      <button class=\"colab-df-convert\" onclick=\"convertToInteractive('df-678745ee-f829-4646-a897-743f1555f5a0')\"\n",
              "              title=\"Convert this dataframe to an interactive table.\"\n",
              "              style=\"display:none;\">\n",
              "        \n",
              "  <svg xmlns=\"http://www.w3.org/2000/svg\" height=\"24px\"viewBox=\"0 0 24 24\"\n",
              "       width=\"24px\">\n",
              "    <path d=\"M0 0h24v24H0V0z\" fill=\"none\"/>\n",
              "    <path d=\"M18.56 5.44l.94 2.06.94-2.06 2.06-.94-2.06-.94-.94-2.06-.94 2.06-2.06.94zm-11 1L8.5 8.5l.94-2.06 2.06-.94-2.06-.94L8.5 2.5l-.94 2.06-2.06.94zm10 10l.94 2.06.94-2.06 2.06-.94-2.06-.94-.94-2.06-.94 2.06-2.06.94z\"/><path d=\"M17.41 7.96l-1.37-1.37c-.4-.4-.92-.59-1.43-.59-.52 0-1.04.2-1.43.59L10.3 9.45l-7.72 7.72c-.78.78-.78 2.05 0 2.83L4 21.41c.39.39.9.59 1.41.59.51 0 1.02-.2 1.41-.59l7.78-7.78 2.81-2.81c.8-.78.8-2.07 0-2.86zM5.41 20L4 18.59l7.72-7.72 1.47 1.35L5.41 20z\"/>\n",
              "  </svg>\n",
              "      </button>\n",
              "      \n",
              "  <style>\n",
              "    .colab-df-container {\n",
              "      display:flex;\n",
              "      flex-wrap:wrap;\n",
              "      gap: 12px;\n",
              "    }\n",
              "\n",
              "    .colab-df-convert {\n",
              "      background-color: #E8F0FE;\n",
              "      border: none;\n",
              "      border-radius: 50%;\n",
              "      cursor: pointer;\n",
              "      display: none;\n",
              "      fill: #1967D2;\n",
              "      height: 32px;\n",
              "      padding: 0 0 0 0;\n",
              "      width: 32px;\n",
              "    }\n",
              "\n",
              "    .colab-df-convert:hover {\n",
              "      background-color: #E2EBFA;\n",
              "      box-shadow: 0px 1px 2px rgba(60, 64, 67, 0.3), 0px 1px 3px 1px rgba(60, 64, 67, 0.15);\n",
              "      fill: #174EA6;\n",
              "    }\n",
              "\n",
              "    [theme=dark] .colab-df-convert {\n",
              "      background-color: #3B4455;\n",
              "      fill: #D2E3FC;\n",
              "    }\n",
              "\n",
              "    [theme=dark] .colab-df-convert:hover {\n",
              "      background-color: #434B5C;\n",
              "      box-shadow: 0px 1px 3px 1px rgba(0, 0, 0, 0.15);\n",
              "      filter: drop-shadow(0px 1px 2px rgba(0, 0, 0, 0.3));\n",
              "      fill: #FFFFFF;\n",
              "    }\n",
              "  </style>\n",
              "\n",
              "      <script>\n",
              "        const buttonEl =\n",
              "          document.querySelector('#df-678745ee-f829-4646-a897-743f1555f5a0 button.colab-df-convert');\n",
              "        buttonEl.style.display =\n",
              "          google.colab.kernel.accessAllowed ? 'block' : 'none';\n",
              "\n",
              "        async function convertToInteractive(key) {\n",
              "          const element = document.querySelector('#df-678745ee-f829-4646-a897-743f1555f5a0');\n",
              "          const dataTable =\n",
              "            await google.colab.kernel.invokeFunction('convertToInteractive',\n",
              "                                                     [key], {});\n",
              "          if (!dataTable) return;\n",
              "\n",
              "          const docLinkHtml = 'Like what you see? Visit the ' +\n",
              "            '<a target=\"_blank\" href=https://colab.research.google.com/notebooks/data_table.ipynb>data table notebook</a>'\n",
              "            + ' to learn more about interactive tables.';\n",
              "          element.innerHTML = '';\n",
              "          dataTable['output_type'] = 'display_data';\n",
              "          await google.colab.output.renderOutput(dataTable, element);\n",
              "          const docLink = document.createElement('div');\n",
              "          docLink.innerHTML = docLinkHtml;\n",
              "          element.appendChild(docLink);\n",
              "        }\n",
              "      </script>\n",
              "    </div>\n",
              "  </div>\n",
              "  "
            ]
          },
          "metadata": {},
          "execution_count": 17
        }
      ]
    },
    {
      "cell_type": "markdown",
      "source": [
        "###LGBM\n",
        "LGBM Objective function for tuning the following parameters:\n",
        "\n",
        " `class_weight`  `boosting_type`  `min_child_samples`  `num_leaves`  `learning_rate`  and `reg_alpha`\n",
        "\n",
        " ```\n",
        " def of_lgbm(class_weight,boosting_type,min_child_samples,num_leaves,learning_rate,reg_alpha):\n",
        "    \n",
        "    params_lgbm = {'class_weight':[None,'balanced'],\n",
        "             'boosting_type':['gbdt', 'goss', 'dart'],\n",
        "             'min_child_samples': min_child_samples,\n",
        "             'num_leaves': num_leaves,\n",
        "             'learning_rate' : learning_rate,\n",
        "             'reg_alpha' : reg_alpha}\n",
        "    objective = 'binary'\n",
        "    clf_lgb = lgb.LGBMClassifier(n_jobs=-1,\n",
        "                                 class_weight=params_lgbm['class_weight'][round(class_weight)],\n",
        "                                 boosting_type=params_lgbm['boosting_type'][round(boosting_type)],\n",
        "                                 min_child_samples=int(round(params_lgbm['min_child_samples'])),\n",
        "                                 num_leave=int(round(params_lgbm['num_leaves'])),\n",
        "                                 learning_rate=round(params_lgbm['learning_rate'],3),\n",
        "                                 reg_alpha=round(params_lgbm['reg_alpha'],3),\n",
        "                                 objective=objective,\n",
        "                                 warm_start=True,\n",
        "                                 random_state=22)\n",
        "    kfold = StratifiedKFold(n_splits=5, shuffle=True, random_state=123)\n",
        "    score = cross_val_score(clf_lgb, Xs_train, y_train, scoring=score_acc, cv=kfold).mean()\n",
        "    return score\n",
        "```"
      ],
      "metadata": {
        "id": "xv4ayecboYOG"
      }
    },
    {
      "cell_type": "markdown",
      "source": [
        "Initiating Bayesian Optimization for Hyperparameter search space\n",
        "\n",
        "```\n",
        "start = time.time()\n",
        "lgb_bo = BayesianOptimization(of_lgbm, {'class_weight': (0,1),\n",
        "                                               'boosting_type': (0,2),\n",
        "                                               'min_child_samples': (5,15),\n",
        "                                               'num_leaves': (30,150),\n",
        "                                               'learning_rate' : (0.005,0.2),\n",
        "                                               'reg_alpha' : (0.001, 0.3)})\n",
        "\n",
        "lgb_results = lgb_bo.maximize(n_iter=25, init_points=25,acq='ei')\n",
        "\n",
        "end = time.time()\n",
        "print(round((end - start)/60),'minutes')\n",
        "9 \n",
        "\n",
        "p_lgb = lgb_bo.max['params']\n",
        "p_lgb\n",
        "```"
      ],
      "metadata": {
        "id": "Whwk5FXE9hSs"
      }
    },
    {
      "cell_type": "code",
      "source": [
        "p_lgb = {'boosting_type': 0.46643537765594845,\n",
        " 'class_weight': 0.4176957935194707,\n",
        " 'learning_rate': 0.18995258524000574,\n",
        " 'min_child_samples': 13.090942821856528,\n",
        " 'num_leaves': 84.04047946150416,\n",
        " 'reg_alpha': 0.01348639248701064}"
      ],
      "metadata": {
        "id": "szJG2ai-7GbF"
      },
      "execution_count": 18,
      "outputs": []
    },
    {
      "cell_type": "code",
      "source": [
        "params_lgbm = {'class_weight':[None,'balanced'],\n",
        "             'boosting_type':['gbdt', 'goss', 'dart']}\n",
        "\n",
        "class_weight = params_lgbm['class_weight'][round(p_lgb['class_weight'])]\n",
        "boosting_type = params_lgbm['boosting_type'][round(p_lgb['boosting_type'])]\n",
        "min_child_samples = int(round(p_lgb['min_child_samples']))\n",
        "num_leaves = int(round(p_lgb['num_leaves']))\n",
        "learning_rate = round(p_lgb['learning_rate'],3)\n",
        "reg_alpha = round(p_lgb['reg_alpha'],3)\n",
        "objective = 'binary'\n",
        "\n",
        "LGBM = lgb.LGBMClassifier(boosting_type =boosting_type,\n",
        "                          class_weight = class_weight, \n",
        "                          learning_rate = learning_rate,\n",
        "                          min_child_samples = min_child_samples, \n",
        "                          num_leaves = num_leaves,\n",
        "                          reg_alpha = reg_alpha,\n",
        "                          objective='binary',\n",
        "                          random_state=22)"
      ],
      "metadata": {
        "id": "9WFSrREkoYOI"
      },
      "execution_count": 19,
      "outputs": []
    },
    {
      "cell_type": "markdown",
      "source": [
        "####Train and Validation\n",
        "Our Light Gradient Boosting Machine appears to be slighlt overfitted on our training data, but it giving good performance on our Validation set with an Accuracy and Precision score of 82% and 78.9% , this model is performing decently."
      ],
      "metadata": {
        "id": "B7qO4YhD7OJR"
      }
    },
    {
      "cell_type": "code",
      "source": [
        "lgbm_table = table(LGBM,Xs_train,y_train,Xs_test,y_test)\n",
        "lgbm_table"
      ],
      "metadata": {
        "colab": {
          "base_uri": "https://localhost:8080/",
          "height": 206
        },
        "id": "ZJdRrFtvrQv0",
        "outputId": "ea052281-443b-4cac-874f-5dfbf5fce1c4"
      },
      "execution_count": 20,
      "outputs": [
        {
          "output_type": "execute_result",
          "data": {
            "text/plain": [
              "          Train Validation\n",
              "Score                     \n",
              "Precision  83.4       78.9\n",
              "Recall     78.5       73.9\n",
              "Accuracy   85.4       82.0\n",
              "F1         80.9       76.3"
            ],
            "text/html": [
              "\n",
              "  <div id=\"df-b8746e3e-bb57-496b-af94-dc3287fbe430\">\n",
              "    <div class=\"colab-df-container\">\n",
              "      <div>\n",
              "<style scoped>\n",
              "    .dataframe tbody tr th:only-of-type {\n",
              "        vertical-align: middle;\n",
              "    }\n",
              "\n",
              "    .dataframe tbody tr th {\n",
              "        vertical-align: top;\n",
              "    }\n",
              "\n",
              "    .dataframe thead th {\n",
              "        text-align: right;\n",
              "    }\n",
              "</style>\n",
              "<table border=\"1\" class=\"dataframe\">\n",
              "  <thead>\n",
              "    <tr style=\"text-align: right;\">\n",
              "      <th></th>\n",
              "      <th>Train</th>\n",
              "      <th>Validation</th>\n",
              "    </tr>\n",
              "    <tr>\n",
              "      <th>Score</th>\n",
              "      <th></th>\n",
              "      <th></th>\n",
              "    </tr>\n",
              "  </thead>\n",
              "  <tbody>\n",
              "    <tr>\n",
              "      <th>Precision</th>\n",
              "      <td>83.4</td>\n",
              "      <td>78.9</td>\n",
              "    </tr>\n",
              "    <tr>\n",
              "      <th>Recall</th>\n",
              "      <td>78.5</td>\n",
              "      <td>73.9</td>\n",
              "    </tr>\n",
              "    <tr>\n",
              "      <th>Accuracy</th>\n",
              "      <td>85.4</td>\n",
              "      <td>82.0</td>\n",
              "    </tr>\n",
              "    <tr>\n",
              "      <th>F1</th>\n",
              "      <td>80.9</td>\n",
              "      <td>76.3</td>\n",
              "    </tr>\n",
              "  </tbody>\n",
              "</table>\n",
              "</div>\n",
              "      <button class=\"colab-df-convert\" onclick=\"convertToInteractive('df-b8746e3e-bb57-496b-af94-dc3287fbe430')\"\n",
              "              title=\"Convert this dataframe to an interactive table.\"\n",
              "              style=\"display:none;\">\n",
              "        \n",
              "  <svg xmlns=\"http://www.w3.org/2000/svg\" height=\"24px\"viewBox=\"0 0 24 24\"\n",
              "       width=\"24px\">\n",
              "    <path d=\"M0 0h24v24H0V0z\" fill=\"none\"/>\n",
              "    <path d=\"M18.56 5.44l.94 2.06.94-2.06 2.06-.94-2.06-.94-.94-2.06-.94 2.06-2.06.94zm-11 1L8.5 8.5l.94-2.06 2.06-.94-2.06-.94L8.5 2.5l-.94 2.06-2.06.94zm10 10l.94 2.06.94-2.06 2.06-.94-2.06-.94-.94-2.06-.94 2.06-2.06.94z\"/><path d=\"M17.41 7.96l-1.37-1.37c-.4-.4-.92-.59-1.43-.59-.52 0-1.04.2-1.43.59L10.3 9.45l-7.72 7.72c-.78.78-.78 2.05 0 2.83L4 21.41c.39.39.9.59 1.41.59.51 0 1.02-.2 1.41-.59l7.78-7.78 2.81-2.81c.8-.78.8-2.07 0-2.86zM5.41 20L4 18.59l7.72-7.72 1.47 1.35L5.41 20z\"/>\n",
              "  </svg>\n",
              "      </button>\n",
              "      \n",
              "  <style>\n",
              "    .colab-df-container {\n",
              "      display:flex;\n",
              "      flex-wrap:wrap;\n",
              "      gap: 12px;\n",
              "    }\n",
              "\n",
              "    .colab-df-convert {\n",
              "      background-color: #E8F0FE;\n",
              "      border: none;\n",
              "      border-radius: 50%;\n",
              "      cursor: pointer;\n",
              "      display: none;\n",
              "      fill: #1967D2;\n",
              "      height: 32px;\n",
              "      padding: 0 0 0 0;\n",
              "      width: 32px;\n",
              "    }\n",
              "\n",
              "    .colab-df-convert:hover {\n",
              "      background-color: #E2EBFA;\n",
              "      box-shadow: 0px 1px 2px rgba(60, 64, 67, 0.3), 0px 1px 3px 1px rgba(60, 64, 67, 0.15);\n",
              "      fill: #174EA6;\n",
              "    }\n",
              "\n",
              "    [theme=dark] .colab-df-convert {\n",
              "      background-color: #3B4455;\n",
              "      fill: #D2E3FC;\n",
              "    }\n",
              "\n",
              "    [theme=dark] .colab-df-convert:hover {\n",
              "      background-color: #434B5C;\n",
              "      box-shadow: 0px 1px 3px 1px rgba(0, 0, 0, 0.15);\n",
              "      filter: drop-shadow(0px 1px 2px rgba(0, 0, 0, 0.3));\n",
              "      fill: #FFFFFF;\n",
              "    }\n",
              "  </style>\n",
              "\n",
              "      <script>\n",
              "        const buttonEl =\n",
              "          document.querySelector('#df-b8746e3e-bb57-496b-af94-dc3287fbe430 button.colab-df-convert');\n",
              "        buttonEl.style.display =\n",
              "          google.colab.kernel.accessAllowed ? 'block' : 'none';\n",
              "\n",
              "        async function convertToInteractive(key) {\n",
              "          const element = document.querySelector('#df-b8746e3e-bb57-496b-af94-dc3287fbe430');\n",
              "          const dataTable =\n",
              "            await google.colab.kernel.invokeFunction('convertToInteractive',\n",
              "                                                     [key], {});\n",
              "          if (!dataTable) return;\n",
              "\n",
              "          const docLinkHtml = 'Like what you see? Visit the ' +\n",
              "            '<a target=\"_blank\" href=https://colab.research.google.com/notebooks/data_table.ipynb>data table notebook</a>'\n",
              "            + ' to learn more about interactive tables.';\n",
              "          element.innerHTML = '';\n",
              "          dataTable['output_type'] = 'display_data';\n",
              "          await google.colab.output.renderOutput(dataTable, element);\n",
              "          const docLink = document.createElement('div');\n",
              "          docLink.innerHTML = docLinkHtml;\n",
              "          element.appendChild(docLink);\n",
              "        }\n",
              "      </script>\n",
              "    </div>\n",
              "  </div>\n",
              "  "
            ]
          },
          "metadata": {},
          "execution_count": 20
        }
      ]
    },
    {
      "cell_type": "markdown",
      "source": [
        "###Random Forest\n",
        "RandomForestClassifier Objective function for tuning the following parameters:\n",
        "\n",
        " `criterion`  `max_depth`  `n_estimators`  and `max_features`\n",
        "\n",
        " ```\n",
        " def of_rf(criterion,max_depth,n_estimators,max_features):\n",
        "    \n",
        "    params_rf = {\n",
        "        'criterion':['gini','entropy'],\n",
        "        'max_depth': max_depth,\n",
        "        'max_features':['auto', 'sqrt', 'log2'],\n",
        "        'n_estimators':n_estimators\n",
        "    }\n",
        "    clf_rf = RandomForestClassifier(criterion = params_rf['criterion'][round(criterion)],\n",
        "                                 max_depth=round(params_rf['max_depth']),\n",
        "                                 max_features=params_rf['max_features'][round(max_features)],\n",
        "                                 n_estimators=round(params_rf['n_estimators']),\n",
        "                                 random_state=22)\n",
        "\n",
        "    kfold = StratifiedKFold(n_splits=5, shuffle=True, random_state=123)\n",
        "    score = cross_val_score(clf_rf, X_train,y_train, scoring=score_acc, cv=kfold).mean()\n",
        "    return score\n",
        "```"
      ],
      "metadata": {
        "id": "JK8Fnyuio9PG"
      }
    },
    {
      "cell_type": "markdown",
      "source": [
        "Initiating Bayesian Optimization for Hyperparameter search space\n",
        "\n",
        "```\n",
        "start = time.time()\n",
        "rf_bo = BayesianOptimization(of_rf, {'criterion':(0,1),\n",
        "                                            'max_depth':(10,1000),\n",
        "                                            'max_features':(0,2),\n",
        "                                            'n_estimators':(100,1000)})\n",
        "\n",
        "rf_results = rf_bo.maximize(n_iter=4, init_points=25,acq='ei')\n",
        "end = time.time()\n",
        "print(round((end - start)/60),'minutes')\n",
        "183 minutes\n",
        "\n",
        "p_rf = rf_bo.max['params']\n",
        "p_rf\n",
        "```"
      ],
      "metadata": {
        "id": "NqeNmAK09rjT"
      }
    },
    {
      "cell_type": "code",
      "source": [
        "p_rf = {'criterion' : 0.03914,\n",
        "        'max_depth': 15.34,\n",
        "        'max_features': 0.3912,\n",
        "        'n_estimators': 523.1}"
      ],
      "metadata": {
        "id": "UJl4vrKve25m"
      },
      "execution_count": 21,
      "outputs": []
    },
    {
      "cell_type": "code",
      "source": [
        "params_rf = {'max_features':['auto', 'sqrt', 'log2']}\n",
        "\n",
        "max_features=params_rf['max_features'][round(p_rf['max_features'])]\n",
        "max_depth= round(p_rf['max_depth'])\n",
        "n_estimators= round(p_rf['n_estimators'])\n",
        "\n",
        "RF = RandomForestClassifier(max_depth=max_depth,\n",
        "                            max_features=max_features,\n",
        "                            n_estimators=n_estimators,\n",
        "                            random_state=22)"
      ],
      "metadata": {
        "id": "EWun3LO8u0Uv"
      },
      "execution_count": 22,
      "outputs": []
    },
    {
      "cell_type": "markdown",
      "source": [
        "####Train and Validation\n",
        "The Random Forest Model appears to be a bit overfitted on our training data, but is still giving good performance on our Validation set with an Accuracy and Precision score of 82.2% and 79.2% , so far this model is the highest performing."
      ],
      "metadata": {
        "id": "CZ0JO0Qs8Ikb"
      }
    },
    {
      "cell_type": "code",
      "source": [
        "rf_table = table(RF,X_train,y_train,X_test,y_test)\n",
        "rf_table"
      ],
      "metadata": {
        "colab": {
          "base_uri": "https://localhost:8080/",
          "height": 206
        },
        "id": "Te018ADMfQ8-",
        "outputId": "f38cfea4-8e86-4da4-e3a1-8494daa733d4"
      },
      "execution_count": 23,
      "outputs": [
        {
          "output_type": "execute_result",
          "data": {
            "text/plain": [
              "          Train Validation\n",
              "Score                     \n",
              "Precision  85.7       79.2\n",
              "Recall     80.2       73.9\n",
              "Accuracy   87.0       82.2\n",
              "F1         82.8       76.5"
            ],
            "text/html": [
              "\n",
              "  <div id=\"df-9fe8846a-a1df-4ffc-bb44-eb90dc744bd9\">\n",
              "    <div class=\"colab-df-container\">\n",
              "      <div>\n",
              "<style scoped>\n",
              "    .dataframe tbody tr th:only-of-type {\n",
              "        vertical-align: middle;\n",
              "    }\n",
              "\n",
              "    .dataframe tbody tr th {\n",
              "        vertical-align: top;\n",
              "    }\n",
              "\n",
              "    .dataframe thead th {\n",
              "        text-align: right;\n",
              "    }\n",
              "</style>\n",
              "<table border=\"1\" class=\"dataframe\">\n",
              "  <thead>\n",
              "    <tr style=\"text-align: right;\">\n",
              "      <th></th>\n",
              "      <th>Train</th>\n",
              "      <th>Validation</th>\n",
              "    </tr>\n",
              "    <tr>\n",
              "      <th>Score</th>\n",
              "      <th></th>\n",
              "      <th></th>\n",
              "    </tr>\n",
              "  </thead>\n",
              "  <tbody>\n",
              "    <tr>\n",
              "      <th>Precision</th>\n",
              "      <td>85.7</td>\n",
              "      <td>79.2</td>\n",
              "    </tr>\n",
              "    <tr>\n",
              "      <th>Recall</th>\n",
              "      <td>80.2</td>\n",
              "      <td>73.9</td>\n",
              "    </tr>\n",
              "    <tr>\n",
              "      <th>Accuracy</th>\n",
              "      <td>87.0</td>\n",
              "      <td>82.2</td>\n",
              "    </tr>\n",
              "    <tr>\n",
              "      <th>F1</th>\n",
              "      <td>82.8</td>\n",
              "      <td>76.5</td>\n",
              "    </tr>\n",
              "  </tbody>\n",
              "</table>\n",
              "</div>\n",
              "      <button class=\"colab-df-convert\" onclick=\"convertToInteractive('df-9fe8846a-a1df-4ffc-bb44-eb90dc744bd9')\"\n",
              "              title=\"Convert this dataframe to an interactive table.\"\n",
              "              style=\"display:none;\">\n",
              "        \n",
              "  <svg xmlns=\"http://www.w3.org/2000/svg\" height=\"24px\"viewBox=\"0 0 24 24\"\n",
              "       width=\"24px\">\n",
              "    <path d=\"M0 0h24v24H0V0z\" fill=\"none\"/>\n",
              "    <path d=\"M18.56 5.44l.94 2.06.94-2.06 2.06-.94-2.06-.94-.94-2.06-.94 2.06-2.06.94zm-11 1L8.5 8.5l.94-2.06 2.06-.94-2.06-.94L8.5 2.5l-.94 2.06-2.06.94zm10 10l.94 2.06.94-2.06 2.06-.94-2.06-.94-.94-2.06-.94 2.06-2.06.94z\"/><path d=\"M17.41 7.96l-1.37-1.37c-.4-.4-.92-.59-1.43-.59-.52 0-1.04.2-1.43.59L10.3 9.45l-7.72 7.72c-.78.78-.78 2.05 0 2.83L4 21.41c.39.39.9.59 1.41.59.51 0 1.02-.2 1.41-.59l7.78-7.78 2.81-2.81c.8-.78.8-2.07 0-2.86zM5.41 20L4 18.59l7.72-7.72 1.47 1.35L5.41 20z\"/>\n",
              "  </svg>\n",
              "      </button>\n",
              "      \n",
              "  <style>\n",
              "    .colab-df-container {\n",
              "      display:flex;\n",
              "      flex-wrap:wrap;\n",
              "      gap: 12px;\n",
              "    }\n",
              "\n",
              "    .colab-df-convert {\n",
              "      background-color: #E8F0FE;\n",
              "      border: none;\n",
              "      border-radius: 50%;\n",
              "      cursor: pointer;\n",
              "      display: none;\n",
              "      fill: #1967D2;\n",
              "      height: 32px;\n",
              "      padding: 0 0 0 0;\n",
              "      width: 32px;\n",
              "    }\n",
              "\n",
              "    .colab-df-convert:hover {\n",
              "      background-color: #E2EBFA;\n",
              "      box-shadow: 0px 1px 2px rgba(60, 64, 67, 0.3), 0px 1px 3px 1px rgba(60, 64, 67, 0.15);\n",
              "      fill: #174EA6;\n",
              "    }\n",
              "\n",
              "    [theme=dark] .colab-df-convert {\n",
              "      background-color: #3B4455;\n",
              "      fill: #D2E3FC;\n",
              "    }\n",
              "\n",
              "    [theme=dark] .colab-df-convert:hover {\n",
              "      background-color: #434B5C;\n",
              "      box-shadow: 0px 1px 3px 1px rgba(0, 0, 0, 0.15);\n",
              "      filter: drop-shadow(0px 1px 2px rgba(0, 0, 0, 0.3));\n",
              "      fill: #FFFFFF;\n",
              "    }\n",
              "  </style>\n",
              "\n",
              "      <script>\n",
              "        const buttonEl =\n",
              "          document.querySelector('#df-9fe8846a-a1df-4ffc-bb44-eb90dc744bd9 button.colab-df-convert');\n",
              "        buttonEl.style.display =\n",
              "          google.colab.kernel.accessAllowed ? 'block' : 'none';\n",
              "\n",
              "        async function convertToInteractive(key) {\n",
              "          const element = document.querySelector('#df-9fe8846a-a1df-4ffc-bb44-eb90dc744bd9');\n",
              "          const dataTable =\n",
              "            await google.colab.kernel.invokeFunction('convertToInteractive',\n",
              "                                                     [key], {});\n",
              "          if (!dataTable) return;\n",
              "\n",
              "          const docLinkHtml = 'Like what you see? Visit the ' +\n",
              "            '<a target=\"_blank\" href=https://colab.research.google.com/notebooks/data_table.ipynb>data table notebook</a>'\n",
              "            + ' to learn more about interactive tables.';\n",
              "          element.innerHTML = '';\n",
              "          dataTable['output_type'] = 'display_data';\n",
              "          await google.colab.output.renderOutput(dataTable, element);\n",
              "          const docLink = document.createElement('div');\n",
              "          docLink.innerHTML = docLinkHtml;\n",
              "          element.appendChild(docLink);\n",
              "        }\n",
              "      </script>\n",
              "    </div>\n",
              "  </div>\n",
              "  "
            ]
          },
          "metadata": {},
          "execution_count": 23
        }
      ]
    },
    {
      "cell_type": "markdown",
      "source": [
        "###Neural Network\n",
        "Neural Network Objective function for tuning the following:\n",
        "\n",
        "\n",
        "\n",
        "*   Number of neurons in our first dense layer\n",
        "*   Number of neurons in all of the following dense layers\n",
        "*   Activation function for all of the dense layers\n",
        "*   Dropout rate for the dropout layer\n",
        "*   Learning rate for our optimization function.\n",
        "\n",
        "```\n",
        "INPUT_SHAPE = (41,) #shape of features\n",
        "class NNHyperModel(HyperModel): #objective function\n",
        "    def __init__(self, input_shape):\n",
        "        self.input_shape = input_shape\n",
        "\n",
        "\n",
        "    def build(self, hp):\n",
        "        model = keras.Sequential()\n",
        "        model.add(Dense(units=hp.Int('units_1',min_value=32,max_value=512,step=32,default=128),\n",
        "                        activation='relu',input_shape=self.input_shape))\n",
        "\n",
        "        model.add(Dense(units=hp.Int( 'units_2', min_value=32, max_value=512, step=32, default=128 ), \n",
        "                        activation=hp.Choice('dense_activation', values=['relu', 'tanh'], default='relu')))\n",
        "        \n",
        "        model.add(Dropout(rate=hp.Float( 'dropout_1', min_value=0.0, max_value=0.5, default=0.15, step=0.001)))\n",
        "\n",
        "        model.add(Dense(units=hp.Int( 'units_2', min_value=32, max_value=512, step=32, default=128 ), \n",
        "                        activation=hp.Choice('dense_activation', values=['relu', 'tanh'], default='relu')))\n",
        "\n",
        "        model.add(Dense(1, activation='sigmoid'))\n",
        "\n",
        "        model.compile(optimizer=keras.optimizers.Adam(hp.Float('learning_rate', min_value=1e-4, max_value=1e-2, sampling='LOG', default=1e-3)),\n",
        "            loss='binary_crossentropy', metrics=['accuracy'])\n",
        "        return model\n",
        "\n",
        "hypermodel = NNHyperModel(input_shape=INPUT_SHAPE)\n",
        "```\n"
      ],
      "metadata": {
        "id": "9YUQZL44gire"
      }
    },
    {
      "cell_type": "markdown",
      "source": [
        "Initiating Bayesian Optimization for Hyperparameter search space\n",
        "\n",
        "```\n",
        "tuner = BO(\n",
        "    hypermodel,\n",
        "    objective='val_accuracy',\n",
        "    max_trials = 20,\n",
        "    num_initial_points = 25,\n",
        "    overwrite=True\n",
        ")\n",
        "\n",
        "\n",
        "start = time.time()\n",
        "tuner.search(Xn_train,y_train,epochs=25,validation_split=0.2)\n",
        "end = time.time()\n",
        "print(round((end - start)/60),'minutes')\n",
        "\n",
        "\n",
        "Trial 21 Complete [00h 04m 09s]\n",
        "val_accuracy: 0.7879495024681091\n",
        "\n",
        "Best val_accuracy So Far: 0.8070271611213684\n",
        "Total elapsed time: 01h 25m 25s\n",
        "INFO:tensorflow:Oracle triggered exit\n",
        "85 minutes\n",
        "```"
      ],
      "metadata": {
        "id": "RAJYFyi-9tUF"
      }
    },
    {
      "cell_type": "markdown",
      "source": [
        "From this we can see which hyperparameters were chosen. \n",
        "\n",
        "```\n",
        "best_hps = tuner.get_best_hyperparameters(1)[0]\n",
        "best_hps.values\n",
        "```"
      ],
      "metadata": {
        "id": "Q1KSrahC94hL"
      }
    },
    {
      "cell_type": "code",
      "source": [
        "best_hps = {'dense_activation': 'relu',\n",
        " 'dropout_1': 0.365,\n",
        " 'learning_rate': 0.00033451441046197393,\n",
        " 'units_1': 448,\n",
        " 'units_2': 320}"
      ],
      "metadata": {
        "id": "UCSVfR9e-ANC"
      },
      "execution_count": 24,
      "outputs": []
    },
    {
      "cell_type": "markdown",
      "source": [
        "Now we will building our Neural Network model using the optimal hyperparameters and train it with out training data for a total of 50 epochs. Each epoch will run 2277 batches of size 32 that will update the weights and bias of the model. Additionally, each epoch will run using the validation data. Storing the metrics from each epoch allows us to plot the training and validation accuracy per epoch. From this we are able to see that the training accuracy start to increase faster starting at around the 7th epoch.  \n",
        "We are also able to find that the validation accuracy is at its max around the 48th epoch. \n",
        "\n",
        "```\n",
        "model = tuner.hypermodel.build(best_hps)\n",
        "history = model.fit(Xn_train, y_train, epochs=50, validation_data=(Xn_test,y_test),verbose=0)\n",
        "\n",
        "acc = history.history['accuracy']\n",
        "val_acc_ = history.history['val_accuracy']\n",
        "epochs = range(1, len(acc) + 1)\n",
        "plt.plot(epochs, acc, '-', label='Training accuracy')\n",
        "plt.plot(epochs, val_acc_, ':', label='Validation accuracy')\n",
        "plt.title('Training and Validation Accuracy')\n",
        "plt.xlabel('Epoch')\n",
        "plt.ylabel('Accuracy')\n",
        "plt.legend(loc='lower right')\n",
        "plt.plot()\n",
        "\n",
        "best_epoch = val_acc_.index(max(val_acc_)) + 1\n",
        "print('Best epoch: %d' % (best_epoch,))\n",
        "```\n",
        "Best epoch: 48"
      ],
      "metadata": {
        "id": "3BgHjOct-C9d"
      }
    },
    {
      "cell_type": "markdown",
      "source": [
        "![image.png](data:image/png;base64,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)"
      ],
      "metadata": {
        "id": "OCATi39KoZ8E"
      }
    },
    {
      "cell_type": "markdown",
      "source": [
        "Now, in order to run our Neural Network similarly to our other models, we must wrap it into a KerasClassifier. Using our best hyperparameters and the following function, we are able to return and train a KerasClassifier of our Keras Neural Network."
      ],
      "metadata": {
        "id": "MOhqSTi-_Tym"
      }
    },
    {
      "cell_type": "code",
      "source": [
        "def clf(units_1,units_2,dense_activation,dropout_1,learning_rate):\n",
        "  m = Sequential()\n",
        "  m.add(Dense(units_1,input_dim=41,activation=dense_activation))\n",
        "  m.add(Dense(units_2,activation=dense_activation))\n",
        "  m.add(Dropout(dropout_1))\n",
        "  m.add(Dense(units_2,activation=dense_activation))\n",
        "  m.add(Dense(1,activation='sigmoid'))\n",
        "  m.compile(loss='binary_crossentropy', optimizer=Adam(learning_rate=learning_rate), metrics=['accuracy'])\n",
        "  return m\n",
        "knn = KerasClassifier(build_fn=clf(best_hps['units_1'],best_hps['units_2'],best_hps['dense_activation'],\n",
        "                                   best_hps['dropout_1'],best_hps['learning_rate']),\n",
        "                      epochs=48,batch_size=32,verbose=0, random_state=22)\n",
        "\n",
        "knn.fit(Xn_train,y_train,validation_data=(Xn_test, y_test))"
      ],
      "metadata": {
        "id": "wk2y2AqOgirh"
      },
      "execution_count": null,
      "outputs": []
    },
    {
      "cell_type": "code",
      "source": [
        "def nn_table(model,Xtrain,ytrain,Xtest,ytest):\n",
        "  cols = ['Score','Train','Validation']\n",
        "  nn_table = pd.DataFrame(columns=cols)\n",
        "  nn_table.set_index(\"Score\",inplace=True)\n",
        "\n",
        "  train_pred = model.predict(Xtrain)\n",
        "  nn_table.loc['Precision','Train'] = round(100*precision_score(y_true=ytrain,y_pred=train_pred),1)\n",
        "  nn_table.loc['Recall','Train'] = round(100*recall_score(y_true=ytrain,y_pred=train_pred),1)\n",
        "  nn_table.loc['Accuracy','Train'] = round(100*accuracy_score(y_true=ytrain,y_pred=train_pred),1)\n",
        "  nn_table.loc['F1','Train'] = round(100*f1_score(y_true=ytrain,y_pred=train_pred),1)\n",
        "\n",
        "  val_pred = model.predict(Xtest)\n",
        "  nn_table.loc['Precision','Validation'] = round(100*precision_score(y_true=ytest,y_pred=val_pred),1)\n",
        "  nn_table.loc['Recall','Validation'] = round(100*recall_score(y_true=ytest,y_pred=val_pred),1)\n",
        "  nn_table.loc['Accuracy','Validation'] = round(100*accuracy_score(y_true=ytest,y_pred=val_pred),1)\n",
        "  nn_table.loc['F1','Validation'] = round(100*f1_score(y_true=ytest,y_pred=val_pred),1)\n",
        "  return nn_table"
      ],
      "metadata": {
        "id": "Qq7Hxe-SAR-V"
      },
      "execution_count": 26,
      "outputs": []
    },
    {
      "cell_type": "markdown",
      "source": [
        "####Train and Validation\n",
        "From this table we are able to see that the KerasClassifier is slightly over-fitted, but with an Accuracy and Precision score of 81.1% and 79.3% on the validation data, this model is still a contender. "
      ],
      "metadata": {
        "id": "DwhHSEHb_r2P"
      }
    },
    {
      "cell_type": "code",
      "source": [
        "keras_table = nn_table(knn,Xn_train,y_train,Xn_test,y_test)\n",
        "keras_table"
      ],
      "metadata": {
        "colab": {
          "base_uri": "https://localhost:8080/",
          "height": 206
        },
        "id": "lQSqg-SY_voT",
        "outputId": "8d2ff91d-b746-4c78-e46f-3aad26d8f035"
      },
      "execution_count": 27,
      "outputs": [
        {
          "output_type": "execute_result",
          "data": {
            "text/plain": [
              "          Train Validation\n",
              "Score                     \n",
              "Precision  83.7       77.5\n",
              "Recall     79.9       73.9\n",
              "Accuracy   86.0       81.3\n",
              "F1         81.7       75.7"
            ],
            "text/html": [
              "\n",
              "  <div id=\"df-a36c700e-10dd-4692-bdac-f8e6d375c3a2\">\n",
              "    <div class=\"colab-df-container\">\n",
              "      <div>\n",
              "<style scoped>\n",
              "    .dataframe tbody tr th:only-of-type {\n",
              "        vertical-align: middle;\n",
              "    }\n",
              "\n",
              "    .dataframe tbody tr th {\n",
              "        vertical-align: top;\n",
              "    }\n",
              "\n",
              "    .dataframe thead th {\n",
              "        text-align: right;\n",
              "    }\n",
              "</style>\n",
              "<table border=\"1\" class=\"dataframe\">\n",
              "  <thead>\n",
              "    <tr style=\"text-align: right;\">\n",
              "      <th></th>\n",
              "      <th>Train</th>\n",
              "      <th>Validation</th>\n",
              "    </tr>\n",
              "    <tr>\n",
              "      <th>Score</th>\n",
              "      <th></th>\n",
              "      <th></th>\n",
              "    </tr>\n",
              "  </thead>\n",
              "  <tbody>\n",
              "    <tr>\n",
              "      <th>Precision</th>\n",
              "      <td>83.7</td>\n",
              "      <td>77.5</td>\n",
              "    </tr>\n",
              "    <tr>\n",
              "      <th>Recall</th>\n",
              "      <td>79.9</td>\n",
              "      <td>73.9</td>\n",
              "    </tr>\n",
              "    <tr>\n",
              "      <th>Accuracy</th>\n",
              "      <td>86.0</td>\n",
              "      <td>81.3</td>\n",
              "    </tr>\n",
              "    <tr>\n",
              "      <th>F1</th>\n",
              "      <td>81.7</td>\n",
              "      <td>75.7</td>\n",
              "    </tr>\n",
              "  </tbody>\n",
              "</table>\n",
              "</div>\n",
              "      <button class=\"colab-df-convert\" onclick=\"convertToInteractive('df-a36c700e-10dd-4692-bdac-f8e6d375c3a2')\"\n",
              "              title=\"Convert this dataframe to an interactive table.\"\n",
              "              style=\"display:none;\">\n",
              "        \n",
              "  <svg xmlns=\"http://www.w3.org/2000/svg\" height=\"24px\"viewBox=\"0 0 24 24\"\n",
              "       width=\"24px\">\n",
              "    <path d=\"M0 0h24v24H0V0z\" fill=\"none\"/>\n",
              "    <path d=\"M18.56 5.44l.94 2.06.94-2.06 2.06-.94-2.06-.94-.94-2.06-.94 2.06-2.06.94zm-11 1L8.5 8.5l.94-2.06 2.06-.94-2.06-.94L8.5 2.5l-.94 2.06-2.06.94zm10 10l.94 2.06.94-2.06 2.06-.94-2.06-.94-.94-2.06-.94 2.06-2.06.94z\"/><path d=\"M17.41 7.96l-1.37-1.37c-.4-.4-.92-.59-1.43-.59-.52 0-1.04.2-1.43.59L10.3 9.45l-7.72 7.72c-.78.78-.78 2.05 0 2.83L4 21.41c.39.39.9.59 1.41.59.51 0 1.02-.2 1.41-.59l7.78-7.78 2.81-2.81c.8-.78.8-2.07 0-2.86zM5.41 20L4 18.59l7.72-7.72 1.47 1.35L5.41 20z\"/>\n",
              "  </svg>\n",
              "      </button>\n",
              "      \n",
              "  <style>\n",
              "    .colab-df-container {\n",
              "      display:flex;\n",
              "      flex-wrap:wrap;\n",
              "      gap: 12px;\n",
              "    }\n",
              "\n",
              "    .colab-df-convert {\n",
              "      background-color: #E8F0FE;\n",
              "      border: none;\n",
              "      border-radius: 50%;\n",
              "      cursor: pointer;\n",
              "      display: none;\n",
              "      fill: #1967D2;\n",
              "      height: 32px;\n",
              "      padding: 0 0 0 0;\n",
              "      width: 32px;\n",
              "    }\n",
              "\n",
              "    .colab-df-convert:hover {\n",
              "      background-color: #E2EBFA;\n",
              "      box-shadow: 0px 1px 2px rgba(60, 64, 67, 0.3), 0px 1px 3px 1px rgba(60, 64, 67, 0.15);\n",
              "      fill: #174EA6;\n",
              "    }\n",
              "\n",
              "    [theme=dark] .colab-df-convert {\n",
              "      background-color: #3B4455;\n",
              "      fill: #D2E3FC;\n",
              "    }\n",
              "\n",
              "    [theme=dark] .colab-df-convert:hover {\n",
              "      background-color: #434B5C;\n",
              "      box-shadow: 0px 1px 3px 1px rgba(0, 0, 0, 0.15);\n",
              "      filter: drop-shadow(0px 1px 2px rgba(0, 0, 0, 0.3));\n",
              "      fill: #FFFFFF;\n",
              "    }\n",
              "  </style>\n",
              "\n",
              "      <script>\n",
              "        const buttonEl =\n",
              "          document.querySelector('#df-a36c700e-10dd-4692-bdac-f8e6d375c3a2 button.colab-df-convert');\n",
              "        buttonEl.style.display =\n",
              "          google.colab.kernel.accessAllowed ? 'block' : 'none';\n",
              "\n",
              "        async function convertToInteractive(key) {\n",
              "          const element = document.querySelector('#df-a36c700e-10dd-4692-bdac-f8e6d375c3a2');\n",
              "          const dataTable =\n",
              "            await google.colab.kernel.invokeFunction('convertToInteractive',\n",
              "                                                     [key], {});\n",
              "          if (!dataTable) return;\n",
              "\n",
              "          const docLinkHtml = 'Like what you see? Visit the ' +\n",
              "            '<a target=\"_blank\" href=https://colab.research.google.com/notebooks/data_table.ipynb>data table notebook</a>'\n",
              "            + ' to learn more about interactive tables.';\n",
              "          element.innerHTML = '';\n",
              "          dataTable['output_type'] = 'display_data';\n",
              "          await google.colab.output.renderOutput(dataTable, element);\n",
              "          const docLink = document.createElement('div');\n",
              "          docLink.innerHTML = docLinkHtml;\n",
              "          element.appendChild(docLink);\n",
              "        }\n",
              "      </script>\n",
              "    </div>\n",
              "  </div>\n",
              "  "
            ]
          },
          "metadata": {},
          "execution_count": 27
        }
      ]
    },
    {
      "cell_type": "markdown",
      "source": [
        "#Model Performance on Validation Data\n",
        "\n",
        "All of the models have been built and developed using the training dataset. Cross validation was used for each during the Bayesiam Optimization of hyperparameters. The final test before model selection will be to test the data on our validation set. \n",
        "Generally, you would either do cross-validation on the training set and then test on final data to evaluate performance, but due to the feature engineering that performed (calculating average time, in minutes, a task gets completed per timezone and hour created) and values were mapped from training to validation (and test) I have cross-validated on the training set and compared performance metrics using validation set. "
      ],
      "metadata": {
        "id": "qQLXSPYWU06D"
      }
    },
    {
      "cell_type": "code",
      "source": [
        "VAL_RE = pd.DataFrame(columns=['SGD','LGBM','RF','NN'])\n",
        "\n",
        "VAL_RE['SGD'] = sgd_table['Validation'].astype('float')\n",
        "VAL_RE['LGBM'] = lgbm_table['Validation'].astype('float')\n",
        "VAL_RE['RF'] = rf_table['Validation'].astype('float')\n",
        "VAL_RE['NN'] = keras_table['Validation'].astype('float')\n",
        "VAL_RE['Best Score'] = VAL_RE.idxmax(axis=1)\n",
        "VAL_RE"
      ],
      "metadata": {
        "colab": {
          "base_uri": "https://localhost:8080/",
          "height": 206
        },
        "id": "g_D6tJqsCaHE",
        "outputId": "752d6863-5b3a-495f-cda7-0ce0dcfdc12a"
      },
      "execution_count": 28,
      "outputs": [
        {
          "output_type": "execute_result",
          "data": {
            "text/plain": [
              "            SGD  LGBM    RF    NN Best Score\n",
              "Score                                       \n",
              "Precision  70.3  78.9  79.2  77.5         RF\n",
              "Recall     57.1  73.9  73.9  73.9       LGBM\n",
              "Accuracy   73.7  82.0  82.2  81.3         RF\n",
              "F1         63.0  76.3  76.5  75.7         RF"
            ],
            "text/html": [
              "\n",
              "  <div id=\"df-1d3ab3fc-dc05-4201-80b5-5daabe09d0d8\">\n",
              "    <div class=\"colab-df-container\">\n",
              "      <div>\n",
              "<style scoped>\n",
              "    .dataframe tbody tr th:only-of-type {\n",
              "        vertical-align: middle;\n",
              "    }\n",
              "\n",
              "    .dataframe tbody tr th {\n",
              "        vertical-align: top;\n",
              "    }\n",
              "\n",
              "    .dataframe thead th {\n",
              "        text-align: right;\n",
              "    }\n",
              "</style>\n",
              "<table border=\"1\" class=\"dataframe\">\n",
              "  <thead>\n",
              "    <tr style=\"text-align: right;\">\n",
              "      <th></th>\n",
              "      <th>SGD</th>\n",
              "      <th>LGBM</th>\n",
              "      <th>RF</th>\n",
              "      <th>NN</th>\n",
              "      <th>Best Score</th>\n",
              "    </tr>\n",
              "    <tr>\n",
              "      <th>Score</th>\n",
              "      <th></th>\n",
              "      <th></th>\n",
              "      <th></th>\n",
              "      <th></th>\n",
              "      <th></th>\n",
              "    </tr>\n",
              "  </thead>\n",
              "  <tbody>\n",
              "    <tr>\n",
              "      <th>Precision</th>\n",
              "      <td>70.3</td>\n",
              "      <td>78.9</td>\n",
              "      <td>79.2</td>\n",
              "      <td>77.5</td>\n",
              "      <td>RF</td>\n",
              "    </tr>\n",
              "    <tr>\n",
              "      <th>Recall</th>\n",
              "      <td>57.1</td>\n",
              "      <td>73.9</td>\n",
              "      <td>73.9</td>\n",
              "      <td>73.9</td>\n",
              "      <td>LGBM</td>\n",
              "    </tr>\n",
              "    <tr>\n",
              "      <th>Accuracy</th>\n",
              "      <td>73.7</td>\n",
              "      <td>82.0</td>\n",
              "      <td>82.2</td>\n",
              "      <td>81.3</td>\n",
              "      <td>RF</td>\n",
              "    </tr>\n",
              "    <tr>\n",
              "      <th>F1</th>\n",
              "      <td>63.0</td>\n",
              "      <td>76.3</td>\n",
              "      <td>76.5</td>\n",
              "      <td>75.7</td>\n",
              "      <td>RF</td>\n",
              "    </tr>\n",
              "  </tbody>\n",
              "</table>\n",
              "</div>\n",
              "      <button class=\"colab-df-convert\" onclick=\"convertToInteractive('df-1d3ab3fc-dc05-4201-80b5-5daabe09d0d8')\"\n",
              "              title=\"Convert this dataframe to an interactive table.\"\n",
              "              style=\"display:none;\">\n",
              "        \n",
              "  <svg xmlns=\"http://www.w3.org/2000/svg\" height=\"24px\"viewBox=\"0 0 24 24\"\n",
              "       width=\"24px\">\n",
              "    <path d=\"M0 0h24v24H0V0z\" fill=\"none\"/>\n",
              "    <path d=\"M18.56 5.44l.94 2.06.94-2.06 2.06-.94-2.06-.94-.94-2.06-.94 2.06-2.06.94zm-11 1L8.5 8.5l.94-2.06 2.06-.94-2.06-.94L8.5 2.5l-.94 2.06-2.06.94zm10 10l.94 2.06.94-2.06 2.06-.94-2.06-.94-.94-2.06-.94 2.06-2.06.94z\"/><path d=\"M17.41 7.96l-1.37-1.37c-.4-.4-.92-.59-1.43-.59-.52 0-1.04.2-1.43.59L10.3 9.45l-7.72 7.72c-.78.78-.78 2.05 0 2.83L4 21.41c.39.39.9.59 1.41.59.51 0 1.02-.2 1.41-.59l7.78-7.78 2.81-2.81c.8-.78.8-2.07 0-2.86zM5.41 20L4 18.59l7.72-7.72 1.47 1.35L5.41 20z\"/>\n",
              "  </svg>\n",
              "      </button>\n",
              "      \n",
              "  <style>\n",
              "    .colab-df-container {\n",
              "      display:flex;\n",
              "      flex-wrap:wrap;\n",
              "      gap: 12px;\n",
              "    }\n",
              "\n",
              "    .colab-df-convert {\n",
              "      background-color: #E8F0FE;\n",
              "      border: none;\n",
              "      border-radius: 50%;\n",
              "      cursor: pointer;\n",
              "      display: none;\n",
              "      fill: #1967D2;\n",
              "      height: 32px;\n",
              "      padding: 0 0 0 0;\n",
              "      width: 32px;\n",
              "    }\n",
              "\n",
              "    .colab-df-convert:hover {\n",
              "      background-color: #E2EBFA;\n",
              "      box-shadow: 0px 1px 2px rgba(60, 64, 67, 0.3), 0px 1px 3px 1px rgba(60, 64, 67, 0.15);\n",
              "      fill: #174EA6;\n",
              "    }\n",
              "\n",
              "    [theme=dark] .colab-df-convert {\n",
              "      background-color: #3B4455;\n",
              "      fill: #D2E3FC;\n",
              "    }\n",
              "\n",
              "    [theme=dark] .colab-df-convert:hover {\n",
              "      background-color: #434B5C;\n",
              "      box-shadow: 0px 1px 3px 1px rgba(0, 0, 0, 0.15);\n",
              "      filter: drop-shadow(0px 1px 2px rgba(0, 0, 0, 0.3));\n",
              "      fill: #FFFFFF;\n",
              "    }\n",
              "  </style>\n",
              "\n",
              "      <script>\n",
              "        const buttonEl =\n",
              "          document.querySelector('#df-1d3ab3fc-dc05-4201-80b5-5daabe09d0d8 button.colab-df-convert');\n",
              "        buttonEl.style.display =\n",
              "          google.colab.kernel.accessAllowed ? 'block' : 'none';\n",
              "\n",
              "        async function convertToInteractive(key) {\n",
              "          const element = document.querySelector('#df-1d3ab3fc-dc05-4201-80b5-5daabe09d0d8');\n",
              "          const dataTable =\n",
              "            await google.colab.kernel.invokeFunction('convertToInteractive',\n",
              "                                                     [key], {});\n",
              "          if (!dataTable) return;\n",
              "\n",
              "          const docLinkHtml = 'Like what you see? Visit the ' +\n",
              "            '<a target=\"_blank\" href=https://colab.research.google.com/notebooks/data_table.ipynb>data table notebook</a>'\n",
              "            + ' to learn more about interactive tables.';\n",
              "          element.innerHTML = '';\n",
              "          dataTable['output_type'] = 'display_data';\n",
              "          await google.colab.output.renderOutput(dataTable, element);\n",
              "          const docLink = document.createElement('div');\n",
              "          docLink.innerHTML = docLinkHtml;\n",
              "          element.appendChild(docLink);\n",
              "        }\n",
              "      </script>\n",
              "    </div>\n",
              "  </div>\n",
              "  "
            ]
          },
          "metadata": {},
          "execution_count": 28
        }
      ]
    },
    {
      "cell_type": "markdown",
      "source": [
        "Comparing results from the validation data we see that our Neural Network's precision just barely beat our Random Forest's with a value of 79.3%, but the RF comes out on top in terms of accuracy with a value of 81.1%.\n",
        "\n",
        "Based on the results of testing on validation data, I will not be moving forward with the SGDClassifier. "
      ],
      "metadata": {
        "id": "5RNn4TmuSYJ-"
      }
    },
    {
      "cell_type": "markdown",
      "source": [
        "#Evaluating on Final Test Set\n",
        "The final step before model selection is to test each model on the final test set.\n",
        "\n",
        "The validation set used in the previous step was originally my final test set, but I deicded to run an additional query  right before I was ready to do my final test. This new data is from this query and contains data from tasks that were created and completed AFTER the date of my original query. Since I have the privledge of acquring new product data to test my models on, I thought this would be a true test."
      ],
      "metadata": {
        "id": "gW2p9ExA-MGE"
      }
    },
    {
      "cell_type": "markdown",
      "source": [
        "##Models Scores for Final Test Set"
      ],
      "metadata": {
        "id": "bISlGJKgTN0i"
      }
    },
    {
      "cell_type": "code",
      "source": [
        "#Getting predictions on final data\n",
        "LGBM_pred, rf_pred, nn_pred = LGBM.predict(Xs_final), RF.predict(X_final), knn.predict(Xn_final)\n",
        "pred_2, pred_3, pred_4 = LGBM_pred, rf_pred, nn_pred"
      ],
      "metadata": {
        "id": "AApewIMCE0KB"
      },
      "execution_count": 29,
      "outputs": []
    },
    {
      "cell_type": "code",
      "source": [
        "from sklearn.metrics import roc_curve, auc, precision_recall_curve, precision_score, confusion_matrix, recall_score, f1_score"
      ],
      "metadata": {
        "id": "0ExuQvo_-t8T"
      },
      "execution_count": 30,
      "outputs": []
    },
    {
      "cell_type": "code",
      "source": [
        "models_scores_table = pd.DataFrame({'LGBM':[accuracy_score(y_final,pred_2),\n",
        "                                                        precision_score(y_final,pred_2),\n",
        "                                                        recall_score(y_final,pred_2),\n",
        "                                                        f1_score(y_final,pred_2)],\n",
        "\n",
        "                                       'RF':[accuracy_score(y_final,pred_3),\n",
        "                                                        precision_score(y_final,pred_3),\n",
        "                                                        recall_score(y_final,pred_3),\n",
        "                                                        f1_score(y_final,pred_3)],\n",
        "\n",
        "                                      'NN':[accuracy_score(y_final,pred_4),\n",
        "                                                        precision_score(y_final,pred_4),\n",
        "                                                        recall_score(y_final,pred_4),\n",
        "                                                        f1_score(y_final,pred_4)]},\n",
        "                                                                              \n",
        "\n",
        "                                       \n",
        "                                      \n",
        "                                      \n",
        "                                      index=['Accuracy', 'Precision', 'Recall', 'F1 Score'])\n",
        "    \n",
        "    # Add 'Best Score' column\n",
        "models_scores_table['Best Score'] = models_scores_table.idxmax(axis=1)"
      ],
      "metadata": {
        "id": "j2MTbcaouy3j"
      },
      "execution_count": 31,
      "outputs": []
    },
    {
      "cell_type": "code",
      "source": [
        "models_scores_table"
      ],
      "metadata": {
        "colab": {
          "base_uri": "https://localhost:8080/",
          "height": 174
        },
        "id": "CKxZLerWjNPZ",
        "outputId": "34cbd2eb-0db2-4a61-ad24-185550b5021c"
      },
      "execution_count": 32,
      "outputs": [
        {
          "output_type": "execute_result",
          "data": {
            "text/plain": [
              "               LGBM        RF        NN Best Score\n",
              "Accuracy   0.773192  0.782486  0.768699         RF\n",
              "Precision  0.770365  0.761875  0.770222       LGBM\n",
              "Recall     0.690228  0.735483  0.675911         RF\n",
              "F1 Score   0.728098  0.748446  0.719991         RF"
            ],
            "text/html": [
              "\n",
              "  <div id=\"df-4cfa8350-b811-413e-adcf-bd8102dbc46d\">\n",
              "    <div class=\"colab-df-container\">\n",
              "      <div>\n",
              "<style scoped>\n",
              "    .dataframe tbody tr th:only-of-type {\n",
              "        vertical-align: middle;\n",
              "    }\n",
              "\n",
              "    .dataframe tbody tr th {\n",
              "        vertical-align: top;\n",
              "    }\n",
              "\n",
              "    .dataframe thead th {\n",
              "        text-align: right;\n",
              "    }\n",
              "</style>\n",
              "<table border=\"1\" class=\"dataframe\">\n",
              "  <thead>\n",
              "    <tr style=\"text-align: right;\">\n",
              "      <th></th>\n",
              "      <th>LGBM</th>\n",
              "      <th>RF</th>\n",
              "      <th>NN</th>\n",
              "      <th>Best Score</th>\n",
              "    </tr>\n",
              "  </thead>\n",
              "  <tbody>\n",
              "    <tr>\n",
              "      <th>Accuracy</th>\n",
              "      <td>0.773192</td>\n",
              "      <td>0.782486</td>\n",
              "      <td>0.768699</td>\n",
              "      <td>RF</td>\n",
              "    </tr>\n",
              "    <tr>\n",
              "      <th>Precision</th>\n",
              "      <td>0.770365</td>\n",
              "      <td>0.761875</td>\n",
              "      <td>0.770222</td>\n",
              "      <td>LGBM</td>\n",
              "    </tr>\n",
              "    <tr>\n",
              "      <th>Recall</th>\n",
              "      <td>0.690228</td>\n",
              "      <td>0.735483</td>\n",
              "      <td>0.675911</td>\n",
              "      <td>RF</td>\n",
              "    </tr>\n",
              "    <tr>\n",
              "      <th>F1 Score</th>\n",
              "      <td>0.728098</td>\n",
              "      <td>0.748446</td>\n",
              "      <td>0.719991</td>\n",
              "      <td>RF</td>\n",
              "    </tr>\n",
              "  </tbody>\n",
              "</table>\n",
              "</div>\n",
              "      <button class=\"colab-df-convert\" onclick=\"convertToInteractive('df-4cfa8350-b811-413e-adcf-bd8102dbc46d')\"\n",
              "              title=\"Convert this dataframe to an interactive table.\"\n",
              "              style=\"display:none;\">\n",
              "        \n",
              "  <svg xmlns=\"http://www.w3.org/2000/svg\" height=\"24px\"viewBox=\"0 0 24 24\"\n",
              "       width=\"24px\">\n",
              "    <path d=\"M0 0h24v24H0V0z\" fill=\"none\"/>\n",
              "    <path d=\"M18.56 5.44l.94 2.06.94-2.06 2.06-.94-2.06-.94-.94-2.06-.94 2.06-2.06.94zm-11 1L8.5 8.5l.94-2.06 2.06-.94-2.06-.94L8.5 2.5l-.94 2.06-2.06.94zm10 10l.94 2.06.94-2.06 2.06-.94-2.06-.94-.94-2.06-.94 2.06-2.06.94z\"/><path d=\"M17.41 7.96l-1.37-1.37c-.4-.4-.92-.59-1.43-.59-.52 0-1.04.2-1.43.59L10.3 9.45l-7.72 7.72c-.78.78-.78 2.05 0 2.83L4 21.41c.39.39.9.59 1.41.59.51 0 1.02-.2 1.41-.59l7.78-7.78 2.81-2.81c.8-.78.8-2.07 0-2.86zM5.41 20L4 18.59l7.72-7.72 1.47 1.35L5.41 20z\"/>\n",
              "  </svg>\n",
              "      </button>\n",
              "      \n",
              "  <style>\n",
              "    .colab-df-container {\n",
              "      display:flex;\n",
              "      flex-wrap:wrap;\n",
              "      gap: 12px;\n",
              "    }\n",
              "\n",
              "    .colab-df-convert {\n",
              "      background-color: #E8F0FE;\n",
              "      border: none;\n",
              "      border-radius: 50%;\n",
              "      cursor: pointer;\n",
              "      display: none;\n",
              "      fill: #1967D2;\n",
              "      height: 32px;\n",
              "      padding: 0 0 0 0;\n",
              "      width: 32px;\n",
              "    }\n",
              "\n",
              "    .colab-df-convert:hover {\n",
              "      background-color: #E2EBFA;\n",
              "      box-shadow: 0px 1px 2px rgba(60, 64, 67, 0.3), 0px 1px 3px 1px rgba(60, 64, 67, 0.15);\n",
              "      fill: #174EA6;\n",
              "    }\n",
              "\n",
              "    [theme=dark] .colab-df-convert {\n",
              "      background-color: #3B4455;\n",
              "      fill: #D2E3FC;\n",
              "    }\n",
              "\n",
              "    [theme=dark] .colab-df-convert:hover {\n",
              "      background-color: #434B5C;\n",
              "      box-shadow: 0px 1px 3px 1px rgba(0, 0, 0, 0.15);\n",
              "      filter: drop-shadow(0px 1px 2px rgba(0, 0, 0, 0.3));\n",
              "      fill: #FFFFFF;\n",
              "    }\n",
              "  </style>\n",
              "\n",
              "      <script>\n",
              "        const buttonEl =\n",
              "          document.querySelector('#df-4cfa8350-b811-413e-adcf-bd8102dbc46d button.colab-df-convert');\n",
              "        buttonEl.style.display =\n",
              "          google.colab.kernel.accessAllowed ? 'block' : 'none';\n",
              "\n",
              "        async function convertToInteractive(key) {\n",
              "          const element = document.querySelector('#df-4cfa8350-b811-413e-adcf-bd8102dbc46d');\n",
              "          const dataTable =\n",
              "            await google.colab.kernel.invokeFunction('convertToInteractive',\n",
              "                                                     [key], {});\n",
              "          if (!dataTable) return;\n",
              "\n",
              "          const docLinkHtml = 'Like what you see? Visit the ' +\n",
              "            '<a target=\"_blank\" href=https://colab.research.google.com/notebooks/data_table.ipynb>data table notebook</a>'\n",
              "            + ' to learn more about interactive tables.';\n",
              "          element.innerHTML = '';\n",
              "          dataTable['output_type'] = 'display_data';\n",
              "          await google.colab.output.renderOutput(dataTable, element);\n",
              "          const docLink = document.createElement('div');\n",
              "          docLink.innerHTML = docLinkHtml;\n",
              "          element.appendChild(docLink);\n",
              "        }\n",
              "      </script>\n",
              "    </div>\n",
              "  </div>\n",
              "  "
            ]
          },
          "metadata": {},
          "execution_count": 32
        }
      ]
    },
    {
      "cell_type": "markdown",
      "source": [
        "From this table we are able to see that our Random Forest model is out performing all other models, except when looking at precision, which is where our Neural Network has the best score. "
      ],
      "metadata": {
        "id": "PPrb0qZzTUD_"
      }
    },
    {
      "cell_type": "markdown",
      "source": [
        "#Comparing Models using ROC and PRC\n",
        "The ROC chart shows the curve of the true and false positive rates for different threshold values between 0 and 1. A perfect classifier would have a curve that goes straight up the left side and straight across the top. The diagonal line across the chart represents the probability of predicting correctly with a 50/50 random prediction.\n",
        "\n",
        "The area under the curve (AUC) is a value between 0 and 1 that quantifies the overall performance of the model. One way of interpreting AUC is as the probability that the model ranks a random positive example more highly than a random negative example. The closer to 1 this value is, the better the model.\n",
        "\n",
        "\n",
        "Precision-Recall curves (AUPRC) are common metrics for evaluating classification performance for imbalanced problems. Compared with AUROC, AUPRC is a more appropriate metric for highly imbalanced datasets.While our dataset is not highly imbalanced, it is slightly so the AUPRC will be taken into consideration."
      ],
      "metadata": {
        "id": "TbUSfGBi3lda"
      }
    },
    {
      "cell_type": "code",
      "source": [
        "# ROC curve and AUC\n",
        "\n",
        "fpr_2, tpr_2, threshold = roc_curve(y_final, pred_2)\n",
        "auc_2 = auc(fpr_2, tpr_2)\n",
        "fpr_3, tpr_3, threshold = roc_curve(y_final, pred_3)\n",
        "auc_3 = auc(fpr_3, tpr_3)\n",
        "fpr_4, tpr_4, threshold = roc_curve(y_final, pred_4)\n",
        "auc_4 = auc(fpr_4, tpr_4)\n",
        "\n",
        "# Precision-recall curve and AUPRC\n",
        "\n",
        "precision_2, recall_2, thresholds = precision_recall_curve(y_final, pred_2)\n",
        "auprc_2 = auc(recall_2, precision_2)\n",
        "precision_3, recall_3, thresholds = precision_recall_curve(y_final, pred_3)\n",
        "auprc_3 = auc(recall_3, precision_3)\n",
        "precision_4, recall_4, thresholds = precision_recall_curve(y_final, pred_4)\n",
        "auprc_4 = auc(recall_4, precision_4)\n",
        "\n",
        "# Plot results\n",
        "fig, ax = plt.subplots( nrows=1, ncols=2, figsize=(24,9) )\n",
        "plt.subplots_adjust(bottom=0.15)\n",
        "\n",
        "ax[0].set_title('ROC curve')\n",
        "\n",
        "ax[0].plot(fpr_2, tpr_2, label = 'LGBM, AUC = %0.2f' % auc_2)\n",
        "ax[0].plot(fpr_3, tpr_3, label = 'RF, AUC = %0.2f' % auc_3)\n",
        "ax[0].plot(fpr_4, tpr_4, label = 'NN, AUC = %0.2f' % auc_4)\n",
        "ax[0].legend(loc = 'lower right')\n",
        "ax[0].set(ylabel = 'True Positive Rate', xlabel = 'False Positive Rate')\n",
        "ax[0].plot([0, 1], [0, 1], 'k:')\n",
        "\n",
        "\n",
        "ax[1].set_title('PR curve')\n",
        "\n",
        "ax[1].plot(recall_2, precision_2, label = 'LGBM, AUPRC = %0.2f' % auprc_2)\n",
        "ax[1].plot(recall_3, precision_3, label = 'RF, AUPRC = %0.2f' % auprc_3)\n",
        "ax[1].plot(recall_4, precision_4, label = 'NN, AUPRC = %0.2f' % auprc_4)\n",
        "ax[1].legend(loc = 'upper right')\n",
        "ax[1].set(ylabel = 'Precision', xlabel = 'Recall')\n",
        "\n",
        "\n",
        "\n",
        "\n",
        "plt.show()"
      ],
      "metadata": {
        "id": "z_qSFGqx-N2c",
        "colab": {
          "base_uri": "https://localhost:8080/",
          "height": 550
        },
        "outputId": "0ead9c83-5c74-4066-e3c8-f02ea9803410"
      },
      "execution_count": 33,
      "outputs": [
        {
          "output_type": "display_data",
          "data": {
            "text/plain": [
              "<Figure size 1728x648 with 2 Axes>"
            ],
            "image/png": "[encoded data removed]"
          },
          "metadata": {}
        }
      ]
    },
    {
      "cell_type": "markdown",
      "source": [
        "ROC AUC Ranking:\n",
        "\n",
        "\n",
        "1.   RF (0.78)\n",
        "2.   LGBM (0.76)\n",
        "3.   NN (0.75)\n",
        "\n",
        "AUPRC Ranking:\n",
        "\n",
        "\n",
        "1.   RF (0.81)\n",
        "2.   LGBM (0.80)\n",
        "3.   NN (0.79)\n"
      ],
      "metadata": {
        "id": "Ky9Cw9RUUKYE"
      }
    },
    {
      "cell_type": "markdown",
      "source": [
        "#Compaing Models using Confusion Matrix\n",
        "Although widely used, classification accuracy and AUC are almost universally inappropriate for imbalanced classification. The reason is, a high accuracy (or low error) is achievable by a no skill model that only predicts the majority class. While our data is not highly imbalanced, there is an imbalance between target classes. \n",
        "\n",
        "The confusion matrix provides more insight into not only the performance of a predictive model but also which classes are being predicted correctly, which incorrectly, and what type of errors are being made. \n",
        "\n"
      ],
      "metadata": {
        "id": "3bqrvV43yP3D"
      }
    },
    {
      "cell_type": "code",
      "source": [
        "conf2, conf3, conf4 =  confusion_matrix(y_final,pred_2), confusion_matrix(y_final,pred_3), confusion_matrix(y_final,pred_4)\n",
        "\n",
        "sns.set_theme(style=\"white\")\n",
        "fig,axes = plt.subplots(1,3, figsize=(28, 6), sharey=True)\n",
        "group_names = ['True Neg','False Pos','False Neg','True Pos']\n",
        "group_counts = [\"{0:0.0f}\".format(value) for value in\n",
        "                  conf2.flatten()]\n",
        "group_percentages = [\"{0:.2%}\".format(value) for value in\n",
        "                      conf2.flatten()/np.sum(conf2)]\n",
        "labels2 = [f\"{v1}\\n{v2}\\n{v3}\" for v1, v2, v3 in\n",
        "            zip(group_names,group_counts,group_percentages)]\n",
        "labels2 = np.asarray(labels2).reshape(2,2)\n",
        "sns.heatmap(ax=axes[0],data=conf2, center=0, linewidths=.5, cbar=False, cbar_kws={\"shrink\": .5}, annot=labels2, fmt='')\n",
        "axes[0].set_title('LGBM')\n",
        "\n",
        "group_counts = [\"{0:0.0f}\".format(value) for value in\n",
        "                  conf3.flatten()]\n",
        "group_percentages = [\"{0:.2%}\".format(value) for value in\n",
        "                      conf3.flatten()/np.sum(conf3)]\n",
        "labels3 = [f\"{v1}\\n{v2}\\n{v3}\" for v1, v2, v3 in\n",
        "            zip(group_names,group_counts,group_percentages)]\n",
        "labels3 = np.asarray(labels3).reshape(2,2)\n",
        "sns.heatmap(ax=axes[1],data=conf3, center=0, linewidths=.5, cbar=False, cbar_kws={\"shrink\": .5}, annot=labels3, fmt='')\n",
        "axes[1].set_title('RF')\n",
        "\n",
        "group_counts = [\"{0:0.0f}\".format(value) for value in\n",
        "                  conf4.flatten()]\n",
        "group_percentages = [\"{0:.2%}\".format(value) for value in\n",
        "                      conf4.flatten()/np.sum(conf4)]\n",
        "labels4 = [f\"{v1}\\n{v2}\\n{v3}\" for v1, v2, v3 in\n",
        "            zip(group_names,group_counts,group_percentages)]\n",
        "labels4 = np.asarray(labels4).reshape(2,2)\n",
        "sns.heatmap(ax=axes[2],data=conf4, center=0, linewidths=.5, cbar=False, cbar_kws={\"shrink\": .5}, annot=labels4, fmt='')\n",
        "axes[2].set_title('NN')\n"
      ],
      "metadata": {
        "colab": {
          "base_uri": "https://localhost:8080/",
          "height": 413
        },
        "id": "5VcLW-BXLYAP",
        "outputId": "499bbcf4-ecbb-4a38-b58b-ebe82922b78d"
      },
      "execution_count": 35,
      "outputs": [
        {
          "output_type": "execute_result",
          "data": {
            "text/plain": [
              "Text(0.5, 1.0, 'NN')"
            ]
          },
          "metadata": {},
          "execution_count": 35
        },
        {
          "output_type": "display_data",
          "data": {
            "text/plain": [
              "<Figure size 2016x432 with 3 Axes>"
            ],
            "image/png": "[encoded data removed]"
          },
          "metadata": {}
        }
      ]
    },
    {
      "cell_type": "markdown",
      "source": [
        "#Final Model Selection\n",
        "\n",
        "###Continuity of Care Lock\n",
        "The current Continuity of Care lock is a 6 hour lock that is placed on tasks. If we think of this as a machine learning algorithm, the model would be predicting 0 for every record, putting a 6 hour lock on every task assuming the clinician will unlock and complete the task. \n",
        "\n",
        "###Predictive Errors\n",
        "Thinking about our models in these terms, False Negative errors (predicted 0 actually 1) are the same way the current system works. This means False Negative errors are not detrimental to our models. \n",
        "\n",
        "The erros that we should be trying to minimize are False Positives (predicted 1 actually 0). False Positives represent tasks where the clinician would unlock and complete a task, but the model incorrectly thinks they would not and unlocks the task and reassigns it to another clinician. \n",
        "\n",
        "With this in mind the most important metric for evaluating our models is Precision. \n",
        "\\begin{align}\n",
        "        Precision = \\frac{True Positives \\, }{True Positives + False Positives}\n",
        "    \\end{align}\n",
        "\n",
        "As the number of FP's decrease, the precision increases. \n",
        "###Final Model: Neural Network\n",
        "Since all 3 of our  models have roughly the same accuracy and AUC, the final model we will be selecting is the one with the highest precision and had the fewest false positives, which is our Neural Network."
      ],
      "metadata": {
        "id": "iv1pn-laaQ06"
      }
    },
    {
      "cell_type": "markdown",
      "source": [
        "#Conclusion\n",
        "\n",
        "In order to implementing our Neural Network model as the new Continuity of Care lock we will need to assign a cost to:\n",
        "\n",
        "1. Improvement to Customer Experience by eliminating 6 hour wait time\n",
        "2. Impact of False Positives on Continuity of Care\n",
        "\n",
        "    * Pushing patients to a different clinician when their clinician would be available.\n"
      ],
      "metadata": {
        "id": "h615vjwhgUmq"
      }
    }
  ]
}